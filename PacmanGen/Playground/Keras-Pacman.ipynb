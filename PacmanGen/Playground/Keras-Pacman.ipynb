{
 "cells": [
  {
   "cell_type": "markdown",
   "metadata": {},
   "source": [
    "# Keras model for PacmanGen"
   ]
  },
  {
   "cell_type": "code",
   "execution_count": null,
   "metadata": {},
   "outputs": [],
   "source": [
    "import keras\n",
    "from keras.models import Sequential\n",
    "from keras.layers import Dense, Dropout, Activation\n",
    "from keras.optimizers import SGD\n",
    "import numpy as np\n",
    "\n",
    "# Config\n",
    "board_width = 28\n",
    "board_height = 31\n",
    "output = 4\n",
    "\n",
    "# Intermediate variables\n",
    "board_size = board_width * board_height\n",
    "\n",
    "# Model design\n",
    "model = Sequential()\n",
    "model.add(Dense(board_size*2, activation='relu', input_shape=(board_size,), name='Game_Input'))\n",
    "#model.add(Dropout(0.5))\n",
    "model.add(Dense(int(board_size / output), activation='relu', name='Hidden_1'))\n",
    "#model.add(Dropout(0.5))\n",
    "model.add(Dense(output ** 2, activation='relu', name='Hidden_2'))\n",
    "model.add(Dense(output, activation='softmax', name='Game_Output'))"
   ]
  },
  {
   "cell_type": "markdown",
   "metadata": {},
   "source": [
    "# Visualizing the model"
   ]
  },
  {
   "cell_type": "code",
   "execution_count": 2,
   "metadata": {},
   "outputs": [
    {
     "data": {
      "image/svg+xml": [
       "<svg height=\"377pt\" viewBox=\"0.00 0.00 282.00 377.00\" width=\"282pt\" xmlns=\"http://www.w3.org/2000/svg\" xmlns:xlink=\"http://www.w3.org/1999/xlink\">\n",
       "<g class=\"graph\" id=\"graph0\" transform=\"scale(1 1) rotate(0) translate(4 373)\">\n",
       "<title>G</title>\n",
       "<polygon fill=\"white\" points=\"-4,4 -4,-373 278,-373 278,4 -4,4\" stroke=\"none\"/>\n",
       "<!-- 2726895209048 -->\n",
       "<g class=\"node\" id=\"node1\"><title>2726895209048</title>\n",
       "<polygon fill=\"none\" points=\"0,-249.5 0,-295.5 274,-295.5 274,-249.5 0,-249.5\" stroke=\"black\"/>\n",
       "<text font-family=\"Times New Roman,serif\" font-size=\"14.00\" text-anchor=\"middle\" x=\"64\" y=\"-268.8\">Game_Input: Dense</text>\n",
       "<polyline fill=\"none\" points=\"128,-249.5 128,-295.5 \" stroke=\"black\"/>\n",
       "<text font-family=\"Times New Roman,serif\" font-size=\"14.00\" text-anchor=\"middle\" x=\"156\" y=\"-280.3\">input:</text>\n",
       "<polyline fill=\"none\" points=\"128,-272.5 184,-272.5 \" stroke=\"black\"/>\n",
       "<text font-family=\"Times New Roman,serif\" font-size=\"14.00\" text-anchor=\"middle\" x=\"156\" y=\"-257.3\">output:</text>\n",
       "<polyline fill=\"none\" points=\"184,-249.5 184,-295.5 \" stroke=\"black\"/>\n",
       "<text font-family=\"Times New Roman,serif\" font-size=\"14.00\" text-anchor=\"middle\" x=\"229\" y=\"-280.3\">(None, 868)</text>\n",
       "<polyline fill=\"none\" points=\"184,-272.5 274,-272.5 \" stroke=\"black\"/>\n",
       "<text font-family=\"Times New Roman,serif\" font-size=\"14.00\" text-anchor=\"middle\" x=\"229\" y=\"-257.3\">(None, 1736)</text>\n",
       "</g>\n",
       "<!-- 2727008410760 -->\n",
       "<g class=\"node\" id=\"node2\"><title>2727008410760</title>\n",
       "<polygon fill=\"none\" points=\"7.5,-166.5 7.5,-212.5 266.5,-212.5 266.5,-166.5 7.5,-166.5\" stroke=\"black\"/>\n",
       "<text font-family=\"Times New Roman,serif\" font-size=\"14.00\" text-anchor=\"middle\" x=\"64\" y=\"-185.8\">Hidden_1: Dense</text>\n",
       "<polyline fill=\"none\" points=\"120.5,-166.5 120.5,-212.5 \" stroke=\"black\"/>\n",
       "<text font-family=\"Times New Roman,serif\" font-size=\"14.00\" text-anchor=\"middle\" x=\"148.5\" y=\"-197.3\">input:</text>\n",
       "<polyline fill=\"none\" points=\"120.5,-189.5 176.5,-189.5 \" stroke=\"black\"/>\n",
       "<text font-family=\"Times New Roman,serif\" font-size=\"14.00\" text-anchor=\"middle\" x=\"148.5\" y=\"-174.3\">output:</text>\n",
       "<polyline fill=\"none\" points=\"176.5,-166.5 176.5,-212.5 \" stroke=\"black\"/>\n",
       "<text font-family=\"Times New Roman,serif\" font-size=\"14.00\" text-anchor=\"middle\" x=\"221.5\" y=\"-197.3\">(None, 1736)</text>\n",
       "<polyline fill=\"none\" points=\"176.5,-189.5 266.5,-189.5 \" stroke=\"black\"/>\n",
       "<text font-family=\"Times New Roman,serif\" font-size=\"14.00\" text-anchor=\"middle\" x=\"221.5\" y=\"-174.3\">(None, 217)</text>\n",
       "</g>\n",
       "<!-- 2726895209048&#45;&gt;2727008410760 -->\n",
       "<g class=\"edge\" id=\"edge2\"><title>2726895209048-&gt;2727008410760</title>\n",
       "<path d=\"M137,-249.366C137,-241.152 137,-231.658 137,-222.725\" fill=\"none\" stroke=\"black\"/>\n",
       "<polygon fill=\"black\" points=\"140.5,-222.607 137,-212.607 133.5,-222.607 140.5,-222.607\" stroke=\"black\"/>\n",
       "</g>\n",
       "<!-- 2727010927672 -->\n",
       "<g class=\"node\" id=\"node3\"><title>2727010927672</title>\n",
       "<polygon fill=\"none\" points=\"11,-83.5 11,-129.5 263,-129.5 263,-83.5 11,-83.5\" stroke=\"black\"/>\n",
       "<text font-family=\"Times New Roman,serif\" font-size=\"14.00\" text-anchor=\"middle\" x=\"67.5\" y=\"-102.8\">Hidden_2: Dense</text>\n",
       "<polyline fill=\"none\" points=\"124,-83.5 124,-129.5 \" stroke=\"black\"/>\n",
       "<text font-family=\"Times New Roman,serif\" font-size=\"14.00\" text-anchor=\"middle\" x=\"152\" y=\"-114.3\">input:</text>\n",
       "<polyline fill=\"none\" points=\"124,-106.5 180,-106.5 \" stroke=\"black\"/>\n",
       "<text font-family=\"Times New Roman,serif\" font-size=\"14.00\" text-anchor=\"middle\" x=\"152\" y=\"-91.3\">output:</text>\n",
       "<polyline fill=\"none\" points=\"180,-83.5 180,-129.5 \" stroke=\"black\"/>\n",
       "<text font-family=\"Times New Roman,serif\" font-size=\"14.00\" text-anchor=\"middle\" x=\"221.5\" y=\"-114.3\">(None, 217)</text>\n",
       "<polyline fill=\"none\" points=\"180,-106.5 263,-106.5 \" stroke=\"black\"/>\n",
       "<text font-family=\"Times New Roman,serif\" font-size=\"14.00\" text-anchor=\"middle\" x=\"221.5\" y=\"-91.3\">(None, 16)</text>\n",
       "</g>\n",
       "<!-- 2727008410760&#45;&gt;2727010927672 -->\n",
       "<g class=\"edge\" id=\"edge3\"><title>2727008410760-&gt;2727010927672</title>\n",
       "<path d=\"M137,-166.366C137,-158.152 137,-148.658 137,-139.725\" fill=\"none\" stroke=\"black\"/>\n",
       "<polygon fill=\"black\" points=\"140.5,-139.607 137,-129.607 133.5,-139.607 140.5,-139.607\" stroke=\"black\"/>\n",
       "</g>\n",
       "<!-- 2727010929744 -->\n",
       "<g class=\"node\" id=\"node4\"><title>2727010929744</title>\n",
       "<polygon fill=\"none\" points=\"2,-0.5 2,-46.5 272,-46.5 272,-0.5 2,-0.5\" stroke=\"black\"/>\n",
       "<text font-family=\"Times New Roman,serif\" font-size=\"14.00\" text-anchor=\"middle\" x=\"70.5\" y=\"-19.8\">Game_Output: Dense</text>\n",
       "<polyline fill=\"none\" points=\"139,-0.5 139,-46.5 \" stroke=\"black\"/>\n",
       "<text font-family=\"Times New Roman,serif\" font-size=\"14.00\" text-anchor=\"middle\" x=\"167\" y=\"-31.3\">input:</text>\n",
       "<polyline fill=\"none\" points=\"139,-23.5 195,-23.5 \" stroke=\"black\"/>\n",
       "<text font-family=\"Times New Roman,serif\" font-size=\"14.00\" text-anchor=\"middle\" x=\"167\" y=\"-8.3\">output:</text>\n",
       "<polyline fill=\"none\" points=\"195,-0.5 195,-46.5 \" stroke=\"black\"/>\n",
       "<text font-family=\"Times New Roman,serif\" font-size=\"14.00\" text-anchor=\"middle\" x=\"233.5\" y=\"-31.3\">(None, 16)</text>\n",
       "<polyline fill=\"none\" points=\"195,-23.5 272,-23.5 \" stroke=\"black\"/>\n",
       "<text font-family=\"Times New Roman,serif\" font-size=\"14.00\" text-anchor=\"middle\" x=\"233.5\" y=\"-8.3\">(None, 4)</text>\n",
       "</g>\n",
       "<!-- 2727010927672&#45;&gt;2727010929744 -->\n",
       "<g class=\"edge\" id=\"edge4\"><title>2727010927672-&gt;2727010929744</title>\n",
       "<path d=\"M137,-83.3664C137,-75.1516 137,-65.6579 137,-56.7252\" fill=\"none\" stroke=\"black\"/>\n",
       "<polygon fill=\"black\" points=\"140.5,-56.6068 137,-46.6068 133.5,-56.6069 140.5,-56.6068\" stroke=\"black\"/>\n",
       "</g>\n",
       "<!-- 2727010926776 -->\n",
       "<g class=\"node\" id=\"node5\"><title>2727010926776</title>\n",
       "<polygon fill=\"none\" points=\"85,-332.5 85,-368.5 189,-368.5 189,-332.5 85,-332.5\" stroke=\"black\"/>\n",
       "<text font-family=\"Times New Roman,serif\" font-size=\"14.00\" text-anchor=\"middle\" x=\"137\" y=\"-346.8\">2727010926776</text>\n",
       "</g>\n",
       "<!-- 2727010926776&#45;&gt;2726895209048 -->\n",
       "<g class=\"edge\" id=\"edge1\"><title>2727010926776-&gt;2726895209048</title>\n",
       "<path d=\"M137,-332.254C137,-324.363 137,-314.749 137,-305.602\" fill=\"none\" stroke=\"black\"/>\n",
       "<polygon fill=\"black\" points=\"140.5,-305.591 137,-295.591 133.5,-305.591 140.5,-305.591\" stroke=\"black\"/>\n",
       "</g>\n",
       "</g>\n",
       "</svg>"
      ],
      "text/plain": [
       "<IPython.core.display.SVG object>"
      ]
     },
     "execution_count": 2,
     "metadata": {},
     "output_type": "execute_result"
    }
   ],
   "source": [
    "from IPython.display import SVG\n",
    "from keras.utils.vis_utils import model_to_dot\n",
    "\n",
    "SVG(model_to_dot(model, show_shapes=True, rankdir='TD').create(prog='dot', format='svg'))"
   ]
  },
  {
   "cell_type": "markdown",
   "metadata": {},
   "source": [
    "# Example of usage\n",
    "The model can now be used to predict which move to use depending on the input.\n",
    "\n",
    "Then we can normalize it by picking the highest one."
   ]
  },
  {
   "cell_type": "code",
   "execution_count": 3,
   "metadata": {},
   "outputs": [
    {
     "name": "stdout",
     "output_type": "stream",
     "text": [
      "[0.04453371 0.1344914  0.294505   0.52646995]  =>  3\n",
      "[0.01445441 0.6863357  0.12567517 0.17353477]  =>  1\n",
      "[0.02435565 0.05235328 0.12804775 0.7952433 ]  =>  3\n",
      "[0.02373154 0.06209565 0.26833412 0.64583874]  =>  3\n",
      "[0.01041221 0.26441476 0.3979288  0.3272443 ]  =>  2\n",
      "[0.01393806 0.26138923 0.2993457  0.425327  ]  =>  3\n",
      "[0.05645213 0.23880485 0.16852474 0.5362182 ]  =>  3\n",
      "[0.05121413 0.61054367 0.20852871 0.1297135 ]  =>  1\n",
      "[0.07957233 0.25123957 0.2950102  0.37417787]  =>  3\n",
      "[0.03360724 0.60031027 0.13992791 0.22615464]  =>  1\n",
      "[0.03266286 0.06103888 0.05943346 0.84686476]  =>  3\n",
      "[0.09986354 0.12704949 0.22468601 0.54840094]  =>  3\n",
      "[0.1002489  0.5353117  0.1554567  0.20898272]  =>  1\n",
      "[0.01706802 0.7558964  0.19495143 0.03208412]  =>  1\n",
      "[0.07990058 0.2910066  0.3724698  0.25662306]  =>  2\n",
      "[0.04285434 0.06687528 0.1345095  0.7557608 ]  =>  3\n",
      "[0.11156584 0.35953933 0.24361387 0.28528094]  =>  1\n",
      "[0.12582277 0.18540888 0.21728337 0.471485  ]  =>  3\n",
      "[0.11282655 0.16786493 0.18548872 0.5338198 ]  =>  3\n",
      "[0.03478965 0.23930702 0.21680507 0.50909823]  =>  3\n",
      "[0.03748291 0.03160876 0.13930403 0.79160434]  =>  3\n",
      "[0.02038085 0.2909377  0.30003697 0.3886445 ]  =>  3\n",
      "[0.03061097 0.720121   0.14418426 0.10508373]  =>  1\n",
      "[0.01422955 0.14462622 0.15189965 0.68924457]  =>  3\n",
      "[0.03208004 0.37471908 0.3667291  0.22647181]  =>  1\n",
      "[0.04226517 0.11618222 0.22971852 0.6118341 ]  =>  3\n",
      "[0.03125151 0.4430603  0.24098717 0.28470102]  =>  1\n",
      "[0.07211348 0.10613644 0.09791592 0.72383416]  =>  3\n",
      "[0.05208402 0.2060483  0.3069504  0.43491727]  =>  3\n",
      "[0.03116959 0.24756339 0.30538908 0.41587797]  =>  3\n"
     ]
    }
   ],
   "source": [
    "for i in range(30):\n",
    "    input_data = np.random.randint(5, size=(1,board_size))\n",
    "    predict = model.predict(input_data)[0]\n",
    "    output = np.argmax(predict)\n",
    "    print(predict, \" => \",output)"
   ]
  },
  {
   "cell_type": "code",
   "execution_count": null,
   "metadata": {},
   "outputs": [],
   "source": []
  }
 ],
 "metadata": {
  "kernelspec": {
   "display_name": "Python 3",
   "language": "python",
   "name": "python3"
  },
  "language_info": {
   "codemirror_mode": {
    "name": "ipython",
    "version": 3
   },
   "file_extension": ".py",
   "mimetype": "text/x-python",
   "name": "python",
   "nbconvert_exporter": "python",
   "pygments_lexer": "ipython3",
   "version": "3.6.5"
  }
 },
 "nbformat": 4,
 "nbformat_minor": 2
}
