{
 "cells": [
  {
   "cell_type": "markdown",
   "metadata": {},
   "source": [
    "# Keras model for PacmanGen"
   ]
  },
  {
   "cell_type": "code",
   "execution_count": null,
   "metadata": {},
   "outputs": [],
   "source": [
    "import keras\n",
    "from keras.models import Sequential\n",
    "from keras.layers import Dense, Dropout, Activation\n",
    "from keras.optimizers import SGD\n",
    "import numpy as np\n",
    "\n",
    "# Config\n",
    "board_width = 28\n",
    "board_height = 31\n",
    "output = 4\n",
    "\n",
    "# Intermediate variables\n",
    "board_size = board_width * board_height\n",
    "\n",
    "# Model design\n",
    "model = Sequential()\n",
    "model.add(Dense(board_size*2, activation='relu', input_shape=(board_size,), name='Game_Input'))\n",
    "#model.add(Dropout(0.5))\n",
    "model.add(Dense(int(board_size / output), activation='relu', name='Hidden_1'))\n",
    "#model.add(Dropout(0.5))\n",
    "model.add(Dense(output ** 2, activation='relu', name='Hidden_2'))\n",
    "model.add(Dense(output, activation='softmax', name='Game_Output'))"
   ]
  },
  {
   "cell_type": "markdown",
   "metadata": {},
   "source": [
    "# Visualizing the model"
   ]
  },
  {
   "cell_type": "code",
   "execution_count": 2,
   "metadata": {},
   "outputs": [
    {
     "data": {
      "image/svg+xml": [
       "<svg height=\"377pt\" viewBox=\"0.00 0.00 282.00 377.00\" width=\"282pt\" xmlns=\"http://www.w3.org/2000/svg\" xmlns:xlink=\"http://www.w3.org/1999/xlink\">\n",
       "<g class=\"graph\" id=\"graph0\" transform=\"scale(1 1) rotate(0) translate(4 373)\">\n",
       "<title>G</title>\n",
       "<polygon fill=\"white\" points=\"-4,4 -4,-373 278,-373 278,4 -4,4\" stroke=\"none\"/>\n",
       "<!-- 2726895209048 -->\n",
       "<g class=\"node\" id=\"node1\"><title>2726895209048</title>\n",
       "<polygon fill=\"none\" points=\"0,-249.5 0,-295.5 274,-295.5 274,-249.5 0,-249.5\" stroke=\"black\"/>\n",
       "<text font-family=\"Times New Roman,serif\" font-size=\"14.00\" text-anchor=\"middle\" x=\"64\" y=\"-268.8\">Game_Input: Dense</text>\n",
       "<polyline fill=\"none\" points=\"128,-249.5 128,-295.5 \" stroke=\"black\"/>\n",
       "<text font-family=\"Times New Roman,serif\" font-size=\"14.00\" text-anchor=\"middle\" x=\"156\" y=\"-280.3\">input:</text>\n",
       "<polyline fill=\"none\" points=\"128,-272.5 184,-272.5 \" stroke=\"black\"/>\n",
       "<text font-family=\"Times New Roman,serif\" font-size=\"14.00\" text-anchor=\"middle\" x=\"156\" y=\"-257.3\">output:</text>\n",
       "<polyline fill=\"none\" points=\"184,-249.5 184,-295.5 \" stroke=\"black\"/>\n",
       "<text font-family=\"Times New Roman,serif\" font-size=\"14.00\" text-anchor=\"middle\" x=\"229\" y=\"-280.3\">(None, 868)</text>\n",
       "<polyline fill=\"none\" points=\"184,-272.5 274,-272.5 \" stroke=\"black\"/>\n",
       "<text font-family=\"Times New Roman,serif\" font-size=\"14.00\" text-anchor=\"middle\" x=\"229\" y=\"-257.3\">(None, 1736)</text>\n",
       "</g>\n",
       "<!-- 2727008410760 -->\n",
       "<g class=\"node\" id=\"node2\"><title>2727008410760</title>\n",
       "<polygon fill=\"none\" points=\"7.5,-166.5 7.5,-212.5 266.5,-212.5 266.5,-166.5 7.5,-166.5\" stroke=\"black\"/>\n",
       "<text font-family=\"Times New Roman,serif\" font-size=\"14.00\" text-anchor=\"middle\" x=\"64\" y=\"-185.8\">Hidden_1: Dense</text>\n",
       "<polyline fill=\"none\" points=\"120.5,-166.5 120.5,-212.5 \" stroke=\"black\"/>\n",
       "<text font-family=\"Times New Roman,serif\" font-size=\"14.00\" text-anchor=\"middle\" x=\"148.5\" y=\"-197.3\">input:</text>\n",
       "<polyline fill=\"none\" points=\"120.5,-189.5 176.5,-189.5 \" stroke=\"black\"/>\n",
       "<text font-family=\"Times New Roman,serif\" font-size=\"14.00\" text-anchor=\"middle\" x=\"148.5\" y=\"-174.3\">output:</text>\n",
       "<polyline fill=\"none\" points=\"176.5,-166.5 176.5,-212.5 \" stroke=\"black\"/>\n",
       "<text font-family=\"Times New Roman,serif\" font-size=\"14.00\" text-anchor=\"middle\" x=\"221.5\" y=\"-197.3\">(None, 1736)</text>\n",
       "<polyline fill=\"none\" points=\"176.5,-189.5 266.5,-189.5 \" stroke=\"black\"/>\n",
       "<text font-family=\"Times New Roman,serif\" font-size=\"14.00\" text-anchor=\"middle\" x=\"221.5\" y=\"-174.3\">(None, 217)</text>\n",
       "</g>\n",
       "<!-- 2726895209048&#45;&gt;2727008410760 -->\n",
       "<g class=\"edge\" id=\"edge2\"><title>2726895209048-&gt;2727008410760</title>\n",
       "<path d=\"M137,-249.366C137,-241.152 137,-231.658 137,-222.725\" fill=\"none\" stroke=\"black\"/>\n",
       "<polygon fill=\"black\" points=\"140.5,-222.607 137,-212.607 133.5,-222.607 140.5,-222.607\" stroke=\"black\"/>\n",
       "</g>\n",
       "<!-- 2727010927672 -->\n",
       "<g class=\"node\" id=\"node3\"><title>2727010927672</title>\n",
       "<polygon fill=\"none\" points=\"11,-83.5 11,-129.5 263,-129.5 263,-83.5 11,-83.5\" stroke=\"black\"/>\n",
       "<text font-family=\"Times New Roman,serif\" font-size=\"14.00\" text-anchor=\"middle\" x=\"67.5\" y=\"-102.8\">Hidden_2: Dense</text>\n",
       "<polyline fill=\"none\" points=\"124,-83.5 124,-129.5 \" stroke=\"black\"/>\n",
       "<text font-family=\"Times New Roman,serif\" font-size=\"14.00\" text-anchor=\"middle\" x=\"152\" y=\"-114.3\">input:</text>\n",
       "<polyline fill=\"none\" points=\"124,-106.5 180,-106.5 \" stroke=\"black\"/>\n",
       "<text font-family=\"Times New Roman,serif\" font-size=\"14.00\" text-anchor=\"middle\" x=\"152\" y=\"-91.3\">output:</text>\n",
       "<polyline fill=\"none\" points=\"180,-83.5 180,-129.5 \" stroke=\"black\"/>\n",
       "<text font-family=\"Times New Roman,serif\" font-size=\"14.00\" text-anchor=\"middle\" x=\"221.5\" y=\"-114.3\">(None, 217)</text>\n",
       "<polyline fill=\"none\" points=\"180,-106.5 263,-106.5 \" stroke=\"black\"/>\n",
       "<text font-family=\"Times New Roman,serif\" font-size=\"14.00\" text-anchor=\"middle\" x=\"221.5\" y=\"-91.3\">(None, 16)</text>\n",
       "</g>\n",
       "<!-- 2727008410760&#45;&gt;2727010927672 -->\n",
       "<g class=\"edge\" id=\"edge3\"><title>2727008410760-&gt;2727010927672</title>\n",
       "<path d=\"M137,-166.366C137,-158.152 137,-148.658 137,-139.725\" fill=\"none\" stroke=\"black\"/>\n",
       "<polygon fill=\"black\" points=\"140.5,-139.607 137,-129.607 133.5,-139.607 140.5,-139.607\" stroke=\"black\"/>\n",
       "</g>\n",
       "<!-- 2727010929744 -->\n",
       "<g class=\"node\" id=\"node4\"><title>2727010929744</title>\n",
       "<polygon fill=\"none\" points=\"2,-0.5 2,-46.5 272,-46.5 272,-0.5 2,-0.5\" stroke=\"black\"/>\n",
       "<text font-family=\"Times New Roman,serif\" font-size=\"14.00\" text-anchor=\"middle\" x=\"70.5\" y=\"-19.8\">Game_Output: Dense</text>\n",
       "<polyline fill=\"none\" points=\"139,-0.5 139,-46.5 \" stroke=\"black\"/>\n",
       "<text font-family=\"Times New Roman,serif\" font-size=\"14.00\" text-anchor=\"middle\" x=\"167\" y=\"-31.3\">input:</text>\n",
       "<polyline fill=\"none\" points=\"139,-23.5 195,-23.5 \" stroke=\"black\"/>\n",
       "<text font-family=\"Times New Roman,serif\" font-size=\"14.00\" text-anchor=\"middle\" x=\"167\" y=\"-8.3\">output:</text>\n",
       "<polyline fill=\"none\" points=\"195,-0.5 195,-46.5 \" stroke=\"black\"/>\n",
       "<text font-family=\"Times New Roman,serif\" font-size=\"14.00\" text-anchor=\"middle\" x=\"233.5\" y=\"-31.3\">(None, 16)</text>\n",
       "<polyline fill=\"none\" points=\"195,-23.5 272,-23.5 \" stroke=\"black\"/>\n",
       "<text font-family=\"Times New Roman,serif\" font-size=\"14.00\" text-anchor=\"middle\" x=\"233.5\" y=\"-8.3\">(None, 4)</text>\n",
       "</g>\n",
       "<!-- 2727010927672&#45;&gt;2727010929744 -->\n",
       "<g class=\"edge\" id=\"edge4\"><title>2727010927672-&gt;2727010929744</title>\n",
       "<path d=\"M137,-83.3664C137,-75.1516 137,-65.6579 137,-56.7252\" fill=\"none\" stroke=\"black\"/>\n",
       "<polygon fill=\"black\" points=\"140.5,-56.6068 137,-46.6068 133.5,-56.6069 140.5,-56.6068\" stroke=\"black\"/>\n",
       "</g>\n",
       "<!-- 2727010926776 -->\n",
       "<g class=\"node\" id=\"node5\"><title>2727010926776</title>\n",
       "<polygon fill=\"none\" points=\"85,-332.5 85,-368.5 189,-368.5 189,-332.5 85,-332.5\" stroke=\"black\"/>\n",
       "<text font-family=\"Times New Roman,serif\" font-size=\"14.00\" text-anchor=\"middle\" x=\"137\" y=\"-346.8\">2727010926776</text>\n",
       "</g>\n",
       "<!-- 2727010926776&#45;&gt;2726895209048 -->\n",
       "<g class=\"edge\" id=\"edge1\"><title>2727010926776-&gt;2726895209048</title>\n",
       "<path d=\"M137,-332.254C137,-324.363 137,-314.749 137,-305.602\" fill=\"none\" stroke=\"black\"/>\n",
       "<polygon fill=\"black\" points=\"140.5,-305.591 137,-295.591 133.5,-305.591 140.5,-305.591\" stroke=\"black\"/>\n",
       "</g>\n",
       "</g>\n",
       "</svg>"
      ],
      "text/plain": [
       "<IPython.core.display.SVG object>"
      ]
     },
     "execution_count": 2,
     "metadata": {},
     "output_type": "execute_result"
    }
   ],
   "source": [
    "from IPython.display import SVG\n",
    "from keras.utils.vis_utils import model_to_dot\n",
    "\n",
    "SVG(model_to_dot(model, show_shapes=True, rankdir='TD').create(prog='dot', format='svg'))"
   ]
  },
  {
   "cell_type": "markdown",
   "metadata": {},
   "source": [
    "# Example of usage\n",
    "The model can now be used to predict which move to use depending on the input.\n",
    "\n",
    "Then we can normalize it by picking the highest one."
   ]
  },
  {
   "cell_type": "code",
   "execution_count": 12,
   "metadata": {},
   "outputs": [
    {
     "name": "stdout",
     "output_type": "stream",
     "text": [
      "(1, 868)\n",
      "[0.05959846 0.00711121 0.6574754  0.27581483]  =>  2\n",
      "(1, 868)\n",
      "[0.01252499 0.09557097 0.5005663  0.39133784]  =>  2\n",
      "(1, 868)\n",
      "[0.14419855 0.02790146 0.49368984 0.33421022]  =>  2\n",
      "(1, 868)\n",
      "[0.09737961 0.01116423 0.53925127 0.35220495]  =>  2\n",
      "(1, 868)\n",
      "[0.08234774 0.01685648 0.66308725 0.23770855]  =>  2\n",
      "(1, 868)\n",
      "[0.00401776 0.00815777 0.73219556 0.2556289 ]  =>  2\n",
      "(1, 868)\n",
      "[0.00708774 0.01140601 0.55568016 0.42582607]  =>  2\n",
      "(1, 868)\n",
      "[0.02373143 0.01533214 0.7598839  0.20105253]  =>  2\n",
      "(1, 868)\n",
      "[0.032605   0.04010758 0.5742925  0.35299492]  =>  2\n",
      "(1, 868)\n",
      "[0.01514951 0.04249792 0.71919984 0.22315279]  =>  2\n",
      "(1, 868)\n",
      "[0.01798395 0.00621711 0.6049902  0.37080875]  =>  2\n",
      "(1, 868)\n",
      "[1.6927062e-02 4.6912205e-04 7.8691244e-01 1.9569133e-01]  =>  2\n",
      "(1, 868)\n",
      "[0.04291575 0.04429215 0.51852626 0.3942659 ]  =>  2\n",
      "(1, 868)\n",
      "[0.05781016 0.04928144 0.5869103  0.30599806]  =>  2\n",
      "(1, 868)\n",
      "[0.34216562 0.18142295 0.31030357 0.16610792]  =>  0\n",
      "(1, 868)\n",
      "[0.02172148 0.00637725 0.45814276 0.51375854]  =>  3\n",
      "(1, 868)\n",
      "[0.04942251 0.01386555 0.73262894 0.20408298]  =>  2\n",
      "(1, 868)\n",
      "[0.03780049 0.01454033 0.5124405  0.43521866]  =>  2\n",
      "(1, 868)\n",
      "[0.25716075 0.03237188 0.47846222 0.23200521]  =>  2\n",
      "(1, 868)\n",
      "[0.10402441 0.01097737 0.5493563  0.33564192]  =>  2\n",
      "(1, 868)\n",
      "[0.05107306 0.00585603 0.61532927 0.32774168]  =>  2\n",
      "(1, 868)\n",
      "[0.18675226 0.05951056 0.37861833 0.37511885]  =>  2\n",
      "(1, 868)\n",
      "[0.01900311 0.01345907 0.6244516  0.3430862 ]  =>  2\n",
      "(1, 868)\n",
      "[0.0598806  0.07911813 0.5608675  0.30013382]  =>  2\n",
      "(1, 868)\n",
      "[0.03416518 0.00701952 0.6975234  0.2612918 ]  =>  2\n",
      "(1, 868)\n",
      "[0.00831429 0.00293038 0.8270819  0.16167341]  =>  2\n",
      "(1, 868)\n",
      "[0.0634627  0.03044767 0.44565165 0.46043792]  =>  3\n",
      "(1, 868)\n",
      "[0.00699984 0.00085293 0.7091788  0.28296846]  =>  2\n",
      "(1, 868)\n",
      "[0.03701002 0.0083817  0.76167136 0.1929369 ]  =>  2\n",
      "(1, 868)\n",
      "[0.02190621 0.0013605  0.84794474 0.12878852]  =>  2\n"
     ]
    }
   ],
   "source": [
    "for i in range(30):\n",
    "    input_data = np.random.randint(5, size=(1,board_size))\n",
    "    print(input_data.shape)\n",
    "    predict = model.predict(input_data)[0]\n",
    "    output = np.argmax(predict)\n",
    "    print(predict, \" => \",output)"
   ]
  },
  {
   "cell_type": "code",
   "execution_count": null,
   "metadata": {},
   "outputs": [],
   "source": []
  }
 ],
 "metadata": {
  "kernelspec": {
   "display_name": "Python 3",
   "language": "python",
   "name": "python3"
  },
  "language_info": {
   "codemirror_mode": {
    "name": "ipython",
    "version": 3
   },
   "file_extension": ".py",
   "mimetype": "text/x-python",
   "name": "python",
   "nbconvert_exporter": "python",
   "pygments_lexer": "ipython3",
   "version": "3.6.5"
  }
 },
 "nbformat": 4,
 "nbformat_minor": 2
}
