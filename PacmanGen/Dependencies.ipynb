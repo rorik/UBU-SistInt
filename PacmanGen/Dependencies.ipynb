{
 "cells": [
  {
   "cell_type": "markdown",
   "metadata": {},
   "source": [
    "# Dependencies\n",
    "\n",
    "## Python\n",
    "\n",
    "* Python 3.6.x (check with `python -V`)\n",
    "* Anaconda 5.x (check with `conda list anaconda$`), 5.3.0 recommended (some warnings will occur on <=5.2)\n",
    "\n",
    "### Packages\n",
    "* **numpy** >=1.14.0 (check with `conda list numpy$`)\n",
    "* **keras** >=2.2.4 (check with `conda list keras$`, install with `conda install keras`)\n",
    "* **tensorflow** or **tensorflow-gpu** >=11.0 (check with `conda list tensorflow`. Install with either `pip install tensorflow` or `pip install tensorflow-gpu`, to switch between versions, uninstall it first with `pip uninstall tensorflow` or  `pip uninstall tensorflow-gpu`.\n",
    "\n",
    "## Software\n",
    "### tensorflow-gpu\n",
    "If using the gpu version of tensorflow (highly recommended), the following software must be installed:\n",
    "#### 1. CUDA ToolKit x64 == 9.0\n",
    "The version must be 9.0, otherwise the precompiled tensorflow packages won't work. [Download](https://developer.nvidia.com/cuda-90-download-archive).\n",
    "\n",
    "Verify the following Environment variables are correctly configured:\n",
    "* `CUDA_PATH`, should point to `C:\\Program Files\\NVIDIA GPU Computing Toolkit\\CUDA\\v9.0` (or equivalent installation directory).\n",
    "* `CUDA_PATH_V9_0`, should point to the same path as `CUDA_PATH`.\n",
    "* `PATH` should contain:\n",
    "    * `C:\\Program Files\\NVIDIA GPU Computing Toolkit\\CUDA\\v9.0\\bin` (or equivalent).\n",
    "    * `C:\\Program Files\\NVIDIA GPU Computing Toolkit\\CUDA\\v9.0\\libnvvp` (or equivalent).\n",
    "\n",
    "#### 2. cuDNN x64 >=7.3.1 for 9.0\n",
    "Use the same version as the ToolKit. A Nvidia developer account is needed in order to download, registration is quick. [Download](https://developer.nvidia.com/rdp/cudnn-download).\n",
    "\n",
    "`PATH` should contain `{INSTALLATION DIRECTORY}\\bin`.\n",
    "### Optional\n",
    "#### 1. Graphviz == 2.38 (Stable)\n",
    "Tool for visualizing keras models. Install stable release from [here](https://graphviz.gitlab.io/_pages/Download/Download_windows.html).\n",
    "\n",
    "`PATH` should contain `{INSTALLATION DIRECTORY}\\bin`.\n",
    "\n"
   ]
  },
  {
   "cell_type": "markdown",
   "metadata": {},
   "source": [
    "## Test dependencies:\n",
    "\n",
    "### Minimum:"
   ]
  },
  {
   "cell_type": "code",
   "execution_count": 1,
   "metadata": {},
   "outputs": [
    {
     "name": "stdout",
     "output_type": "stream",
     "text": [
      "numpy (1.14.3) = OK\n"
     ]
    },
    {
     "name": "stderr",
     "output_type": "stream",
     "text": [
      "C:\\ProgramData\\Anaconda3\\lib\\site-packages\\h5py\\__init__.py:36: FutureWarning: Conversion of the second argument of issubdtype from `float` to `np.floating` is deprecated. In future, it will be treated as `np.float64 == np.dtype(float).type`.\n",
      "  from ._conv import register_converters as _register_converters\n"
     ]
    },
    {
     "name": "stdout",
     "output_type": "stream",
     "text": [
      "tensorflow (1.11.0) = OK\n",
      "keras (2.2.4) = OK\n"
     ]
    },
    {
     "name": "stderr",
     "output_type": "stream",
     "text": [
      "Using TensorFlow backend.\n"
     ]
    }
   ],
   "source": [
    "import numpy\n",
    "numpy_version = [int(v) for v in numpy.__version__.split('.')]\n",
    "if numpy_version[0] < 1 or (numpy_version[0] == 1 and numpy_version[1] < 14):\n",
    "    raise Exception('numpy (%s) = FAIL' %numpy.__version__)\n",
    "print('numpy (%s) = OK' %numpy.__version__)\n",
    "\n",
    "import tensorflow\n",
    "tensorflow_version = [int(v) for v in tensorflow.__version__.split('.')]\n",
    "if tensorflow_version[0] < 1 or (tensorflow_version[0] == 1 and tensorflow_version[1] < 11):\n",
    "    raise Exception('tensorflow (%s) = FAIL' %tensorflow.__version__)\n",
    "print('tensorflow (%s) = OK' %tensorflow.__version__)\n",
    "\n",
    "import keras\n",
    "keras_version = [int(v) for v in keras.__version__.split('.')]\n",
    "if keras_version[0] < 2 or (keras_version[0] == 2 and (keras_version[1] < 2 or (keras_version[1] == 2 and keras_version[2] < 4))):\n",
    "    raise Exception('keras (%s) = FAIL' %keras.__version__)\n",
    "print('keras (%s) = OK' %keras.__version__)"
   ]
  },
  {
   "cell_type": "markdown",
   "metadata": {},
   "source": [
    "### Optional:"
   ]
  },
  {
   "cell_type": "code",
   "execution_count": null,
   "metadata": {},
   "outputs": [],
   "source": []
  }
 ],
 "metadata": {
  "kernelspec": {
   "display_name": "Python 3",
   "language": "python",
   "name": "python3"
  },
  "language_info": {
   "codemirror_mode": {
    "name": "ipython",
    "version": 3
   },
   "file_extension": ".py",
   "mimetype": "text/x-python",
   "name": "python",
   "nbconvert_exporter": "python",
   "pygments_lexer": "ipython3",
   "version": "3.6.5"
  }
 },
 "nbformat": 4,
 "nbformat_minor": 2
}
