{
 "cells": [
  {
   "cell_type": "markdown",
   "metadata": {},
   "source": [
    "# Perceptron desde 0\n",
    "\n",
    "El perceptron es un clasificador para hacer predicciones binarias (solo dos clases), para clasificar N clases necesitamos N perceptrones.\n",
    "\n",
    "El perceptron simple solo es aplicable a problemas separables linealmente. Aplicado a otros problemas las tasas de acierto pueden ser bajas.\n",
    "\n",
    "El perceptron multicapa puede se aplicado a problemas más complicados.\n",
    "\n",
    "\n",
    "## Como funciona\n",
    "\n",
    "- El perceptron \"aprende\" una serie de pesos que se corresponden con los atributos de entrada.\n",
    "- Cada par de atributo-peso es multiplicado y después los resultados se suman.\n",
    "- Si la suma supera un determinado umbral se predice una clase, sino, se predice la contraria.\n",
    "- Por ejemplo si: \n",
    "    - altura $\\cdot$ $w_1$ + peso $\\cdot$ $w_2$ + longitud $\\cdot$ $w_3$ > 0, se predice perro y sino se predice gato.\n",
    "    - Los pesos se aprenden a partir de un conjunto de datos de perros y gatos.\n",
    "\n",
    "\n",
    "## Como se aprenden los pesos\n",
    "\n",
    "Es un proceso iterativo, despues de cada iteración (llamadas epocs) se comprueba si la clasificación es correcta, si no lo es, los pesos son actualizados usando un \"learning rate\". \n",
    "\n",
    "# Autores:\n",
    "- **Rodrigo Díaz García**\n",
    "- **Miguel Barriuso García**\n",
    "\n"
   ]
  },
  {
   "cell_type": "markdown",
   "metadata": {},
   "source": [
    "## El algoritmo de entrenamiento\n",
    "\n",
    "El algoritmo es bastante sencillo. Estos son los pasos:\n",
    "\n",
    "\n",
    "1. inicializar el vector de pesos $w$ , el umbral $z$ de la función de activación, el número de iteraciones (epocs) $t$ y el learning rate $\\eta$ (coeficiente de aprendizaje).\n",
    " - Con frecuencia los pesos $w$ se inicializan a 0s.\n",
    " - El umbral se inicializa a 0.\n",
    " - El número de iteraciones depende de la dificultad del problema, a más dificil más iteraciones.\n",
    " - El learning rate depende de la dificultad del problema, a más dificil más bajo.\n",
    "\n",
    "2. Para cada iteración $t$:\n",
    "    - Para cada ejemplo $i$ del conjunto de entrenamiento:\n",
    "        - Calcular el sumatorio de las entradas por los pesos ($k$ es el número de atributos).\n",
    "    \n",
    "        $sum = \\sum_{j=0}^k w_{j} \\cdot x_{ij}$\n",
    "    \n",
    "        - Se hace pasar el valor resultante por la función de activación. \n",
    "        $\\hat{y_i} =\\begin{cases}\n",
    "        1 & \\text{if }f \\gt z\\\\\n",
    "        0 & \\text{otherwise}.\n",
    "      \\end{cases} $\n",
    "  \n",
    "      - Se actualizan los pesos. Con la siguiente formula.\n",
    "      \n",
    "          Desde $j=0$ hasta $j<$num_atts:\n",
    "          - $w_j = w_j + \\eta \\cdot (y_i-\\hat{y_i})\\cdot x_{ij})$   \n",
    "          //¿que hace la formula de arriba? \n",
    "          \n",
    "          //Si la predicción es correcta no cambia el peso. \n",
    "          \n",
    "          //Si falla se modifica el peso usando el producto del valordel atributo asociado a ese peso y el learning rate\n",
    "          \n",
    "3. Si se ha alcanzado el número de iteraciones fin.   \n",
    "    "
   ]
  },
  {
   "cell_type": "markdown",
   "metadata": {},
   "source": [
    "### Ejemplo paso a paso\n",
    "\n",
    "\n",
    "Un ejemplo paso a paso de como funciona el perceptron es precisamente la función AND que ya vimos anteriormente.\n",
    "Es un problema sencillo y linealmente separable.\n",
    "Dadas dos entradas $x_1$ and $x_2$, la salida de la función and es la siguiente:\n",
    "\n",
    "|$x_1$|$x_2$|$y$|\n",
    "|:---:|:---:|:---:|\n",
    "|0|0|0|\n",
    "|0|1|0|\n",
    "|1|0|0|\n",
    "|1|1|1|"
   ]
  },
  {
   "cell_type": "code",
   "execution_count": 1,
   "metadata": {},
   "outputs": [
    {
     "data": {
      "image/png": "[encoded data removed]",
      "text/plain": [
       "<Figure size 432x288 with 1 Axes>"
      ]
     },
     "metadata": {},
     "output_type": "display_data"
    }
   ],
   "source": [
    "'''\n",
    "Código en matplotlib, para ver que la función es linealmente separable\n",
    "'''\n",
    "% matplotlib inline\n",
    "\n",
    "# Se ve claramente que la función AND es linealmente separable\n",
    "# los 1s y 0s de la salida se han pintado de colores diferentes\n",
    "import numpy as np\n",
    "import matplotlib.pyplot as plt\n",
    "\n",
    "x1 = np.array([0,0,1,1])\n",
    "x2 = np.array([0,1,0,1])\n",
    "y =  np.array([0,0,0,1])\n",
    "\n",
    "linex = np.arange(-0.1, 1.1, 0.01)\n",
    "liney = 2 + (-1.5 * linex)\n",
    "\n",
    "plt.scatter(x1, x2, c=y, alpha=0.5)\n",
    "plt.plot(linex,liney)\n",
    "\n",
    "plt.show()"
   ]
  },
  {
   "cell_type": "markdown",
   "metadata": {},
   "source": [
    "A parte de las características propias del conjunto de entrenamiento ($x_1$ y $x_2$) se suele introducir una característica adicional o bias ($x_0$ que siempre vale 1) que puede ser util para entrenar el modelo. \n",
    "\n",
    "¿Por que es útil el bias?\n",
    "- En el caso de tener que aproximar una función tal que f(0,0) = 1, no se podría encontrar una combinación de pesos que hiciese que $w_0*0 + w_1*0$ superase un umbral. Por eso se añade una característica adicional que siempre vale 1.\n",
    "\n",
    "\n",
    "1. Se inicializan los pesos $w_i$ a ceros. \n",
    "\n",
    "    - Despues de añadir la $x_0$ tenemos que los pesos iniciales son $w^0_{0}, w^0_{1}, w^0_{2} = (0,0,0)$\n",
    "    - El umbral de la función de activación se inicializa a cero ($z=0$). \n",
    "    - El número de iteraciones se establece en 50 ($t=50$)\n",
    "    - El coeficiente de aprendizaje o *learning rate* se estable en 0.1 ($\\eta=0.1$)\n",
    "2. En el paso 2 comienza el proceso iterativo. \n",
    "    - El sumatorio de las entradas por los pesos: $f = \\sum_{j=0}^k w_j x_{0j}$. \n",
    "    \n",
    "    En la iteración 0 (La primera), para los cuatro ejemplos que tenemos sería:\n",
    "        - $ f = (0\\cdot1) + (0\\cdot0) + (0\\cdot 0) = 0$\n",
    "        - $ f = (0\\cdot1) + (0\\cdot0) + (0\\cdot 1) = 0$\n",
    "        - $ f = (0\\cdot1) + (0\\cdot1) + (0\\cdot 0) = 0$\n",
    "        - $ f = (0\\cdot1) + (0\\cdot1) + (0\\cdot 1) = 0$\n",
    "    - Se hace pasar el valor resultante por la función de activación \n",
    "    $$\\hat{y}_i =\\begin{cases}\n",
    "                        1 & \\text{if }f \\gt z\\\\\n",
    "                        0 & \\text{otherwise}.\n",
    "                  \\end{cases} $$\n",
    "    $\\hat{y}_i=0$ en los cuatro casos.\n",
    "    - Se actualizan los pesos. Para los 3 primeros ejemplos no hay diferencia entre $\\hat{y}$ e $y$, luego no hay actualización.        \n",
    "    - Para el cuarto caso (i=3) si que hay que actualizar porque AND(1,1) es 1 y la predicción es 0:\n",
    "    - Los pesos se van a modificar con el producto de valor del atributo y el learning rate\n",
    "        - $w^1_0 = w^0_0 + \\eta [y_3 -\\hat{y}_3]x_{30} $ $ = 0 + 0.1\\cdot[1-0]\\cdot1 $ $= 0.1$   # Recuerda que $x_0$ valía 1\n",
    "        - $w^1_1 = w^0_1 + \\eta [y_3 -\\hat{y}_3]x_{31}$  $ = 0 + 0.1\\cdot[1-0]\\cdot1 $ $= 0.1$\n",
    "        - $w^1_2 = w^0_2 + \\eta [y_3 -\\hat{y}_3]x_{32}$  $ = 0 + 0.1\\cdot[1-0]\\cdot1 $ $= 0.1$\n",
    "        \n",
    "         $w^1_{0}, w^2_{1}, w^1_{2} = (0.1,0.1,0.1)$\n",
    "- Como no es la iteración 50 seguimos repitiendo el paso 2."
   ]
  },
  {
   "cell_type": "markdown",
   "metadata": {},
   "source": [
    "## Implementación Python desde 0\n",
    "\n",
    "Se va a implementar la función AND en Python. Usando **Numpy** para simplificar las operaciones matemáticas y **Matplotlib** para los gráficos.\n",
    "\n"
   ]
  },
  {
   "cell_type": "code",
   "execution_count": 2,
   "metadata": {},
   "outputs": [],
   "source": [
    "import numpy as np\n",
    "import matplotlib.pyplot as plt"
   ]
  },
  {
   "cell_type": "code",
   "execution_count": 3,
   "metadata": {},
   "outputs": [
    {
     "name": "stdout",
     "output_type": "stream",
     "text": [
      "[0. 0. 0. 0. 0.]\n",
      "[ 6  9 11]\n",
      "43\n",
      "[0 1 2 3 4 5 6 7]\n"
     ]
    }
   ],
   "source": [
    "\"\"\"\n",
    "Las únicas funciones de numpy que debemos conocer\n",
    "\n",
    "\"\"\"\n",
    "\n",
    "# crear un array de 0s de un tamaño dado\n",
    "print(np.zeros(5))\n",
    "\n",
    "a = np.array([1,2,3])\n",
    "b = np.array([5,7,8])\n",
    "\n",
    "# operaciones aritmeticas sobre todo el array a la vez\n",
    "print(a+b)\n",
    "\n",
    "# producto vectorial = 1*5 + 2*7 + 3*8 = 43. Esto se puede usar para multiplicar los atributos por los pesos y sumarlos\n",
    "print(np.dot(a,b))\n",
    "\n",
    "# equivalente al range pero devolviendo arrays de numpy\n",
    "print(np.arange(8))"
   ]
  },
  {
   "cell_type": "code",
   "execution_count": 64,
   "metadata": {},
   "outputs": [],
   "source": [
    "# AND Lógico\n",
    "# nota: x0 es una variable adicional para el bias\n",
    "#     x0  x1  x2\n",
    "x = [[1., 0., 0.],                                  \n",
    "     [1., 0., 1.],                                 \n",
    "     [1., 1., 0.],                                  \n",
    "     [1., 1., 1.]] \n",
    "\n",
    "# Salida deseada\n",
    "y = [0.,                                            \n",
    "     0.,                                            \n",
    "     0.,                                            \n",
    "     1.] "
   ]
  },
  {
   "cell_type": "code",
   "execution_count": 79,
   "metadata": {},
   "outputs": [
    {
     "name": "stdout",
     "output_type": "stream",
     "text": [
      "Los pesos son:\n",
      "[-0.2  0.2  0.1]\n",
      "La suma de errores cuadráticos es:\n",
      "[0.5, 1.5, 1.5, 1.0, 0.5, 0.0, 0.0, 0.0, 0.0, 0.0, 0.0, 0.0, 0.0, 0.0, 0.0, 0.0, 0.0, 0.0, 0.0, 0.0, 0.0, 0.0, 0.0, 0.0, 0.0, 0.0, 0.0, 0.0, 0.0, 0.0, 0.0, 0.0, 0.0, 0.0, 0.0, 0.0, 0.0, 0.0, 0.0, 0.0, 0.0, 0.0, 0.0, 0.0, 0.0, 0.0, 0.0, 0.0, 0.0, 0.0]\n"
     ]
    }
   ],
   "source": [
    "'''\n",
    "Entrenamiento del perceptron\n",
    "\n",
    "x: datos de entrada (ampliados con el x_0)\n",
    "y: salidas\n",
    "z: umbral\n",
    "eta: coeficiente de aprendizaje (learning rate)\n",
    "t: número de iteraciones\n",
    "\n",
    "internamente obtiene el error del modelo, pero eso lo da el profesor\n",
    "\n",
    " entrena_perceptron(x, y, z, eta, t)\n",
    "'''\n",
    "def entrena_perceptron(X, y, z, eta, t):    \n",
    "    # inicialización de los pesos\n",
    "    \n",
    "    \n",
    "    w = np.zeros(len(X[0]))       \n",
    "    n = 0                           # numero de iteraciones se inicializa a 0                     \n",
    "    \n",
    "    # Inicialización de variables adicionales \n",
    "    ypred = np.zeros(len(y))     # array para las predicciones de cada ejemplo\n",
    "    errors = np.zeros(len(y))       # array para los errores (valor real - predicción)\n",
    "    J = []                          # error total del modelo     \n",
    "    \n",
    "    while n < t:  \n",
    "        ############## a completar (desde aqui) #################\n",
    "        # para cada ejemplo x del conjunto de datos X\n",
    "        #        Calcular el sumatorio de las entradas por los pesos (np.dot) \n",
    "        #        Se hace pasar el valor resultante por la función de activación \n",
    "        #        Para cada peso\n",
    "        #              actualizar peso\n",
    "        #######################################################\n",
    "        for i in range(len(X)):\n",
    "            ypred[i] = 1 if np.dot(X[i], w) > z else 0\n",
    "            for j in range(len(w)):\n",
    "                w[j] += eta * (y[i] - ypred[i]) * X[i][j]\n",
    "        \n",
    "          \n",
    "        ############## a completar (hasta aqui) #################\n",
    "        \n",
    "        n += 1 # se incrementa el número de iteraciones \n",
    "\n",
    "        \n",
    "        \n",
    "        # calculo del error cuadrático del modelo\n",
    "        # esto no es más que la suma de cuadrados entre el valor real y la predicción\n",
    "        for i in range(0,len(y)):     \n",
    "            errors[i] = (y[i]-ypred[i])**2\n",
    "        J.append(0.5*np.sum(errors))\n",
    "           \n",
    "    # Devuelve los pesos y el error cuadrático\n",
    "    return w, J\n",
    "\n",
    "\n",
    "z = 0.0     # umbral\n",
    "eta = 0.1   # learning rate\n",
    "t = 50      # número de iteraciones\n",
    "\n",
    "weights, errors = entrena_perceptron(x, y, z, eta, t)\n",
    "\n",
    "print(\"Los pesos son:\")\n",
    "print(weights)\n",
    "\n",
    "print(\"La suma de errores cuadráticos es:\")\n",
    "print(errors)\n"
   ]
  },
  {
   "cell_type": "code",
   "execution_count": 77,
   "metadata": {},
   "outputs": [
    {
     "data": {
      "text/plain": [
       "Text(0.5,1,'Convergencia')"
      ]
     },
     "execution_count": 77,
     "metadata": {},
     "output_type": "execute_result"
    },
    {
     "data": {
      "image/png": "[encoded data removed]",
      "text/plain": [
       "<Figure size 432x288 with 1 Axes>"
      ]
     },
     "metadata": {},
     "output_type": "display_data"
    }
   ],
   "source": [
    "\"\"\"\n",
    "Graficando como desciende el error a medida que pasan las iteraciones (converge)\n",
    "\"\"\"\n",
    "\n",
    "epoch = np.arange(t)\n",
    "\n",
    "plt.plot(epoch, errors)\n",
    "plt.xlabel('Iteración')\n",
    "plt.ylabel('La suma de errores cuadráticos es')\n",
    "plt.title('Convergencia')\n",
    "    "
   ]
  },
  {
   "cell_type": "markdown",
   "metadata": {},
   "source": [
    "Se puede ver como a partir de la cuarta iteración el perceptrón converge."
   ]
  },
  {
   "cell_type": "markdown",
   "metadata": {},
   "source": [
    "## Comentarios adicionales y mejoras que se podrian hacer a la versión básica\n",
    "\n",
    "- El método es dependiente de los parámetros. Learning rate, número de iteraciones y umbral.\n",
    "    - Con un learning rate más alto puede converger más rápido, pero puede no converger si el problema es dificilmente separable.\n",
    "    - Una buena estrategía es empezar con un learning rate alto e ir descendiendo (como la idea del recocido simulado).\n",
    "    - Para el resto de parámetros es prueba-error.\n",
    "- Se puede detener el método una vez ha convergido, sin esperar al final de las iteraciones.\n",
    "- En ocasiones puede funcionar mejor inicializar los pesos aleatoriamente en lugar de a 0s.\n"
   ]
  },
  {
   "cell_type": "markdown",
   "metadata": {},
   "source": [
    "### Perceptron de Scikit-learn \n",
    "\n",
    "Vamos a comparar los pesos obtenidos por el algoritmo básico y los obtenidos por la implementación de  Scikit-learn (la librería de aprendizaje automático estandard de python)."
   ]
  },
  {
   "cell_type": "code",
   "execution_count": 78,
   "metadata": {},
   "outputs": [
    {
     "name": "stdout",
     "output_type": "stream",
     "text": [
      "Pesos sklearn:\n",
      "[-0.2  0.2  0.1]\n",
      "Pesos perceptron propio:\n",
      "[-0.2  0.2  0.1]\n"
     ]
    },
    {
     "name": "stderr",
     "output_type": "stream",
     "text": [
      "C:\\ProgramData\\Anaconda3\\lib\\site-packages\\sklearn\\linear_model\\stochastic_gradient.py:128: FutureWarning: max_iter and tol parameters have been added in <class 'sklearn.linear_model.perceptron.Perceptron'> in 0.19. If both are left unset, they default to max_iter=5 and tol=None. If tol is not None, max_iter defaults to max_iter=1000. From 0.21, default max_iter will be 1000, and default tol will be 1e-3.\n",
      "  \"and default tol will be 1e-3.\" % type(self), FutureWarning)\n"
     ]
    }
   ],
   "source": [
    "from sklearn.linear_model import Perceptron\n",
    "\n",
    "# Se crea el Perceptron, ajustando sus parámetros para que funcione como nuestra implementación\n",
    "'''\n",
    "\n",
    "fit_intercept : bool\n",
    "If False, the data is assumed to be already centered. Defaults to True.\n",
    "El perceptron tiene que trabajar con datos centrados (media 0, sino puede funcionar mal.)\n",
    "\n",
    "shuffle : bool, optional, default True\n",
    "Whether or not the training data should be shuffled after each epoch.\n",
    "Para evitar la influencia del orden de las instancias, se barajean cada vez\n",
    "'''\n",
    "\n",
    "\n",
    "clf = Perceptron(random_state=None, eta0= 0.1, shuffle=False, fit_intercept=False)\n",
    "\n",
    "# \n",
    "clf.fit(x, y)\n",
    "\n",
    "print(\"Pesos sklearn:\")\n",
    "print(clf.coef_[0])\n",
    "\n",
    "print(\"Pesos perceptron propio:\")\n",
    "print(weights)"
   ]
  },
  {
   "cell_type": "markdown",
   "metadata": {},
   "source": [
    "Para ejemplos sencillos el algoritmo básico va a funcionar igual que la implementación de sklearn. Sin embargo la implementación de sklearn tiene algunas optimizaciones que hace que funcione distinto en otros casos.\n",
    "\n"
   ]
  }
 ],
 "metadata": {
  "kernelspec": {
   "display_name": "Python 3",
   "language": "python",
   "name": "python3"
  },
  "language_info": {
   "codemirror_mode": {
    "name": "ipython",
    "version": 3
   },
   "file_extension": ".py",
   "mimetype": "text/x-python",
   "name": "python",
   "nbconvert_exporter": "python",
   "pygments_lexer": "ipython3",
   "version": "3.6.5"
  }
 },
 "nbformat": 4,
 "nbformat_minor": 1
}
