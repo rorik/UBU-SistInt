{
 "cells": [
  {
   "cell_type": "markdown",
   "metadata": {
    "collapsed": true
   },
   "source": [
    "# Sistemas Inteligentes\n",
    "\n",
    "## Grado en Ingeniería Informática\n",
    "## Universidad de Burgos\n",
    "## José Francisco  Diez\n",
    "## Curso 2018-2019\n",
    "# Autores:\n",
    "- **Rodrigo Díaz García**\n",
    "- **Miguel Barriuso García**"
   ]
  },
  {
   "cell_type": "code",
   "execution_count": 2,
   "metadata": {},
   "outputs": [],
   "source": [
    "%matplotlib inline \n",
    "#para dibujar en el propio notebook\n",
    "import numpy as np  #numpy como np\n",
    "import matplotlib.pyplot as plt #matplotlib como plot\n"
   ]
  },
  {
   "cell_type": "markdown",
   "metadata": {},
   "source": [
    "# Reconocimiento de formas\n",
    "\n",
    "En esta práctica se va a hacer un programa muy sencillo de reconocimiento de formas. \n",
    "Se utilizará el perceptron realizado por el alumno. De manera optativa se podrá entrenar el perceptron con un algoritmo genético.\n",
    "\n",
    "El proceso consistirá en:\n",
    "- obtener un conjunto de datos X,y\n",
    "    - X será un conjunto de atributos que describa cada imagen, los valores de los pixels, en su forma más sencilla\n",
    "    - y será la clase\n",
    "- Dividir el conjunto de datos en dos partes: conjunto de entrenamiento y conjunto de test.\n",
    "- Entrenar una red neuronal con una parte de los datos (conjunto de entrenamiento)\n",
    "    - Esta parte se hará con la red neuronal de Sklearn y también con la nuestra\n",
    "- Comprobar su funcionamiento con otra parte (conjunto de test) para saca la tasa de acierto.\n",
    "    - Esta parte se hará con la red neuronal de Sklearn y también con la nuestra\n",
    "\n",
    "\n",
    "\n",
    "\n",
    "El enfoque usado es muy sencillo por lo que solo puede funcionar con problemas sencillos (pocas clases, poca variabilidad en las imágenes ...). En casos reales no vale con entrenar un modelo directamente con los valores de los pixels.\n",
    "\n",
    "Las imágenes con las que se va a trabajar pertenecen al repositorio MPEG7, obtenido de www.dabi.temple.edu/~shape/MPEG7/dataset.html, en la versión de ubuvirtual se han quitado algunas imágenes para simplificar el problema.\n",
    "\n",
    "Lo primero que se debe hacer es descomprimir las imágenes en la carpeta **MPEG7dataset**.\n",
    "\n",
    "```Python\n",
    "'''\n",
    "Tarea 1: Descargar y descomprimir las imágenes en la carpeta MPEG7dataset.\n",
    "La carpeta MPEG7dataset estará en la misma carpeta que el notebook actual.\n",
    "'''\n",
    "\n",
    "```\n",
    "----------------------------------------\n",
    "\n"
   ]
  },
  {
   "cell_type": "markdown",
   "metadata": {},
   "source": [
    "\n",
    "Cada imagen contiene en su nombre el nombre de la clase a la que pertenece. Se puede obtener el nombre de todos los ficheros de un directorio con **listdir** del modulo **os**"
   ]
  },
  {
   "cell_type": "code",
   "execution_count": 3,
   "metadata": {},
   "outputs": [
    {
     "data": {
      "text/plain": [
       "['apple-1.gif',\n",
       " 'apple-10.gif',\n",
       " 'apple-11.gif',\n",
       " 'apple-12.gif',\n",
       " 'apple-13.gif',\n",
       " 'apple-14.gif',\n",
       " 'apple-15.gif',\n",
       " 'apple-16.gif',\n",
       " 'apple-17.gif',\n",
       " 'apple-18.gif']"
      ]
     },
     "execution_count": 3,
     "metadata": {},
     "output_type": "execute_result"
    }
   ],
   "source": [
    "'''\n",
    "Ejemplo 1\n",
    "Obtengo los nombres de todos los ficheros y devuelvo para \n",
    "para que se muestren los 10 primeros\n",
    "'''\n",
    "import os\n",
    "\n",
    "img_names = os.listdir(\"MPEG7dataset\")\n",
    "img_names[:10] # solo devuelve los 10 primeros"
   ]
  },
  {
   "cell_type": "code",
   "execution_count": 4,
   "metadata": {},
   "outputs": [
    {
     "data": {
      "text/plain": [
       "['apple', '1.gif']"
      ]
     },
     "execution_count": 4,
     "metadata": {},
     "output_type": "execute_result"
    }
   ],
   "source": [
    "'''\n",
    "Ejemplo 2\n",
    "obtengo la clase a la que pertenece una imagen.\n",
    "El nombre de la clase es la primera parte del nombre.\n",
    "'''\n",
    "img_names[0].split(\"-\")"
   ]
  },
  {
   "cell_type": "markdown",
   "metadata": {},
   "source": [
    "## Skimage\n",
    "\n",
    "La librería Skimage o Scikit-Image es una librería de Python construida sobre Numpy que tiene algoritmos de tratamiento de imágenes: operaciones con color, transformaciones, filtros, segmentación etc\n",
    "\n",
    "Se puede cargar una imagen simplemente con el método **imread** y se puede mostrar con el método **imshow**, ambos métodos del módulo **skimage.io**"
   ]
  },
  {
   "cell_type": "code",
   "execution_count": 5,
   "metadata": {},
   "outputs": [],
   "source": [
    "'''\n",
    "Ejemplo 3.1\n",
    "Obtiene img a partir de su ruta en el disco.\n",
    "'''\n",
    "from skimage.io import imshow, imread\n",
    "# os.sep es el separador del sistema operativo (/ (linux) o \\ (windows))\n",
    "img = imread(\"MPEG7dataset\"+os.sep+img_names[0])"
   ]
  },
  {
   "cell_type": "code",
   "execution_count": 6,
   "metadata": {},
   "outputs": [
    {
     "data": {
      "text/plain": [
       "<matplotlib.image.AxesImage at 0x1a963a2f5f8>"
      ]
     },
     "execution_count": 6,
     "metadata": {},
     "output_type": "execute_result"
    },
    {
     "data": {
      "image/png": "[encoded data removed]",
      "text/plain": [
       "<Figure size 432x288 with 1 Axes>"
      ]
     },
     "metadata": {},
     "output_type": "display_data"
    }
   ],
   "source": [
    "'''\n",
    "Ejemplo 3.2\n",
    "Se muestra la imagen\n",
    "'''\n",
    "imshow(img)"
   ]
  },
  {
   "cell_type": "code",
   "execution_count": 7,
   "metadata": {},
   "outputs": [
    {
     "name": "stdout",
     "output_type": "stream",
     "text": [
      "(256, 256)\n"
     ]
    },
    {
     "data": {
      "text/plain": [
       "array([[0, 0, 0, ..., 0, 0, 0],\n",
       "       [0, 0, 0, ..., 0, 0, 0],\n",
       "       [0, 0, 0, ..., 0, 0, 0],\n",
       "       ...,\n",
       "       [0, 0, 0, ..., 0, 0, 0],\n",
       "       [0, 0, 0, ..., 0, 0, 0],\n",
       "       [0, 0, 0, ..., 0, 0, 0]], dtype=uint8)"
      ]
     },
     "execution_count": 7,
     "metadata": {},
     "output_type": "execute_result"
    }
   ],
   "source": [
    "'''\n",
    "En skimage las imágenes son arrays de numpy, un tipo de objeto\n",
    "similar a las listas, pero más eficiente y con muchas operaciones\n",
    "especiales.\n",
    "'''\n",
    "print(img.shape)\n",
    "img"
   ]
  },
  {
   "cell_type": "code",
   "execution_count": 8,
   "metadata": {},
   "outputs": [
    {
     "data": {
      "text/plain": [
       "65536"
      ]
     },
     "execution_count": 8,
     "metadata": {},
     "output_type": "execute_result"
    }
   ],
   "source": [
    "img.size # alto x ancho (el número total de pixels)"
   ]
  },
  {
   "cell_type": "code",
   "execution_count": 9,
   "metadata": {},
   "outputs": [
    {
     "data": {
      "text/plain": [
       "[0, 0, 0, 0, 0, 0, 0, 0, 0, 0]"
      ]
     },
     "execution_count": 9,
     "metadata": {},
     "output_type": "execute_result"
    }
   ],
   "source": [
    "'''\n",
    "Ejemplo 4\n",
    "\n",
    "Se cambia la forma, pasa de tener los valores en 2 dimensiones a tenerlo en 1.\n",
    "\n",
    "[[p00,p01],\n",
    " [p10,p11]]  => [p00,p01,p10,p11]\n",
    "\n",
    "'''\n",
    "# se pasa a una sola fila y se convierte en lista (se aplana la imagen)\n",
    "lista_pixels = img.reshape(img.size).tolist()\n",
    "\n",
    "# muestro los primeros\n",
    "lista_pixels[:10]"
   ]
  },
  {
   "cell_type": "markdown",
   "metadata": {},
   "source": [
    "### Redimensionar una imágen\n",
    "\n",
    "Se puede redimensionar una imagen usando el método **resize** del módulo **skimage.transform**.\n",
    "\n",
    "En el ejemplo de abajo se redimensiona y se muestra."
   ]
  },
  {
   "cell_type": "code",
   "execution_count": 10,
   "metadata": {},
   "outputs": [
    {
     "data": {
      "text/plain": [
       "<matplotlib.image.AxesImage at 0x1a96434a9e8>"
      ]
     },
     "execution_count": 10,
     "metadata": {},
     "output_type": "execute_result"
    },
    {
     "data": {
      "image/png": "[encoded data removed]",
      "text/plain": [
       "<Figure size 432x288 with 1 Axes>"
      ]
     },
     "metadata": {},
     "output_type": "display_data"
    }
   ],
   "source": [
    "'''\n",
    "Ejemplo 5\n",
    "Redimensiona una imagen a 16 x 16\n",
    "'''\n",
    "\n",
    "from skimage.transform import resize\n",
    "import warnings\n",
    "\n",
    "'''\n",
    "el metodo resize lanza un warning, \n",
    "El método filterwarnings permite ignorar el warning y que no se muestre en pantalla.\n",
    "''' \n",
    "warnings.filterwarnings(\"ignore\")\n",
    "\n",
    "img_mini =  resize(img, (16, 16))\n",
    "imshow(img_mini)"
   ]
  },
  {
   "cell_type": "markdown",
   "metadata": {},
   "source": [
    "## Obtenención del conjunto de datos\n",
    "\n",
    "Para entrenar una red neuronal o cualquier otro clasificador se necesita un conjunto de datos.\n",
    "\n",
    "El conjunto de datos estará formado por X e y. \n",
    "\n",
    "- X será un array 2D con tantas filas como imágenes y tantas columnas como atributos se usen para describir cada imagen, en este caso los atributos serán simplemente los valores de los pixels.\n",
    "- y será un array de una sola dimensión, con tantos elementos como imágenes, sus valores serán los nombres de las clases de cada imagen.\n",
    "\n",
    "Ejemplo inventado.\n",
    "Los valores de los atributos van entre 0 y 1. 0 si el color del pixel era negro, 1 si era blanco.\n",
    "\n",
    "|$X_0$|$X_1$|...|$X_n$|$y$|\n",
    "|:---:|:---:|:---:|:---:|:---:|\n",
    "|0.1|0.3|0.7|0.8|avion|\n",
    "|0.2|0.1|0.3|0.7|avion|\n",
    "|0.9|0.6|0.1|0.3|coche|\n",
    "|0.3|0.3|0.1|0|coche|\n",
    "|0.7|0.1|0.4|0.7|arbol|\n",
    "|0.1|0.3|0.2|0.8|arbol|\n",
    "\n"
   ]
  },
  {
   "cell_type": "markdown",
   "metadata": {},
   "source": [
    "# Tarea\n",
    "\n",
    "## **Tarea a completar por el alumno:**\n",
    "- Hacer una función *get_dataset()* que devuelve X e y. Dicha función se basará en el ejemplo 6 y hará uso de los códigos vistos en los ejemplos 1-5."
   ]
  },
  {
   "cell_type": "code",
   "execution_count": 11,
   "metadata": {},
   "outputs": [
    {
     "name": "stdout",
     "output_type": "stream",
     "text": [
      "(1399, 256) (1399,)\n"
     ]
    }
   ],
   "source": [
    "'''\n",
    "Tarea 2\n",
    "\n",
    "Recorre todos los ficheros y construye el conjunto de datos X,y\n",
    "    - saca el nombre de clase\n",
    "    - saca la imagen, redimensiona, aplana\n",
    "    \n",
    "Haz uso de los ejemplos 1, 2, 3, 4 y 5\n",
    "'''\n",
    "import warnings\n",
    "warnings.filterwarnings(\"ignore\")\n",
    "\n",
    "\n",
    "lista_X = []\n",
    "lista_y = []\n",
    "for name in img_names:\n",
    "    img = resize(imread(\"MPEG7dataset\" + os.sep + name), (16, 16))\n",
    "    lista_X.append(img.reshape(img.size).tolist())\n",
    "    lista_y.append(name.split(\"-\")[0])\n",
    "    \n",
    "X = np.array(lista_X)\n",
    "y = np.array(lista_y)\n",
    "\n",
    "# se muestra el tamaño de X e y solo para checkear que no esté vacío.\n",
    "print(X.shape,y.shape)\n",
    "    "
   ]
  },
  {
   "cell_type": "markdown",
   "metadata": {},
   "source": [
    "-----------\n",
    "\n",
    "-----------\n",
    "\n",
    "-----------\n",
    "\n",
    "-----------"
   ]
  },
  {
   "cell_type": "markdown",
   "metadata": {},
   "source": [
    "## Construcción y evaluación del clasificador de formas.\n",
    "\n",
    "En python tenemos una librería de minería de datos llamada **Scikit-learn** o **Sklearn**. También viene incluida en Anaconda. Esta librería permite entrenar muchos tips de clasificadores, entre ellos la **red neuronal** vista en teoría.\n",
    "\n",
    "Como solo tenemos un conjunto de imágenes solo tenemos un conjunto de datos. Si queremos comprobar de manera justa el comportamiento del clasificador tenemos que descomponer el conjunto de datos en entrenamiento y test.\n",
    "\n",
    "En este trabajo el 70% será para entrenamiento y el 30% para test.\n",
    "\n",
    "El método **train_test_split** del módulo **sklearn.model_selection** permite dividir un conjunto de datos en dos partes, una para entrenar el clasificador y otra para evaluar su funcionamiento.\n",
    "\n",
    "Uso estratificación: la misma proporción de clases en entrenamiento que en test."
   ]
  },
  {
   "cell_type": "code",
   "execution_count": 12,
   "metadata": {},
   "outputs": [],
   "source": [
    "'''\n",
    "Ejemplo 7\n",
    "\n",
    "Solo funciona si hemos completado y ejecutado la tarea 2.\n",
    "'''\n",
    "\n",
    "from sklearn.model_selection import train_test_split\n",
    "\n",
    "'''\n",
    "El par X_train, y_train son los atributos y clases del conjunto de entrenamiento (70% de los ejemplos)\n",
    "El par X_test, y_test son los atributos y clases del conjunto de test (30% de los ejemplos)\n",
    "\n",
    "stratify (estratificar) significa que se quiere que haya la misma proporcion de cada una de las clases\n",
    "tanto en entrenamiento como en test, es decir, no es una partición completamente aleatoria.\n",
    "'''\n",
    "X_train, X_test, y_train, y_test = train_test_split(X, y, stratify=y, train_size = 0.7 )\n"
   ]
  },
  {
   "cell_type": "markdown",
   "metadata": {
    "collapsed": true
   },
   "source": [
    "En **Sklearn** todos los clasificadores tienen el mismo funcionamiento. \n",
    "Se crea, si no indicamos ningún argumento se crea el clasificador con todos los parámetros por defecto. Y luego:\n",
    "- el método **fit** entrena el clasificador\n",
    "- el método **predict** recibe uno o varios ejemplos y nos devuelve las clases que estima el clasificador."
   ]
  },
  {
   "cell_type": "code",
   "execution_count": 13,
   "metadata": {},
   "outputs": [
    {
     "data": {
      "text/plain": [
       "MLPClassifier(activation='relu', alpha=0.0001, batch_size='auto', beta_1=0.9,\n",
       "       beta_2=0.999, early_stopping=False, epsilon=1e-08,\n",
       "       hidden_layer_sizes=(100,), learning_rate='constant',\n",
       "       learning_rate_init=0.001, max_iter=200, momentum=0.9,\n",
       "       nesterovs_momentum=True, power_t=0.5, random_state=None,\n",
       "       shuffle=True, solver='adam', tol=0.0001, validation_fraction=0.1,\n",
       "       verbose=False, warm_start=False)"
      ]
     },
     "execution_count": 13,
     "metadata": {},
     "output_type": "execute_result"
    }
   ],
   "source": [
    "'''\n",
    "Ejemplo 8\n",
    "Entrenar un clasificador con el conjunto de entrenamiento\n",
    "'''\n",
    "\n",
    "# puede tardar unos segundos\n",
    "from sklearn.neural_network import MLPClassifier\n",
    "\n",
    "\n",
    "classifier = MLPClassifier()\n",
    "\n",
    "classifier.fit(X_train, y_train)"
   ]
  },
  {
   "cell_type": "code",
   "execution_count": 14,
   "metadata": {},
   "outputs": [
    {
     "data": {
      "text/plain": [
       "array(['watch', 'bat', 'bat', 'spring', 'bat', 'device9', 'watch',\n",
       "       'apple', 'cellular_phone', 'Heart'], dtype='<U14')"
      ]
     },
     "execution_count": 14,
     "metadata": {},
     "output_type": "execute_result"
    }
   ],
   "source": [
    "'''\n",
    "Ejemplo 9\n",
    "\n",
    "Testear un clasificador con el conjunto de test\n",
    "\n",
    "y_pred son las clases que estima el clasificador, si las comparasemos\n",
    "con las clases reales y_test podríamos saber cuanto acierta el clasificador.\n",
    "'''\n",
    "y_pred = classifier.predict(X_test)\n",
    "y_pred[:10] # muestra las 10 primeras"
   ]
  },
  {
   "cell_type": "markdown",
   "metadata": {},
   "source": [
    "## **Tarea a completar por el alumno:**\n",
    "\n",
    "**Sklearn** tiene métodos para evaluar un clasificador en términos de porcentaje de acierto y otras medidas, pero no las vamos a usar.\n",
    "\n",
    "Se pide una función que compare *y_pred* con *y_test* y devuelva el porcentaje de acierto."
   ]
  },
  {
   "cell_type": "code",
   "execution_count": 19,
   "metadata": {},
   "outputs": [
    {
     "data": {
      "text/plain": [
       "0.8214285714285714"
      ]
     },
     "execution_count": 19,
     "metadata": {},
     "output_type": "execute_result"
    }
   ],
   "source": [
    "'''\n",
    "Tarea 3\n",
    "\n",
    "Realiza una función evalua que \n",
    "si le pasan las clases reales y_test y las predicciones y_pred devuelve la tasa de acierto\n",
    "'''\n",
    "\n",
    "def evalua(y_test, y_pred):\n",
    "    return sum(1 for i in range(len(y_test)) if y_test[i] == y_pred[i]) / len(y_test)\n",
    "\n",
    "evalua(y_test, y_pred) # Una vez implementado debe devolver un valor en torno a 0.8"
   ]
  },
  {
   "cell_type": "markdown",
   "metadata": {},
   "source": [
    "# Adaptaciones para nuestro perceptron\n",
    "\n",
    "El perceptron que hemos programado solo puede clasificar 2 clases a la vez (para clasificar N clases se necesitan N perceptrones)\n",
    "\n",
    "Además nuestra implementación espera que las clases sean 0s o 1s, no nombres.\n",
    "\n",
    "**Solución**: selección con máscara booleana."
   ]
  },
  {
   "cell_type": "code",
   "execution_count": 20,
   "metadata": {},
   "outputs": [
    {
     "name": "stdout",
     "output_type": "stream",
     "text": [
      "[ True  True  True False False False]\n",
      "[1 2 3]\n",
      "[1 1 1 0 0 0]\n"
     ]
    }
   ],
   "source": [
    "'''\n",
    "Ejemplo 10\n",
    "\n",
    "Uso de la máscara booleana \n",
    "- Seleccionar solo los datos que cumplan un criterio\n",
    "- convertir un array de algún tipo en un array de 0s y 1s, con 1s donde se cumple el criterio\n",
    "\n",
    "'''\n",
    "\n",
    "a = np.array([1,2,3,4,5,6])\n",
    "mascara = a < 4\n",
    "\n",
    "print(mascara)\n",
    "print(a[mascara])\n",
    "\n",
    "# astype cambia al tipo que se quiera\n",
    "print(mascara.astype(int)) # los True se convierten en 1s los False en 0s\n"
   ]
  },
  {
   "cell_type": "code",
   "execution_count": 21,
   "metadata": {},
   "outputs": [],
   "source": [
    "'''\n",
    "Ejemplo 10.1\n",
    "\n",
    "La misma idea pero seleccionando solo los casos en los que la clase sea pájaro o árbol\n",
    "\n",
    "X_2C de todos los ejemplos de X solo se seleccionan aquellos donde la clase es pájaro o árbol\n",
    "y_2C de todos los ejemplos de y solo se seleccionan aquellos donde la clase es pájaro o árbol\n",
    "'''\n",
    "\n",
    "\n",
    "X_2C = X[((y == 'bird') | (y == 'tree'))]\n",
    "y_2C = y[((y == 'bird') | (y == 'tree'))]"
   ]
  },
  {
   "cell_type": "code",
   "execution_count": 22,
   "metadata": {},
   "outputs": [
    {
     "data": {
      "text/plain": [
       "array(['bird', 'bird', 'bird', 'bird', 'bird', 'bird', 'bird', 'bird',\n",
       "       'bird', 'bird', 'bird', 'bird', 'bird', 'bird', 'bird', 'bird',\n",
       "       'bird', 'bird', 'bird', 'bird', 'tree', 'tree', 'tree', 'tree',\n",
       "       'tree', 'tree', 'tree', 'tree', 'tree', 'tree', 'tree', 'tree',\n",
       "       'tree', 'tree', 'tree', 'tree', 'tree', 'tree', 'tree', 'tree'],\n",
       "      dtype='<U14')"
      ]
     },
     "execution_count": 22,
     "metadata": {},
     "output_type": "execute_result"
    }
   ],
   "source": [
    "# Tenemos solo dos clases, pero siguen siendo cadenas de texto\n",
    "y_2C"
   ]
  },
  {
   "cell_type": "code",
   "execution_count": 23,
   "metadata": {},
   "outputs": [
    {
     "data": {
      "text/plain": [
       "array([1, 1, 1, 1, 1, 1, 1, 1, 1, 1, 1, 1, 1, 1, 1, 1, 1, 1, 1, 1, 0, 0,\n",
       "       0, 0, 0, 0, 0, 0, 0, 0, 0, 0, 0, 0, 0, 0, 0, 0, 0, 0])"
      ]
     },
     "execution_count": 23,
     "metadata": {},
     "output_type": "execute_result"
    }
   ],
   "source": [
    "# Se convierte a 0s y 1s\n",
    "# Recuerda que el True se evalua como 1.\n",
    "y_2C_num = (y_2C == 'bird').astype(int)\n",
    "y_2C_num"
   ]
  },
  {
   "cell_type": "code",
   "execution_count": 24,
   "metadata": {},
   "outputs": [
    {
     "data": {
      "text/plain": [
       "Perceptron(alpha=0.0001, class_weight=None, eta0=0.1, fit_intercept=False,\n",
       "      max_iter=None, n_iter=None, n_jobs=1, penalty=None,\n",
       "      random_state=None, shuffle=False, tol=None, verbose=0,\n",
       "      warm_start=False)"
      ]
     },
     "execution_count": 24,
     "metadata": {},
     "output_type": "execute_result"
    }
   ],
   "source": [
    "from sklearn.linear_model import Perceptron\n",
    "\n",
    "X2C_train, X2C_test, y2C_train, y2C_test = train_test_split(X_2C, y_2C_num, stratify=y_2C_num, train_size = 0.7 )\n",
    "\n",
    "# Entrenando el perceptron de Sklearn\n",
    "clf = Perceptron(random_state=None, eta0= 0.1, shuffle=False, fit_intercept=False)\n",
    "clf.fit(X2C_train, y2C_train)"
   ]
  },
  {
   "cell_type": "code",
   "execution_count": 25,
   "metadata": {},
   "outputs": [
    {
     "data": {
      "text/plain": [
       "0.8333333333333334"
      ]
     },
     "execution_count": 25,
     "metadata": {},
     "output_type": "execute_result"
    }
   ],
   "source": [
    "y_pred_2C = clf.predict(X2C_test)\n",
    "\n",
    "evalua(y2C_test, y_pred_2C)"
   ]
  },
  {
   "cell_type": "markdown",
   "metadata": {},
   "source": [
    "# Usar el perceptron propio \n",
    "\n",
    "Habíamos visto que el perceptrón de sklearn tiene un método **fit** que entrena el clasificador.\n",
    "Nosotros tenemos un método **perceptron_train** que entrena el perceptron y devuelve los pesos.\n",
    "\n",
    "Trae a esta parte el código del perceptron y ejecutalo para obtener los pesos."
   ]
  },
  {
   "cell_type": "code",
   "execution_count": 26,
   "metadata": {},
   "outputs": [
    {
     "name": "stdout",
     "output_type": "stream",
     "text": [
      "Los pesos son:\n",
      "[ 0.          0.          0.09803922  0.19803922  0.1         0.\n",
      "  0.2         0.2        -0.1         0.          0.          0.\n",
      "  0.          0.1         0.1         0.          0.          0.09803922\n",
      "  0.19803922  0.19803922  0.1         0.1        -0.05       -0.1\n",
      "  0.225      -0.1        -0.05        0.          0.1         0.1\n",
      "  0.034375    0.1         0.07352941  0.09803922  0.09803922  0.19803922\n",
      "  0.1        -0.19607843 -0.39607843 -0.2        -0.1        -0.1\n",
      "  0.          0.1         0.2         0.2         0.2         0.0140625\n",
      "  0.          0.          0.09803922  0.19803922  0.14803922 -0.29803922\n",
      "  0.00196078 -0.10196078 -0.30196078 -0.00196078  0.          0.\n",
      "  0.1         0.2         0.1         0.          0.          0.\n",
      " -0.00196078  0.17303922 -0.29803922 -0.04803922 -0.09803922 -0.29803922\n",
      " -0.35196078 -0.29766391 -0.10196078  0.09803922  0.19803922  0.29803922\n",
      "  0.09803922  0.          0.          0.09803922  0.09803922  0.19803922\n",
      "  0.29803922 -0.09803922 -0.09803922 -0.00196078 -0.30196078 -0.00196078\n",
      "  0.14530484  0.12303922  0.19803922  0.19803922  0.19803922  0.09803922\n",
      "  0.         -0.00196078  0.09803922  0.1212814   0.17696078  0.10196078\n",
      " -0.09803922 -0.09803922 -0.00196078 -0.05196078  0.17303922  0.19803922\n",
      "  0.19803922  0.09803922  0.          0.          0.          0.\n",
      "  0.09803922 -0.09803922  0.30196078  0.00196078 -0.09803922 -0.09803922\n",
      "  0.0122549   0.07303922  0.0869064   0.48501838  0.1         0.1\n",
      "  0.          0.          0.          0.1         0.19803922  0.39803922\n",
      "  0.35196078  0.00196078  0.06563266  0.00196078  0.00196078  0.09803922\n",
      "  0.2         0.2         0.3         0.          0.          0.\n",
      "  0.1         0.1         0.2         0.10196078  0.20196078  0.20196078\n",
      " -0.19803922  0.00196078  0.00196078  0.00196078  0.1950674   0.3\n",
      "  0.3         0.2         0.1         0.          0.1         0.\n",
      "  0.20392157  0.10392157  0.12892157  0.10196078 -0.07303922 -0.1\n",
      "  0.29803922 -0.00196078  0.29803922  0.4         0.3         0.3\n",
      "  0.3         0.3         0.          0.          0.1         0.4\n",
      "  0.4         0.00392157 -0.39607843 -0.1         0.19803922  0.19803922\n",
      "  0.3         0.3         0.1375      0.06513672  0.2375      0.3\n",
      "  0.          0.1         0.1         0.          0.          0.\n",
      " -0.29607843 -0.071875    0.21327359 -0.00196078  0.1        -0.1\n",
      "  0.          0.          0.          0.          0.1         0.1\n",
      "  0.1         0.          0.1         0.00302734 -0.29607843  0.09803922\n",
      "  0.39803922  0.26289063  0.1         0.          0.          0.\n",
      "  0.          0.          0.          0.          0.          0.\n",
      "  0.1         0.1        -0.17030484  0.39803922  0.50741422  0.32851562\n",
      "  0.1         0.          0.          0.          0.          0.\n",
      "  0.          0.          0.          0.          0.1         0.\n",
      "  0.1         0.09803922  0.          0.          0.          0.\n",
      "  0.          0.          0.          0.        ]\n",
      "La suma de errores cuadráticos es:\n",
      "[5.0, 2.5, 1.5, 0.5, 0.0, 0.0, 0.0, 0.0, 0.0, 0.0, 0.0, 0.0, 0.0, 0.0, 0.0, 0.0, 0.0, 0.0, 0.0, 0.0, 0.0, 0.0, 0.0, 0.0, 0.0, 0.0, 0.0, 0.0, 0.0, 0.0, 0.0, 0.0, 0.0, 0.0, 0.0, 0.0, 0.0, 0.0, 0.0, 0.0, 0.0, 0.0, 0.0, 0.0, 0.0, 0.0, 0.0, 0.0, 0.0, 0.0]\n"
     ]
    }
   ],
   "source": [
    "'''\n",
    "Reemplaza la función por la tuya completa del otro notebook\n",
    "'''\n",
    "def entrena_perceptron(X, y, z, eta, t):    \n",
    "    # inicialización de los pesos\n",
    "    \n",
    "    \n",
    "    w = np.zeros(len(X[0]))       \n",
    "    n = 0                           # numero de iteraciones se inicializa a 0                     \n",
    "    \n",
    "    # Inicialización de variables adicionales \n",
    "    ypred = np.zeros(len(y))     # array para las predicciones de cada ejemplo\n",
    "    errors = np.zeros(len(y))       # array para los errores (valor real - predicción)\n",
    "    J = []                          # error total del modelo     \n",
    "    \n",
    "    \n",
    "    while n < t:  \n",
    "        ############## a completar (desde aqui) #################\n",
    "        # para cada ejemplo x del conjunto de datos X\n",
    "        #        Calcular el sumatorio de las entradas por los pesos (np.dot) \n",
    "        #        Se hace pasar el valor resultante por la función de activación \n",
    "        #        Para cada peso\n",
    "        #              actualizar peso\n",
    "        #######################################################\n",
    "        for i in range(len(X)):\n",
    "            ypred[i] = 1 if np.dot(X[i], w) > z else 0\n",
    "            for j in range(len(w)):\n",
    "                w[j] += eta * (y[i] - ypred[i]) * X[i][j]\n",
    "        ############## a completar (hasta aqui) #################\n",
    "        n += 1 # se incrementa el número de iteraciones \n",
    "\n",
    "        \n",
    "        \n",
    "        # calculo del error cuadrático del modelo\n",
    "        # esto no es más que la suma de cuadrados entre el valor real y la predicción\n",
    "        for i in range(0,len(y)):     \n",
    "            errors[i] = (y[i]-ypred[i])**2\n",
    "        J.append(0.5*np.sum(errors))\n",
    "           \n",
    "    # Devuelve los pesos y el error cuadrático\n",
    "    return w, J\n",
    "\n",
    "\n",
    "z = 0.0     # umbral\n",
    "eta = 0.1   # learning rate\n",
    "t = 50      # número de iteraciones\n",
    "\n",
    "weights, errors = entrena_perceptron(X2C_train, y2C_train, z, eta, t)\n",
    "\n",
    "\n",
    "print(\"Los pesos son:\")\n",
    "print(weights)\n",
    "\n",
    "print(\"La suma de errores cuadráticos es:\")\n",
    "print(errors)"
   ]
  },
  {
   "cell_type": "markdown",
   "metadata": {},
   "source": [
    "El perceptron de sklearn también tiene un método **predict** que pasadas unos ejemplos predice de que clase son.\n",
    "\n",
    "Nos hace falta una función similar. La vamos a llamar **predice_varios** y se va a basar en el ejemplo siguiente que predice la clase de un caso $x$."
   ]
  },
  {
   "cell_type": "code",
   "execution_count": 27,
   "metadata": {},
   "outputs": [
    {
     "name": "stdout",
     "output_type": "stream",
     "text": [
      "Valor real  0\n",
      "Valor predicho  0\n"
     ]
    }
   ],
   "source": [
    "'''\n",
    "Ejemplo 11.\n",
    "\n",
    "Función para hacer la predicción de un caso x\n",
    "'''\n",
    "\n",
    "def predice(w,x):\n",
    "    f = np.dot(x, w)             \n",
    "                       \n",
    "    # función de activación\n",
    "    y_pred = 1 if f > z else 0\n",
    "    \n",
    "    return y_pred\n",
    "\n",
    "# Se predice el primer caso del conjunto de datos (que no haga bien un ejemplo no significa que no está bien)\n",
    "# la implementación de sklearn solo tiene un 80% de acierto\n",
    "print(\"Valor real \", y2C_test[0])\n",
    "print(\"Valor predicho \",predice(weights,X2C_test[0]))"
   ]
  },
  {
   "cell_type": "code",
   "execution_count": 28,
   "metadata": {},
   "outputs": [
    {
     "data": {
      "text/plain": [
       "0.8333333333333334"
      ]
     },
     "execution_count": 28,
     "metadata": {},
     "output_type": "execute_result"
    }
   ],
   "source": [
    "'''\n",
    "Tarea 4\n",
    "\n",
    "Utilizando el ejemplo anterior. \n",
    "\n",
    "Evalua la tasa de acierto de tu perceptron.\n",
    "'''\n",
    "def predice_varios(w,X):\n",
    "    preds = []\n",
    "    for x in X:\n",
    "        preds.append(predice(w, x))\n",
    "    return np.array(preds)\n",
    "\n",
    "\n",
    "\n",
    "\n",
    "y_pred_2C = predice_varios(weights,X2C_test)\n",
    "\n",
    "evalua(y2C_test, y_pred_2C) # devuelve un valor en torno a 0.8\n"
   ]
  },
  {
   "cell_type": "markdown",
   "metadata": {},
   "source": [
    "# Parte Opcional\n",
    "\n",
    "## Entrenar un perceptron con un algoritmo genético\n",
    "\n",
    "En el algoritmo del perceptron lo que se hace es variar los pesos de acuerdo a una determinada fórmula, llamada descenso del gradiente. Pero los pesos podrian encontrarse de otras maneras, como por ejemplo con un genético.\n",
    "\n",
    "Para entrenar un perceptron usando un algoritmo genético hay que tener en cuenta lo siguiente:\n",
    "- El individuo son los pesos. Los pesos optimos en lugar de hallarse con el algoritmo del perceptron se van a hallar mediante el algoritmo genético.\n",
    "- El individuo es de tipo númerico, con valores comprendidos entre -1 y 1.\n",
    "- El tamaño del individuo es igual al número de atributos del conjunto de entrenamiento.\n",
    "- El tipo de problema es maximización (queremos maximizar una tasa de acierto.)\n",
    "- Se van a usar métodos de mutación y cruce para individuos de tipo numérico (busca cuales son en los apuntes y reutiliza los códigos).\n",
    "\n",
    "- La clave es la función de fitness.\n",
    "\n",
    "### Función de Fitness\n",
    "\n",
    "\n",
    "La función de evaluación o función de fitness va a devolver la tasa de acierto.\n",
    "\n",
    "Para ello solo puede utilizar los datos de entrenamiento, los mismos que se usaban en el entrenamiento del perceptron.\n",
    "\n",
    "Se van a tomar los pesos del individuo y se van a usar para predecir la tasa de acierto, usando las funciones anteriores **predice_varios** y **evalua**.\n",
    "\n"
   ]
  },
  {
   "cell_type": "code",
   "execution_count": 29,
   "metadata": {},
   "outputs": [
    {
     "name": "stdout",
     "output_type": "stream",
     "text": [
      "1.2\n"
     ]
    }
   ],
   "source": [
    "\n",
    "import random\n",
    "\n",
    "import numpy as np\n",
    "\n",
    "from deap import algorithms\n",
    "from deap import base\n",
    "from deap import creator\n",
    "from deap import tools\n",
    "import deap\n",
    "print(deap.__version__)\n",
    "\n",
    "\n",
    "'''\n",
    "En la función de evaluación, se devuelve un tupla aunque solo se optimize un valor, por eso\n",
    "la coma despues del primer valor retornado\n",
    "'''\n",
    "def evalFunct(individual):\n",
    "    return evalua(y2C_test, predice_varios(individual, X2C_test)),\n",
    "\n",
    "\n",
    "creator.create(\"FitnessMax\", base.Fitness, weights=(1.0,)) # Minimiza\n",
    "creator.create(\"IndividualArray\", np.ndarray, fitness=creator.FitnessMax)"
   ]
  },
  {
   "cell_type": "code",
   "execution_count": 30,
   "metadata": {},
   "outputs": [],
   "source": [
    "toolbox = base.Toolbox()\n",
    "\n",
    "# se registra attr_float como un entero aleatorio entre -1 y 1\n",
    "# se registra individual como una repetición de attr_float, tantos como atributos, el contenedor es el tipo Individual\n",
    "# se registra population como una repetición de individual, el contenedor es una lista\n",
    "toolbox.register(\"attr_float\", random.uniform,-1, 1)\n",
    "toolbox.register(\"individual\", tools.initRepeat, creator.IndividualArray, toolbox.attr_float, n=len(X2C_train[0]))\n",
    "toolbox.register(\"population\", tools.initRepeat, list, toolbox.individual)"
   ]
  },
  {
   "cell_type": "code",
   "execution_count": 31,
   "metadata": {},
   "outputs": [],
   "source": [
    "toolbox.register(\"evaluate\", evalFunct)\n",
    "toolbox.register(\"mate\", tools.cxOnePoint)\n",
    "toolbox.register(\"mutate\", tools.mutGaussian, mu=0.0, sigma=0.2, indpb=0.2)\n",
    "toolbox.register(\"select\", tools.selTournament, tournsize=3)\n",
    "\n",
    "\n",
    "random.seed(64)\n",
    "# se crea una población inicial de 50\n",
    "pop = toolbox.population(n=500)  "
   ]
  },
  {
   "cell_type": "code",
   "execution_count": 32,
   "metadata": {},
   "outputs": [
    {
     "name": "stdout",
     "output_type": "stream",
     "text": [
      "gen\tnevals\tavg     \tstd     \tmin      \tmax     \n",
      "0  \t500   \t0.504833\t0.136795\t0.0833333\t0.916667\n",
      "1  \t208   \t0.618667\t0.106986\t0.25     \t0.916667\n",
      "2  \t205   \t0.7005  \t0.0962189\t0.416667 \t0.916667\n",
      "3  \t220   \t0.7705  \t0.0917985\t0.25     \t1       \n",
      "4  \t244   \t0.823833\t0.0804934\t0.5      \t1       \n",
      "5  \t209   \t0.863667\t0.0790352\t0.5      \t1       \n",
      "6  \t240   \t0.890833\t0.0813898\t0.5      \t1       \n",
      "7  \t203   \t0.914   \t0.0777717\t0.5      \t1       \n",
      "8  \t252   \t0.9365  \t0.0794668\t0.5      \t1       \n",
      "9  \t218   \t0.9715  \t0.0630826\t0.5      \t1       \n",
      "10 \t227   \t0.992667\t0.0341825\t0.666667 \t1       \n",
      "11 \t172   \t0.994   \t0.0344416\t0.666667 \t1       \n",
      "12 \t227   \t0.994667\t0.0252631\t0.833333 \t1       \n",
      "13 \t216   \t0.995667\t0.0259936\t0.666667 \t1       \n",
      "14 \t224   \t0.994   \t0.0314925\t0.666667 \t1       \n",
      "15 \t207   \t0.996   \t0.0232283\t0.75     \t1       \n",
      "16 \t208   \t0.992833\t0.029179 \t0.75     \t1       \n",
      "17 \t239   \t0.994   \t0.0287247\t0.666667 \t1       \n",
      "18 \t230   \t0.994   \t0.0267208\t0.75     \t1       \n",
      "19 \t199   \t0.996333\t0.0186458\t0.833333 \t1       \n",
      "20 \t217   \t0.994667\t0.025807 \t0.666667 \t1       \n"
     ]
    },
    {
     "data": {
      "text/plain": [
       "IndividualArray([-0.48854867,  0.87684464,  0.36631737, -0.16379815,\n",
       "                  0.7905024 , -0.94501639,  0.94609247,  0.9091989 ,\n",
       "                  0.96305654, -0.67967161, -0.91021595, -0.34225983,\n",
       "                 -0.178275  ,  0.79155657, -0.24941116,  0.49703753,\n",
       "                 -0.05858057, -0.60368805,  0.92586207,  0.99296071,\n",
       "                 -0.60208674,  0.26750427,  0.49279263, -0.02563462,\n",
       "                  0.8606165 , -0.01788374, -0.25860279, -0.79749811,\n",
       "                 -0.92622221, -0.30360993,  0.78181429,  0.44361141,\n",
       "                  0.6913994 ,  0.86178554, -0.84534817,  0.13602739,\n",
       "                  0.01412605,  0.55657781, -0.01757961, -0.59815195,\n",
       "                 -0.73130009, -0.35148447,  0.65242185,  0.47659747,\n",
       "                 -0.24487926,  0.01288122, -0.22505205, -0.9792449 ,\n",
       "                 -0.58601477, -0.0842625 ,  0.24958974, -0.9447985 ,\n",
       "                 -0.42264311,  0.10659312, -0.21507088, -0.35031635,\n",
       "                  0.51543626, -0.45840744,  0.15382817, -0.95098807,\n",
       "                  0.11289284,  0.67388962, -0.1566077 ,  0.2662818 ,\n",
       "                  0.34774273,  0.27098507,  0.60706941, -0.81190732,\n",
       "                 -0.95809189,  0.26418252,  0.58633354, -0.7709802 ,\n",
       "                 -0.3026522 , -0.04844041, -0.18149784,  0.77676231,\n",
       "                 -0.9083979 ,  0.28300635, -0.02793029, -0.50076582,\n",
       "                 -0.1960324 ,  0.01221677, -0.45999365,  0.30437648,\n",
       "                  0.42965051, -0.89692595, -0.14078613, -0.90079906,\n",
       "                 -0.39073943, -0.53259686, -0.18603657, -0.28792418,\n",
       "                  0.51517656,  0.2074005 ,  0.00255736,  0.36699267,\n",
       "                  0.34296304,  0.53478629,  0.56934149,  0.7608942 ,\n",
       "                  0.64965802,  0.18621621,  0.66167071,  0.78217841,\n",
       "                 -0.04258747,  0.88660348, -0.76574321,  0.94617648,\n",
       "                 -0.96143369, -0.14585976, -0.37498721,  0.08278977,\n",
       "                  0.54068806, -0.41601308,  0.86038122, -0.43888055,\n",
       "                  0.38773452,  0.85993587,  0.61585038, -0.28820463,\n",
       "                  0.21637229,  0.9324616 , -0.27076413,  0.6244615 ,\n",
       "                 -0.01875595,  0.38153221,  0.61403875, -0.51264059,\n",
       "                  0.78145313,  0.80434105,  0.34772257,  0.18685388,\n",
       "                 -0.7923721 ,  0.00201508,  0.8740892 ,  0.31163214,\n",
       "                 -0.85723284, -0.36057414,  0.37042043,  0.22273949,\n",
       "                  0.35784512,  0.33687506, -0.83083369, -0.67961065,\n",
       "                  0.80895839, -0.42531231,  0.18299316, -0.89910127,\n",
       "                  0.47806209, -0.18998439,  0.45318462, -0.40639568,\n",
       "                 -0.80112161, -0.73697678, -0.70385533, -0.93531782,\n",
       "                 -0.39044633, -0.50934692,  0.51881067,  0.95224648,\n",
       "                  0.52881631,  0.66281014, -0.98218398,  0.23510134,\n",
       "                  0.15437717, -0.76848458, -0.46652628,  0.42007833,\n",
       "                 -0.6735719 , -0.90995784, -0.50588701,  0.66774441,\n",
       "                  0.82698167,  0.64333248,  0.15524968, -0.28213087,\n",
       "                 -0.54043162,  0.44314256, -0.76683594, -0.05877836,\n",
       "                  0.6478791 , -0.5053631 ,  0.80636705, -0.04411475,\n",
       "                 -0.30725215, -0.38553033,  0.84947564,  0.71884236,\n",
       "                 -0.15660485, -0.33208038, -0.32588991, -0.38052909,\n",
       "                 -0.12091616, -0.25832   ,  0.31973926,  0.84019771,\n",
       "                  0.47207578, -0.54530225,  0.91503902,  0.82264816,\n",
       "                 -0.65771481, -0.20502533,  0.88807026,  0.38399977,\n",
       "                 -0.6441512 ,  0.12066327,  0.29105334, -0.21437899,\n",
       "                  0.18509781,  0.20362959, -0.66458572, -0.13059969,\n",
       "                 -0.36755337, -0.72250873, -0.94809636, -0.74693757,\n",
       "                  0.70476249, -0.48514924,  0.9250944 ,  0.78753032,\n",
       "                 -0.34059855,  0.66464167,  0.78971526, -0.84519509,\n",
       "                 -0.56185382,  0.16194772,  0.49206227, -0.39727865,\n",
       "                  0.28722281,  0.37644749, -0.26706949,  0.8295269 ,\n",
       "                  0.30789045,  0.67920777,  0.5863178 , -0.58699317,\n",
       "                  0.26213832, -0.56169312,  0.93914616, -0.08543149,\n",
       "                  0.94843664, -0.00918961,  0.91617388,  0.79937936,\n",
       "                 -0.85915468, -0.49982527,  0.09649664,  0.3297421 ,\n",
       "                  0.01168342,  0.07059336,  0.36499784, -0.33186584,\n",
       "                 -0.20763132,  0.73202998,  0.13473434, -0.68838888])"
      ]
     },
     "execution_count": 32,
     "metadata": {},
     "output_type": "execute_result"
    }
   ],
   "source": [
    "'''\n",
    "HallOfFame contiene los N mejores individuos vistos durante todo el proceso\n",
    "Como el tipo del individuo es personalizado hay que pasarle una función de comparación\n",
    "'''    \n",
    "hof = tools.HallOfFame(1, similar=np.array_equal)\n",
    "    \n",
    "stats = tools.Statistics(lambda ind: ind.fitness.values)\n",
    "stats.register(\"avg\", np.mean)\n",
    "stats.register(\"std\", np.std)\n",
    "stats.register(\"min\", np.min)\n",
    "stats.register(\"max\", np.max)\n",
    "    \n",
    "pop, logbook = algorithms.eaSimple(pop, toolbox, cxpb=0.4, mutpb=0.05, ngen=20, stats=stats, halloffame=hof)\n",
    "hof[0]"
   ]
  },
  {
   "cell_type": "code",
   "execution_count": 28,
   "metadata": {},
   "outputs": [
    {
     "data": {
      "text/plain": [
       "1.0"
      ]
     },
     "execution_count": 28,
     "metadata": {},
     "output_type": "execute_result"
    }
   ],
   "source": [
    "'''\n",
    "Haz pruebas con distintos valores de los parámetros.\n",
    "\n",
    "'''\n",
    "\n",
    "\n",
    "pesos_genetico = hof[0]\n",
    "\n",
    "y_pred_2C = predice_varios(pesos_genetico,X2C_test)\n",
    "\n",
    "evalua(y2C_test, y_pred_2C)"
   ]
  },
  {
   "cell_type": "code",
   "execution_count": null,
   "metadata": {},
   "outputs": [],
   "source": []
  }
 ],
 "metadata": {
  "anaconda-cloud": {},
  "kernelspec": {
   "display_name": "Python 3",
   "language": "python",
   "name": "python3"
  },
  "language_info": {
   "codemirror_mode": {
    "name": "ipython",
    "version": 3
   },
   "file_extension": ".py",
   "mimetype": "text/x-python",
   "name": "python",
   "nbconvert_exporter": "python",
   "pygments_lexer": "ipython3",
   "version": "3.6.5"
  }
 },
 "nbformat": 4,
 "nbformat_minor": 1
}
