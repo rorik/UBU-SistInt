{
 "cells": [
  {
   "cell_type": "markdown",
   "metadata": {
    "slideshow": {
     "slide_type": "slide"
    }
   },
   "source": [
    "![UBU](./pics/escudo_COLOR_1L_DCHA.png)\n",
    "\n",
    "# Introduction to Programming Using Python\n",
    "\n",
    "\n",
    "## PacMan\n",
    "\n"
   ]
  },
  {
   "cell_type": "markdown",
   "metadata": {
    "slideshow": {
     "slide_type": "slide"
    }
   },
   "source": [
    "Pacman (in this simplified version) is a game in which a character (pacman) moves through a board, in the board we have free spaces and walls. On this board, there is food in the free squares. When pacman is placed in a cell with food, the food disappears and the points increase.\n",
    "\n",
    "![Comecocos](comecocos.png)\n",
    "\n"
   ]
  },
  {
   "cell_type": "markdown",
   "metadata": {
    "slideshow": {
     "slide_type": "slide"
    }
   },
   "source": [
    "## Parts of the game\n",
    "\n",
    "- Board: Define the free cells and the walls. It is static, never changes.\n",
    "- MrPacman: Define the position of the character (y,x). It can change.\n",
    "- Food: Some cells have food. MrPacman eat the food when step on one of these cells. \n",
    "- Points: A number that increases as the food is eaten.\n",
    "\n",
    "\n"
   ]
  },
  {
   "cell_type": "markdown",
   "metadata": {
    "slideshow": {
     "slide_type": "slide"
    }
   },
   "source": [
    "## Questions about representation of the game\n",
    "\n",
    "What data structures should we use?\n",
    "\n",
    "________\n",
    "_________\n",
    "_________\n",
    "________\n",
    "_________\n",
    "_________\n",
    "________\n",
    "_________\n",
    "_________\n",
    "_________\n",
    "_________\n",
    "_________"
   ]
  },
  {
   "cell_type": "markdown",
   "metadata": {
    "slideshow": {
     "slide_type": "subslide"
    }
   },
   "source": [
    "## Questions about representation of the game\n",
    "\n",
    "What data structures should we use?\n",
    "\n",
    "- The board will never change, it could be a tuple of tuples. Each internal tuple representing a row. In each tuple, 0 means free cell and 1 means wall.\n",
    "________\n",
    "_________\n",
    "_________\n",
    "________\n",
    "_________\n",
    "_________\n",
    "________\n",
    "_________\n",
    "_________\n",
    "_________\n",
    "_________\n",
    "_________\n"
   ]
  },
  {
   "cell_type": "markdown",
   "metadata": {
    "slideshow": {
     "slide_type": "subslide"
    }
   },
   "source": [
    "## Questions about representation of the game\n",
    "\n",
    "What data structures should we use?\n",
    "\n",
    "- MrPacman can change, the better is a list of coordinates (y, x)\n",
    "________\n",
    "_________\n",
    "_________\n",
    "________\n",
    "_________\n",
    "_________\n",
    "________\n",
    "_________\n",
    "_________\n",
    "_________\n",
    "_________\n",
    "_________\n"
   ]
  },
  {
   "cell_type": "markdown",
   "metadata": {
    "slideshow": {
     "slide_type": "subslide"
    }
   },
   "source": [
    "## Questions about representation of the game\n",
    "\n",
    "What data structures should we use?\n",
    "\n",
    "- Food: When need to know if there is food in a cell. When the eat is eaten we eliminate that element from the data structure.\n",
    "\n",
    "Food can be a list of list. In each internal list there is a coordinate, that means that in this position there is food.\n",
    "\n",
    "We can check if there is food using **in** operator and we can remove the food of a cell using **remove**\n",
    "\n",
    "________\n",
    "_________\n",
    "_________\n",
    "________\n",
    "_________\n",
    "_________\n",
    "________\n",
    "_________\n",
    "_________\n",
    "_________\n",
    "_________\n",
    "_________\n",
    "\n"
   ]
  },
  {
   "cell_type": "markdown",
   "metadata": {
    "slideshow": {
     "slide_type": "subslide"
    }
   },
   "source": [
    "## Questions about representation of the game\n",
    "\n",
    "What data structures should we use?\n",
    "\n",
    "- Points: A numeric variable.\n",
    "\n",
    "________\n",
    "_________\n",
    "_________\n",
    "________\n",
    "_________\n",
    "_________\n",
    "________\n",
    "_________\n",
    "_________\n",
    "_________\n",
    "_________\n",
    "_________"
   ]
  },
  {
   "cell_type": "markdown",
   "metadata": {
    "slideshow": {
     "slide_type": "slide"
    }
   },
   "source": [
    "## Ejemplo de representación de una partida\n"
   ]
  },
  {
   "cell_type": "code",
   "execution_count": 1,
   "metadata": {
    "slideshow": {
     "slide_type": "fragment"
    }
   },
   "outputs": [],
   "source": [
    "# game example\n",
    "board   = [[1,1,1,1,1,1,1,1,1,1],\n",
    "           [1,0,0,0,0,0,0,0,0,1],\n",
    "           [1,0,1,0,1,1,0,1,0,1],\n",
    "           [1,0,1,0,1,1,0,1,0,1],\n",
    "           [1,0,1,0,1,1,0,1,0,1],\n",
    "           [1,0,0,0,1,1,0,0,0,1],\n",
    "           [1,1,1,0,1,1,0,1,0,1],\n",
    "           [1,1,1,0,0,0,0,1,1,1],\n",
    "           [1,1,1,1,1,1,0,0,0,1],\n",
    "           [1,1,1,1,1,1,1,1,0,1],\n",
    "           [1,1,1,1,1,1,1,1,1,1]]\n",
    "pacman = [1,1]\n",
    "points = 0\n",
    "\n"
   ]
  },
  {
   "cell_type": "code",
   "execution_count": 2,
   "metadata": {},
   "outputs": [
    {
     "data": {
      "text/plain": [
       "[1, 1, 1, 1, 1, 1, 1, 1, 1, 1]"
      ]
     },
     "execution_count": 2,
     "metadata": {},
     "output_type": "execute_result"
    }
   ],
   "source": [
    "board[0] # first row"
   ]
  },
  {
   "cell_type": "code",
   "execution_count": 3,
   "metadata": {},
   "outputs": [
    {
     "data": {
      "text/plain": [
       "1"
      ]
     },
     "execution_count": 3,
     "metadata": {},
     "output_type": "execute_result"
    }
   ],
   "source": [
    "board[0][1] # first row, second column"
   ]
  },
  {
   "cell_type": "markdown",
   "metadata": {
    "slideshow": {
     "slide_type": "slide"
    }
   },
   "source": [
    "## Exercise\n",
    "\n",
    "Define a function that checks if the board is free in a certain coordinate.\n",
    "\n",
    "Is free if the board value is 0\n",
    "\n",
    "\n",
    "\n",
    "```Python\n",
    "def is_free(board, coordinate):\n",
    "    return False\n",
    "```\n",
    "\n",
    "________\n",
    "_________\n",
    "_________\n",
    "________\n",
    "_________\n",
    "_________\n",
    "________\n",
    "_________\n",
    "_________\n",
    "_________\n",
    "_________\n",
    "_________\n"
   ]
  },
  {
   "cell_type": "code",
   "execution_count": 4,
   "metadata": {
    "slideshow": {
     "slide_type": "slide"
    }
   },
   "outputs": [],
   "source": [
    "# Posible solution\n",
    "def is_free(board, coordinate):\n",
    "    return board[coordinate[0]][coordinate[1]] ==0"
   ]
  },
  {
   "cell_type": "markdown",
   "metadata": {
    "slideshow": {
     "slide_type": "slide"
    }
   },
   "source": [
    "## Exercise\n",
    "\n",
    "Function to know where to place the food, first we have to know all the free cells of the board.\n",
    "\n",
    "Tip: find out the size of the board, loop through all posible coordinates, use the previous function, add items to a list)\n",
    "\n",
    "```Python\n",
    "def get_free_cells(board):\n",
    "        \n",
    "    free_cells = []\n",
    "    \n",
    "    ... \n",
    "    return free_cells\n",
    "```\n",
    "\n"
   ]
  },
  {
   "cell_type": "code",
   "execution_count": 5,
   "metadata": {},
   "outputs": [
    {
     "name": "stdout",
     "output_type": "stream",
     "text": [
      "[0, 0]\n",
      "[0, 1]\n",
      "[0, 2]\n",
      "[0, 3]\n",
      "[0, 4]\n",
      "[0, 5]\n",
      "[0, 6]\n",
      "[0, 7]\n",
      "[0, 8]\n",
      "[0, 9]\n",
      "[1, 0]\n",
      "[1, 1]\n",
      "[1, 2]\n",
      "[1, 3]\n",
      "[1, 4]\n",
      "[1, 5]\n",
      "[1, 6]\n",
      "[1, 7]\n",
      "[1, 8]\n",
      "[1, 9]\n",
      "[2, 0]\n",
      "[2, 1]\n",
      "[2, 2]\n",
      "[2, 3]\n",
      "[2, 4]\n",
      "[2, 5]\n",
      "[2, 6]\n",
      "[2, 7]\n",
      "[2, 8]\n",
      "[2, 9]\n",
      "[3, 0]\n",
      "[3, 1]\n",
      "[3, 2]\n",
      "[3, 3]\n",
      "[3, 4]\n",
      "[3, 5]\n",
      "[3, 6]\n",
      "[3, 7]\n",
      "[3, 8]\n",
      "[3, 9]\n",
      "[4, 0]\n",
      "[4, 1]\n",
      "[4, 2]\n",
      "[4, 3]\n",
      "[4, 4]\n",
      "[4, 5]\n",
      "[4, 6]\n",
      "[4, 7]\n",
      "[4, 8]\n",
      "[4, 9]\n",
      "[5, 0]\n",
      "[5, 1]\n",
      "[5, 2]\n",
      "[5, 3]\n",
      "[5, 4]\n",
      "[5, 5]\n",
      "[5, 6]\n",
      "[5, 7]\n",
      "[5, 8]\n",
      "[5, 9]\n",
      "[6, 0]\n",
      "[6, 1]\n",
      "[6, 2]\n",
      "[6, 3]\n",
      "[6, 4]\n",
      "[6, 5]\n",
      "[6, 6]\n",
      "[6, 7]\n",
      "[6, 8]\n",
      "[6, 9]\n",
      "[7, 0]\n",
      "[7, 1]\n",
      "[7, 2]\n",
      "[7, 3]\n",
      "[7, 4]\n",
      "[7, 5]\n",
      "[7, 6]\n",
      "[7, 7]\n",
      "[7, 8]\n",
      "[7, 9]\n",
      "[8, 0]\n",
      "[8, 1]\n",
      "[8, 2]\n",
      "[8, 3]\n",
      "[8, 4]\n",
      "[8, 5]\n",
      "[8, 6]\n",
      "[8, 7]\n",
      "[8, 8]\n",
      "[8, 9]\n",
      "[9, 0]\n",
      "[9, 1]\n",
      "[9, 2]\n",
      "[9, 3]\n",
      "[9, 4]\n",
      "[9, 5]\n",
      "[9, 6]\n",
      "[9, 7]\n",
      "[9, 8]\n",
      "[9, 9]\n",
      "[10, 0]\n",
      "[10, 1]\n",
      "[10, 2]\n",
      "[10, 3]\n",
      "[10, 4]\n",
      "[10, 5]\n",
      "[10, 6]\n",
      "[10, 7]\n",
      "[10, 8]\n",
      "[10, 9]\n"
     ]
    }
   ],
   "source": [
    "# Tip: loop over all posible coordinates \n",
    "high = len(board)\n",
    "width = len(board[0])\n",
    "\n",
    "for i in range(high):\n",
    "    for j in range(width):\n",
    "        print([i,j])"
   ]
  },
  {
   "cell_type": "code",
   "execution_count": 6,
   "metadata": {},
   "outputs": [],
   "source": [
    "# complete the function\n",
    "def get_free_cells(board):\n",
    "        \n",
    "    free_cells = []\n",
    "    \n",
    "    \n",
    "    return free_cells"
   ]
  },
  {
   "cell_type": "markdown",
   "metadata": {},
   "source": [
    "________\n",
    "_________\n",
    "_________\n",
    "________\n",
    "_________\n",
    "_________\n",
    "________\n",
    "_________\n",
    "_________\n",
    "_________\n",
    "_________\n",
    "_________\n"
   ]
  },
  {
   "cell_type": "code",
   "execution_count": 7,
   "metadata": {
    "slideshow": {
     "slide_type": "slide"
    }
   },
   "outputs": [],
   "source": [
    "def get_free_cells(board):\n",
    "    \n",
    "    \n",
    "    free_cells = []\n",
    "    \n",
    "    high = len(board)\n",
    "    width = len(board[0])\n",
    "\n",
    "    for i in range(high):\n",
    "        for j in range(width):\n",
    "            coord = [i,j]\n",
    "            if is_free(board,coord):\n",
    "                free_cells.append(coord)\n",
    "    return free_cells\n",
    "\n",
    "# save the result in variable food\n",
    "food = get_free_cells(board) "
   ]
  },
  {
   "cell_type": "markdown",
   "metadata": {
    "slideshow": {
     "slide_type": "slide"
    }
   },
   "source": [
    "## Exercise\n",
    "\n",
    "Moving pacman to one of its four adjacent coordinates is basically to add to the coordinates of pacman a list passed as an argument that can be worth [1,0] (move down), [-1,0] (move up), [0,1] (move right) or [0, -1] (move left)\n",
    "\n",
    "```Python\n",
    "def move(pacman,mov):\n",
    "    return new_coord\n",
    "```\n"
   ]
  },
  {
   "cell_type": "code",
   "execution_count": 8,
   "metadata": {},
   "outputs": [],
   "source": [
    "# complete the function here\n",
    "def move(pacman,mov):\n",
    "    return 0\n",
    "\n",
    "\n",
    "\n",
    "\n"
   ]
  },
  {
   "cell_type": "markdown",
   "metadata": {},
   "source": [
    "\n",
    "________\n",
    "_________\n",
    "_________\n",
    "________\n",
    "_________\n",
    "_________\n",
    "________\n",
    "_________\n",
    "_________\n",
    "_________\n",
    "_________\n",
    "_________\n"
   ]
  },
  {
   "cell_type": "code",
   "execution_count": 39,
   "metadata": {
    "slideshow": {
     "slide_type": "slide"
    }
   },
   "outputs": [],
   "source": [
    "# with map\n",
    "def move(pacman,mov):\n",
    "    return list(map(lambda x,y: x+y, pacman,mov))\n",
    "\n",
    "# without map\n",
    "def move(pacman,mov):\n",
    "    return [pacman[0]+mov[0], pacman[1]+mov[1]]\n",
    "\n"
   ]
  },
  {
   "cell_type": "markdown",
   "metadata": {
    "slideshow": {
     "slide_type": "slide"
    }
   },
   "source": [
    "## Exercise\n",
    "\n",
    "Function tha check if there is food in the coordinates of the pacman.\n",
    "\n",
    "Tip: Use **in** operator.\n",
    "\n",
    "```Python\n",
    "def is_food(pacman,food):\n",
    "    return False\n",
    "```\n",
    "\n"
   ]
  },
  {
   "cell_type": "code",
   "execution_count": 10,
   "metadata": {},
   "outputs": [],
   "source": [
    "# complete the function here\n",
    "def is_food(pacman,food):\n",
    "    return False\n",
    "\n",
    "\n"
   ]
  },
  {
   "cell_type": "markdown",
   "metadata": {},
   "source": [
    "________\n",
    "_________\n",
    "_________\n",
    "________\n",
    "_________\n",
    "_________\n",
    "________\n",
    "_________\n",
    "_________\n",
    "_________\n",
    "_________\n",
    "_________\n"
   ]
  },
  {
   "cell_type": "code",
   "execution_count": 11,
   "metadata": {
    "slideshow": {
     "slide_type": "slide"
    }
   },
   "outputs": [],
   "source": [
    "\n",
    "def is_food(pacman,food):\n",
    "    return pacman in food"
   ]
  },
  {
   "cell_type": "markdown",
   "metadata": {
    "slideshow": {
     "slide_type": "slide"
    }
   },
   "source": [
    "## Exercise. Draw game\n",
    "\n",
    "The function gets: board, pacman, food, and points. It prints a text string that represents the game.\n",
    "\n",
    "\n",
    "1. Get the size of the board\n",
    "2. Loop over al the positions of the board\n",
    "3. Add values to the text string:\n",
    "    - Walls #, food . pacman \\*\n",
    "    - You should use if/elif/else    \n",
    "    - You can concatenate strings using +\n",
    "4. Add the points at the end in a new line\n",
    "\n",
    "\n",
    "\n",
    "\n",
    "\n",
    "\n"
   ]
  },
  {
   "cell_type": "code",
   "execution_count": 12,
   "metadata": {
    "slideshow": {
     "slide_type": "slide"
    }
   },
   "outputs": [
    {
     "name": "stdout",
     "output_type": "stream",
     "text": [
      "\n"
     ]
    }
   ],
   "source": [
    "def draw_game(board,pacman,food,points):\n",
    "    high = len(board)\n",
    "    width = len(board[0])\n",
    "    \n",
    "    game_representation = \"\"\n",
    "    \n",
    "    \n",
    "    # complete here \n",
    "                \n",
    "    print(game_representation)\n",
    "\n",
    "# complete the function\n",
    "draw_game(board,pacman,food,points)"
   ]
  },
  {
   "cell_type": "markdown",
   "metadata": {},
   "source": [
    "________\n",
    "_________\n",
    "_________\n",
    "________\n",
    "_________\n",
    "_________\n",
    "________\n",
    "_________\n",
    "_________\n",
    "_________\n",
    "_________\n",
    "_________\n"
   ]
  },
  {
   "cell_type": "code",
   "execution_count": 13,
   "metadata": {
    "slideshow": {
     "slide_type": "slide"
    }
   },
   "outputs": [],
   "source": [
    "def draw_game(board,pacman,food,points):\n",
    "    high = len(board)\n",
    "    width = len(board[0])\n",
    "    \n",
    "    game_representation = \"\"\n",
    "    \n",
    "    for i in range(high):\n",
    "        for j in range(width):\n",
    "            coord = (i,j)\n",
    "            if not is_free(board,coord):\n",
    "                game_representation+=\"#\"\n",
    "            elif tuple(pacman) == coord:\n",
    "                game_representation+=\"*\"\n",
    "            elif coord in food:\n",
    "                game_representation+=\".\"\n",
    "            else:\n",
    "                game_representation+=\" \"\n",
    "        game_representation+=\"\\n\"\n",
    "    \n",
    "    game_representation+=\"Points:\"+str(points)\n",
    "                    \n",
    "    print(game_representation)\n",
    "\n"
   ]
  },
  {
   "cell_type": "code",
   "execution_count": 14,
   "metadata": {
    "slideshow": {
     "slide_type": "slide"
    }
   },
   "outputs": [
    {
     "name": "stdout",
     "output_type": "stream",
     "text": [
      "##########\n",
      "#*       #\n",
      "# # ## # #\n",
      "# # ## # #\n",
      "# # ## # #\n",
      "#   ##   #\n",
      "### ## # #\n",
      "###    ###\n",
      "######   #\n",
      "######## #\n",
      "##########\n",
      "Points:0\n"
     ]
    }
   ],
   "source": [
    "draw_game(board,pacman,food,points)"
   ]
  },
  {
   "cell_type": "markdown",
   "metadata": {
    "slideshow": {
     "slide_type": "slide"
    }
   },
   "source": [
    "## draw_game HTML\n",
    "\n",
    "An HTML widget is able to render HTML\n",
    "\n",
    "For example we can show a HTML table with a different image per game element.\n",
    "\n",
    "This function is provided by the teacher."
   ]
  },
  {
   "cell_type": "code",
   "execution_count": 15,
   "metadata": {
    "slideshow": {
     "slide_type": "slide"
    }
   },
   "outputs": [],
   "source": [
    "from IPython.display import display\n",
    "from ipywidgets import HTML\n",
    "\n",
    "def draw_gameHTML(board,pacman,food,points):\n",
    "    high, width = len(board), len(board[0])    \n",
    "    representationHTML = '<table> <tr>'    \n",
    "    value = '<td></td>'\n",
    "    block_img = '<td><img src=\"./spritesPacman/block.jpg\" alt=\"\" border=0 height=50 width=50></img></td>'\n",
    "    free_img = '<td><img src=\"./spritesPacman/hueco.jpg\" alt=\"\" border=0 height=50 width=50></img></td>'\n",
    "    food_img = '<td><img src=\"./spritesPacman/comida.jpg\" alt=\"\" border=0 height=50 width=50></img></td>'     \n",
    "    pacman_img = '<td><img src=\"./spritesPacman/pacman.jpg\" alt=\"\" border=0 height=50 width=50></img></td>'\n",
    "    new_line = \"</tr>\"\n",
    "    \n",
    "    for i in range(high):\n",
    "        for j in range(width):\n",
    "            coord = [i,j]\n",
    "            if not is_free(board,coord):\n",
    "                value = block_img\n",
    "            elif pacman == coord:\n",
    "                value = pacman_img\n",
    "            elif coord in food:\n",
    "                value = food_img\n",
    "            else:\n",
    "                value = free_img\n",
    "                \n",
    "            representationHTML += value\n",
    "        representationHTML += new_line        \n",
    "        \n",
    "    representationHTML += new_line\n",
    "    representationHTML += \"Points:\"+str(points)        \n",
    "    return representationHTML"
   ]
  },
  {
   "cell_type": "code",
   "execution_count": 16,
   "metadata": {
    "slideshow": {
     "slide_type": "slide"
    }
   },
   "outputs": [
    {
     "data": {
      "application/vnd.jupyter.widget-view+json": {
       "model_id": "34e07295b5504130a0be934de749ecb9",
       "version_major": 2,
       "version_minor": 0
      },
      "text/plain": [
       "HTML(value='<table> <tr><td><img src=\"./spritesPacman/block.jpg\" alt=\"\" border=0 height=50 width=50></img></td…"
      ]
     },
     "metadata": {},
     "output_type": "display_data"
    }
   ],
   "source": [
    "HTML(draw_gameHTML(board,pacman,food,points))"
   ]
  },
  {
   "cell_type": "markdown",
   "metadata": {
    "slideshow": {
     "slide_type": "slide"
    }
   },
   "source": [
    "## Putting all together\n",
    "\n",
    "In jupyter notebooks we can use widgets to get user inputs and to show outputs.\n",
    "\n",
    "The HTML widget represents the game and buttons get the user interactions.\n",
    "\n",
    "Buttons have an event handler, this is a function that trigger when the button is clicked. Depending on the button clicked the move will be [-1,0], [1,0], [0,-1] or [0,1].\n",
    "\n",
    "\n",
    "\n",
    "\n"
   ]
  },
  {
   "cell_type": "code",
   "execution_count": 48,
   "metadata": {
    "slideshow": {
     "slide_type": "slide"
    }
   },
   "outputs": [],
   "source": [
    "# Complete this function\n",
    "\n",
    "'''\n",
    "This is the event handler associated with the buttons\n",
    "Each time:\n",
    "- check what was the clicked button\n",
    "- do the movement\n",
    "\n",
    "'''\n",
    "def on_button_clicked(b):\n",
    "    desc=b.description\n",
    "    mov = [0,0]\n",
    "    if desc==\"^\":\n",
    "        mov=[-1,0]\n",
    "    elif desc==\"v\":\n",
    "        mov=[1,0]\n",
    "    elif desc==\">\":\n",
    "        mov=[0,1]\n",
    "    elif desc==\"<\":\n",
    "        mov=[0,-1]\n",
    "    \n",
    "    global pacman\n",
    "    global food\n",
    "    global points\n",
    "    \n",
    "    ########## modify here \n",
    "    # move the pacman using move\n",
    "    # check if there is food, eat food, increment points\n",
    "    pacman = move(pacman, mov)\n",
    "    \n",
    "    ########## modifica aquí   \n",
    "    visor.value = draw_gameHTML(board,pacman,food,points)"
   ]
  },
  {
   "cell_type": "code",
   "execution_count": 52,
   "metadata": {},
   "outputs": [],
   "source": [
    "import asyncio\n",
    "def wait_for_change(widget, value):\n",
    "    future = asyncio.Future()\n",
    "    def getvalue(change):\n",
    "        # make the new value available\n",
    "        future.set_result(change.new)\n",
    "        widget.unobserve(getvalue, value)\n",
    "    widget.observe(getvalue, value)\n",
    "    return future"
   ]
  },
  {
   "cell_type": "code",
   "execution_count": 67,
   "metadata": {
    "scrolled": false,
    "slideshow": {
     "slide_type": "slide"
    }
   },
   "outputs": [
    {
     "data": {
      "application/vnd.jupyter.widget-view+json": {
       "model_id": "159ea4ec919847d396cdcc2d3ed7a07f",
       "version_major": 2,
       "version_minor": 0
      },
      "text/plain": [
       "VBox(children=(HTML(value='<table> <tr><td><img src=\"./spritesPacman/block.jpg\" alt=\"\" border=0 height=50 widt…"
      ]
     },
     "metadata": {},
     "output_type": "display_data"
    },
    {
     "name": "stdout",
     "output_type": "stream",
     "text": [
      "w\n",
      "d\n",
      "a\n",
      "s\n",
      "w\n",
      "d\n",
      "a\n",
      "d\n",
      "a\n"
     ]
    }
   ],
   "source": [
    "'''\n",
    "Main jupyter cell of the game\n",
    "'''\n",
    "\n",
    "from IPython.display import display\n",
    "from ipywidgets import HTML, Dropdown ,Button, HBox, VBox, Box, Text\n",
    "\n",
    "# Each new game round we fill in the board with food\n",
    "comida = get_free_cells(board)               \n",
    "\n",
    "\n",
    "# visor HTML will render the game\n",
    "visor=HTML()\n",
    "visor.value = draw_gameHTML(board,pacman,food,points)\n",
    "\n",
    "# move buttons\n",
    "#up = Button(description=\"^\")\n",
    "#down = Button(description=\"v\")\n",
    "#right = Button(description=\">\")\n",
    "#left = Button(description=\"<\")\n",
    "\n",
    "#empty=Button(description=\" \")\n",
    "#empty.margin=2\n",
    "\n",
    "# add the event handler to the buttons\n",
    "#up.on_click(on_button_clicked)\n",
    "#down.on_click(on_button_clicked)\n",
    "#right.on_click(on_button_clicked)\n",
    "#left.on_click(on_button_clicked)\n",
    "\n",
    "# A box with a set of buttons\n",
    "#control=VBox([HBox([empty,up,empty]),HBox([left,down,right])])\n",
    "text=Text(\n",
    "    value='',\n",
    "    disabled=False\n",
    ")\n",
    "\n",
    "# The game is the html visor and the buttons\n",
    "#ui=VBox(children=[visor, control])\n",
    "ui=VBox(children=[visor, text])\n",
    "async def f():\n",
    "    for i in range(100):\n",
    "        x = await wait_for_change(text, 'value')\n",
    "        print(x)\n",
    "        text.value=''\n",
    "asyncio.ensure_future(f())\n",
    "display(ui)"
   ]
  },
  {
   "cell_type": "markdown",
   "metadata": {
    "slideshow": {
     "slide_type": "slide"
    }
   },
   "source": [
    "\n",
    "When a button is clicked, a function is executed, in this case the ** on_button_clicked ** function. This function receives the clicked button as an argument. From the description of the button you can know what button was pressed and what kind of movement we should use to update the position of pacman.\n",
    "\n",
    "The variables pacman, food and points are global variables, so within the function I have to indicate that these variables will be accessed.\n",
    "\n",
    "\n",
    "## Exercise\n",
    "\n",
    "Complete the function **on_button_clicked**.\n",
    "- move the pacman\n",
    "- eat the food \n",
    "- increment the points\n",
    "\n",
    "Try to use the previous defined functions.\n",
    "\n",
    "________\n",
    "________\n",
    "________\n",
    "________\n",
    "________\n",
    "________\n",
    "________\n",
    "________\n",
    "________\n",
    "________\n",
    "________"
   ]
  },
  {
   "cell_type": "markdown",
   "metadata": {
    "slideshow": {
     "slide_type": "slide"
    }
   },
   "source": [
    "## Solution  \n",
    "```Python\n",
    "    ########## paste this code in the correct place\n",
    "    posible_mov  = move(pacman,mov)\n",
    "    if is_free(board,posible_mov):\n",
    "        pacman = posible_mov\n",
    "    if is_food(pacman,food):\n",
    "        food.remove(pacman)\n",
    "        points+=1\n",
    "```\n",
    "\n",
    "After modifying **on_button_clicked** run again the main game cell"
   ]
  },
  {
   "cell_type": "code",
   "execution_count": null,
   "metadata": {},
   "outputs": [],
   "source": []
  }
 ],
 "metadata": {
  "celltoolbar": "Slideshow",
  "kernelspec": {
   "display_name": "Python 3",
   "language": "python",
   "name": "python3"
  },
  "language_info": {
   "codemirror_mode": {
    "name": "ipython",
    "version": 3
   },
   "file_extension": ".py",
   "mimetype": "text/x-python",
   "name": "python",
   "nbconvert_exporter": "python",
   "pygments_lexer": "ipython3",
   "version": "3.6.5"
  }
 },
 "nbformat": 4,
 "nbformat_minor": 2
}
