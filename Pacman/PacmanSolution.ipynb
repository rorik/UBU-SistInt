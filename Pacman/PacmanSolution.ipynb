{
 "cells": [
  {
   "cell_type": "markdown",
   "metadata": {},
   "source": [
    "# Pacman Solution\n",
    "\n",
    "## Index\n",
    "1. [Overview](#overview-header)\n",
    "0. [Game logic](#gamelogic-header)\n",
    "0. [Text output](#textout-header)\n",
    "0. [Simple graphical output](#simpleout-header)\n",
    "0. [Steps towards the objective](#intermediate-header)\n",
    "0. [Revised Graphical interface](#revisedout-header)\n",
    "\n",
    "## <a name=\"overview-header\"></a>Overview\n",
    "\n",
    "In this solution, the primary focus was to improve the html output function such that it looked very similar to the original game. This function must also work on any board configuration (procedurally generated boards).\n",
    "\n",
    "How the output should look like:\n",
    "![How the game should look](./assets/img/Pac-man.png \"How the game should look\")"
   ]
  },
  {
   "cell_type": "markdown",
   "metadata": {},
   "source": [
    "## <a name=\"gamelogic-header\"></a>Game logic\n",
    "\n",
    "Here are all the functions that allow the game to work properly"
   ]
  },
  {
   "cell_type": "code",
   "execution_count": 1,
   "metadata": {},
   "outputs": [],
   "source": [
    "def is_free(board, coordinate):\n",
    "    return board[coordinate[0]][coordinate[1]] == 0"
   ]
  },
  {
   "cell_type": "code",
   "execution_count": 2,
   "metadata": {},
   "outputs": [],
   "source": [
    "def get_free_cells(board):\n",
    "    free_cells = []\n",
    "    height = len(board)\n",
    "    width = len(board[0])\n",
    "    for i in range(height):\n",
    "        for j in range(width):\n",
    "            if is_free(board, [i, j]):\n",
    "                free_cells.append([i, j])\n",
    "    return free_cells"
   ]
  },
  {
   "cell_type": "code",
   "execution_count": 3,
   "metadata": {},
   "outputs": [],
   "source": [
    "def move(pacman, mov, board=None):\n",
    "    result = [pacman[0], pacman[1]]\n",
    "    result[0] += mov[0]\n",
    "    result[1] += mov[1]\n",
    "    if board is not None: # loop around board\n",
    "        if result[0] < 0:\n",
    "            result[0] = len(board) - 1\n",
    "        elif result[0] >= len(board):\n",
    "            result[0] = 0\n",
    "        if result[1] < 0:\n",
    "            result[1] = len(board[0]) - 1\n",
    "        elif result[1] >= len(board[0]):\n",
    "            result[1] = 0\n",
    "    return result"
   ]
  },
  {
   "cell_type": "code",
   "execution_count": 4,
   "metadata": {},
   "outputs": [],
   "source": [
    "def is_food(pacman, food):\n",
    "    return pacman in food"
   ]
  },
  {
   "cell_type": "code",
   "execution_count": 5,
   "metadata": {},
   "outputs": [],
   "source": [
    "def move(pacman, mov, board=None):\n",
    "    result = [pacman[0], pacman[1]]\n",
    "    result[0] += mov[0]\n",
    "    result[1] += mov[1]\n",
    "    if board is not None:\n",
    "        if result[0] < 0:\n",
    "            result[0] = 0\n",
    "        elif result[0] > len(board):\n",
    "            result[0] = len(board)\n",
    "        if result[1] < 0:\n",
    "            result[1] = 0\n",
    "        elif result[1] > len(board[0]):\n",
    "            result[1] = len(board[0])\n",
    "    return result"
   ]
  },
  {
   "cell_type": "code",
   "execution_count": 6,
   "metadata": {},
   "outputs": [],
   "source": [
    "def make_move(board, pacman, food, points, direction):\n",
    "    if direction == 0:\n",
    "        target = move(pacman, [-1, 0], board)\n",
    "    elif direction == 1:\n",
    "        target = move(pacman, [0, 1], board)\n",
    "    elif direction == 2:\n",
    "        target = move(pacman, [1, 0], board)\n",
    "    elif direction == 3:\n",
    "        target = move(pacman, [0, -1], board)\n",
    "    else:\n",
    "        return pacman, points, False\n",
    "    \n",
    "    modified = False\n",
    "    \n",
    "    if is_free(board, target):\n",
    "        pacman = target\n",
    "        modified = True\n",
    "        if is_food(pacman, food):\n",
    "            food.remove(pacman)\n",
    "            points += 10\n",
    "\n",
    "    return pacman, points, modified"
   ]
  },
  {
   "cell_type": "markdown",
   "metadata": {},
   "source": [
    "## <a name=\"textout-header\"></a>Textual interface\n",
    "\n",
    "This simple function prints the current status of the game. This is only meant to be used for debugging purposes.\n",
    "Each symbol represents a feature of the board:\n",
    "* `#` is a wall that the player cannot move into.\n",
    "* `.` is food that the player can eat, once eaten, the dot will be removed and an empty space (` `) will be shown. \n",
    "* `C` is the player."
   ]
  },
  {
   "cell_type": "code",
   "execution_count": 7,
   "metadata": {},
   "outputs": [],
   "source": [
    "def draw_game(board, pacman, food, points):\n",
    "    height = len(board)\n",
    "    width = len(board[0])\n",
    "    for i in range(height):\n",
    "        row = ''\n",
    "        for j in range(width):\n",
    "            coord = [i, j]\n",
    "            if pacman == coord:\n",
    "                row += 'C'\n",
    "            elif board[i][j] > 0:\n",
    "                row += '#'\n",
    "            elif is_food(coord, food):\n",
    "                row += '.'\n",
    "            else:\n",
    "                row += ' '\n",
    "        print(row)\n",
    "    print('Score: {}'.format(points))"
   ]
  },
  {
   "cell_type": "code",
   "execution_count": 8,
   "metadata": {},
   "outputs": [
    {
     "name": "stdout",
     "output_type": "stream",
     "text": [
      "##########\n",
      "#C.......#\n",
      "#.#.##.#.#\n",
      "#.#.##.#.#\n",
      "#.#.##.#.#\n",
      "#...##...#\n",
      "###.##.#.#\n",
      "###....###\n",
      "######...#\n",
      "########.#\n",
      "##########\n",
      "Score: 0\n"
     ]
    }
   ],
   "source": [
    "board = [[1, 1, 1, 1, 1, 1, 1, 1, 1, 1],\n",
    "         [1, 0, 0, 0, 0, 0, 0, 0, 0, 1],\n",
    "         [1, 0, 1, 0, 1, 1, 0, 1, 0, 1],\n",
    "         [1, 0, 1, 0, 1, 1, 0, 1, 0, 1],\n",
    "         [1, 0, 1, 0, 1, 1, 0, 1, 0, 1],\n",
    "         [1, 0, 0, 0, 1, 1, 0, 0, 0, 1],\n",
    "         [1, 1, 1, 0, 1, 1, 0, 1, 0, 1],\n",
    "         [1, 1, 1, 0, 0, 0, 0, 1, 1, 1],\n",
    "         [1, 1, 1, 1, 1, 1, 0, 0, 0, 1],\n",
    "         [1, 1, 1, 1, 1, 1, 1, 1, 0, 1],\n",
    "         [1, 1, 1, 1, 1, 1, 1, 1, 1, 1]]\n",
    "pacman = [1, 1]\n",
    "points = 0\n",
    "food = get_free_cells(board)\n",
    "draw_game(board, pacman, food, points)"
   ]
  },
  {
   "cell_type": "markdown",
   "metadata": {},
   "source": [
    "## <a name=\"simpleout-header\"></a>Simple graphical interface\n",
    "\n",
    "This output will be essentially the same as the text one, but with colors and shaped instead of symbols.\n",
    "\n",
    "No images are used, only pure HTML and CSS."
   ]
  },
  {
   "cell_type": "code",
   "execution_count": 9,
   "metadata": {},
   "outputs": [],
   "source": [
    "def draw_gameHTML(board, pacman, food, points):\n",
    "    html = '<link rel=\"stylesheet\" type=\"text/css\" href=\"./assets/css/common.css\">'\n",
    "    html += '<link rel=\"stylesheet\" type=\"text/css\" href=\"./assets/css/simple.css\">'\n",
    "    html += '\\n<div class=\"pacman-game\">'\n",
    "    html += '\\n\\t<table class=\"pacman-game-table simple\">'\n",
    "    height = len(board)\n",
    "    width = len(board[0])\n",
    "    cell = '\\n\\t\\t\\t<td class=\"cell\"><div class=\"container {}\"> </div></td>'\n",
    "    for i in range(height):\n",
    "        row = ''\n",
    "        for j in range(width):\n",
    "            coord = [i, j]\n",
    "            if pacman == coord:\n",
    "                row += cell.format('pacman')\n",
    "            elif board[i][j] > 0:\n",
    "                row += cell.format('wall')\n",
    "            elif is_food(coord, food):\n",
    "                row += cell.format('food')\n",
    "            else:\n",
    "                row += cell.format('empty')\n",
    "        html += '\\n\\t\\t<tr>{}\\n\\t\\t</tr>'.format(row)\n",
    "    html += '\\n\\t</table>'\n",
    "    html += '\\n\\t<span class=\"score-title\">Score:</span>'\n",
    "    html += '\\n\\t<span class=\"score-value\">{}</span>'.format(points)\n",
    "    html += '\\n</div>'\n",
    "    return html"
   ]
  },
  {
   "cell_type": "code",
   "execution_count": 10,
   "metadata": {},
   "outputs": [
    {
     "data": {
      "application/vnd.jupyter.widget-view+json": {
       "model_id": "ef67b4e147604865a71edb03550c3592",
       "version_major": 2,
       "version_minor": 0
      },
      "text/plain": [
       "HTML(value='<link rel=\"stylesheet\" type=\"text/css\" href=\"./assets/css/common.css\"><link rel=\"stylesheet\" type=…"
      ]
     },
     "metadata": {},
     "output_type": "display_data"
    }
   ],
   "source": [
    "from ipywidgets import HTML\n",
    "\n",
    "board = [[1, 1, 1, 1, 1, 1, 1, 1, 1, 1],\n",
    "         [1, 0, 0, 0, 0, 0, 0, 0, 0, 1],\n",
    "         [1, 0, 1, 0, 1, 1, 0, 1, 0, 1],\n",
    "         [1, 0, 1, 0, 1, 1, 0, 1, 0, 1],\n",
    "         [1, 0, 1, 0, 1, 1, 0, 1, 0, 1],\n",
    "         [1, 0, 0, 0, 1, 1, 0, 0, 0, 1],\n",
    "         [1, 1, 1, 0, 1, 1, 0, 1, 0, 1],\n",
    "         [1, 1, 1, 0, 0, 0, 0, 1, 1, 1],\n",
    "         [1, 1, 1, 1, 1, 1, 0, 0, 0, 1],\n",
    "         [1, 1, 1, 1, 1, 1, 1, 1, 0, 1],\n",
    "         [1, 1, 1, 1, 1, 1, 1, 1, 1, 1]]\n",
    "pacman = [1, 1]\n",
    "points = 0\n",
    "food = get_free_cells(board)\n",
    "HTML(draw_gameHTML(board, pacman, food, points))"
   ]
  },
  {
   "cell_type": "markdown",
   "metadata": {},
   "source": [
    "This output is good enough to visualize the board, but in the original game only adjacent walls are actually rendered, the rest are not drawn. One way to solve this is to **manually** change the value of these walls in the board."
   ]
  },
  {
   "cell_type": "code",
   "execution_count": 11,
   "metadata": {},
   "outputs": [],
   "source": [
    "def draw_gameHTML(board, pacman, food, points):\n",
    "    html = '<link rel=\"stylesheet\" type=\"text/css\" href=\"./assets/css/common.css\">'\n",
    "    html += '<link rel=\"stylesheet\" type=\"text/css\" href=\"./assets/css/simple.css\">'\n",
    "    html += '\\n<div class=\"pacman-game\">'\n",
    "    html += '\\n\\t<table class=\"pacman-game-table simple\">'\n",
    "    height = len(board)\n",
    "    width = len(board[0])\n",
    "    cell = '\\n\\t\\t\\t<td class=\"cell\"><div class=\"container {}\"> </div></td>'\n",
    "    for i in range(height):\n",
    "        row = ''\n",
    "        for j in range(width):\n",
    "            coord = [i, j]\n",
    "            if pacman == coord:\n",
    "                row += cell.format('pacman')\n",
    "            elif board[i][j] > 0:\n",
    "                if board[i][j] == 1:\n",
    "                    row += cell.format('wall')\n",
    "                else:\n",
    "                    row += cell.format('empty-wall')\n",
    "            elif is_food(coord, food):\n",
    "                row += cell.format('food')\n",
    "            else:\n",
    "                row += cell.format('empty')\n",
    "        html += '\\n\\t\\t<tr>{}\\n\\t\\t</tr>'.format(row)\n",
    "    html += '\\n\\t</table>'\n",
    "    html += '\\n\\t<span class=\"score-title\">Score:</span>'\n",
    "    html += '\\n\\t<span class=\"score-value\">{}</span>'.format(points)\n",
    "    html += '\\n</div>'\n",
    "    return html"
   ]
  },
  {
   "cell_type": "code",
   "execution_count": 12,
   "metadata": {
    "scrolled": true
   },
   "outputs": [
    {
     "data": {
      "application/vnd.jupyter.widget-view+json": {
       "model_id": "c9e53a4469a84212b461b61af301d043",
       "version_major": 2,
       "version_minor": 0
      },
      "text/plain": [
       "HTML(value='<link rel=\"stylesheet\" type=\"text/css\" href=\"./assets/css/common.css\"><link rel=\"stylesheet\" type=…"
      ]
     },
     "metadata": {},
     "output_type": "display_data"
    }
   ],
   "source": [
    "from ipywidgets import HTML\n",
    "\n",
    "board = [[1, 1, 1, 1, 1, 1, 1, 1, 1, 1],\n",
    "         [1, 0, 0, 0, 0, 0, 0, 0, 0, 1],\n",
    "         [1, 0, 1, 0, 1, 1, 0, 1, 0, 1],\n",
    "         [1, 0, 1, 0, 1, 1, 0, 1, 0, 1],\n",
    "         [1, 0, 1, 0, 1, 1, 0, 1, 0, 1],\n",
    "         [1, 0, 0, 0, 1, 1, 0, 0, 0, 1],\n",
    "         [1, 1, 1, 0, 1, 1, 0, 1, 0, 1],\n",
    "         [2, 2, 1, 0, 0, 0, 0, 1, 1, 1],\n",
    "         [2, 2, 1, 1, 1, 1, 0, 0, 0, 1],\n",
    "         [2, 2, 2, 2, 2, 1, 1, 1, 0, 1],\n",
    "         [2, 2, 2, 2, 2, 2, 2, 1, 1, 1]]\n",
    "pacman = [1, 1]\n",
    "points = 0\n",
    "food = get_free_cells(board)\n",
    "HTML(draw_gameHTML(board, pacman, food, points))"
   ]
  },
  {
   "cell_type": "markdown",
   "metadata": {},
   "source": [
    "While this solution is valid, it should be done automatically. Another thing that we want to fix is that all walls are to be connected with eachother, we don't want borders between walls."
   ]
  },
  {
   "cell_type": "markdown",
   "metadata": {},
   "source": [
    "## <a name=\"intermediate-header\"></a>Steps towards the objective\n",
    "\n",
    "In this section we'll try to make each wall aware of where it's situated and to what it should connect to or not.\n",
    "\n",
    "### Get adjacent cells\n",
    "The first step is to get a list with all the adjacent cells to a given coordinate."
   ]
  },
  {
   "cell_type": "code",
   "execution_count": 13,
   "metadata": {},
   "outputs": [],
   "source": [
    "def get_adjacent(board, center):\n",
    "    positions = [[-1, 0], [-1, 1], [0, 1], [1, 1], [1, 0], [1, -1], [0, -1], [-1, -1]] # Clockwise\n",
    "    height = len(board)\n",
    "    width = len(board[0])\n",
    "    adjacent_coords = []\n",
    "    adjacent_values = []\n",
    "    for i in range(8):\n",
    "        target = move(center, positions[i])\n",
    "        adjacent_coords.append(target)\n",
    "        if target[0] < 0 or target[1] < 0 or target[0] >= height or target[1] >= width:\n",
    "            adjacent_values.append(None)\n",
    "        else:\n",
    "            adjacent_values.append(board[target[0]][target[1]])\n",
    "    return adjacent_coords, adjacent_values\n"
   ]
  },
  {
   "cell_type": "markdown",
   "metadata": {},
   "source": [
    "The function `get_adjacent` returns two arrays, the first one containing the coordenates and the second the value on the board of that cell.\n",
    "\n",
    "Both arrays have length 8, corresponding to the North, North-East, East, South-East, South, South-West, West and North-West respectively.\n",
    "\n",
    "If there's no adjacent cell in a direction, the second array contains a `None` value.\n",
    "For example the position `[0, 0]` in the previous board would return all `None` except for East, South-East and South:"
   ]
  },
  {
   "cell_type": "code",
   "execution_count": 14,
   "metadata": {},
   "outputs": [
    {
     "name": "stdout",
     "output_type": "stream",
     "text": [
      "[None, None, 1, 0, 1, None, None, None]\n"
     ]
    }
   ],
   "source": [
    "print(get_adjacent(board, [0,0])[1])"
   ]
  },
  {
   "cell_type": "markdown",
   "metadata": {},
   "source": [
    "### Topographical board\n",
    "\n",
    "Now that we can each cell can know what's it's surrounded by, we can perform an advanced analysis of the whole board.\n",
    "\n",
    "We want to differenciate between the walls that are into direct contact with a path.\n",
    "\n",
    "To do this we'll assign a score to each cell:\n",
    "* For each directly adjacent (N, E, S or W) path, **5** points.\n",
    "* For each diagonally adjacent (NE, SE, SW or NW) path, **-1** points.\n",
    "* If it's a path all points are **set to 0.0** (not 0).\n",
    "\n",
    "The result will indicate the following:\n",
    "* **score == 0**, not a drawable wall.\n",
    "* **score is 0**, it's wall that shouldn't be drawn.\n",
    "* **score is 0.0**, it's a path, this is done to easily differenciate between non-drawable walls and non-existant paths. If compared with `==` it will return `True`, but with `is` it will return `False`.\n",
    "* **score < 0**, it's an outside corner, must be drawn.\n",
    "* **score > 0**, it's a drawable wall which comes into contact with the player."
   ]
  },
  {
   "cell_type": "code",
   "execution_count": 15,
   "metadata": {},
   "outputs": [],
   "source": [
    "def get_topographic_board(board):\n",
    "    topography = []\n",
    "    free_cells = get_free_cells(board)\n",
    "    for i in range(len(board)):\n",
    "        row = []\n",
    "        for j in range(len(board[0])):\n",
    "            row.append(0)\n",
    "        topography.append(row)\n",
    "    for cell in free_cells:\n",
    "        adjacent = get_adjacent(board, cell)\n",
    "        for i in range(4):\n",
    "            if adjacent[1][i*2] is not None:\n",
    "                topography[adjacent[0][i*2][0]][adjacent[0][i*2][1]] += 5\n",
    "            if adjacent[1][i*2+1] is not None:\n",
    "                topography[adjacent[0][i*2+1][0]][adjacent[0][i*2+1][1]] -= 1\n",
    "    for cell in free_cells:\n",
    "        topography[cell[0]][cell[1]] = 0.0\n",
    "    return topography"
   ]
  },
  {
   "cell_type": "code",
   "execution_count": 16,
   "metadata": {
    "scrolled": true
   },
   "outputs": [
    {
     "name": "stdout",
     "output_type": "stream",
     "text": [
      " -1   4   3   3   3   3   3   3   4  -1 \n",
      "  4 0.0 0.0 0.0 0.0 0.0 0.0 0.0 0.0   4 \n",
      "  3 0.0  11 0.0   7   7 0.0  11 0.0   3 \n",
      "  3 0.0   6 0.0   3   3 0.0   6 0.0   3 \n",
      "  3 0.0  11 0.0   3   3 0.0  11 0.0   3 \n",
      "  4 0.0 0.0 0.0   3   3 0.0 0.0 0.0   3 \n",
      " -1   4   7 0.0   7   7 0.0  12 0.0   4 \n",
      "  0   0   4 0.0 0.0 0.0 0.0   6   9  -2 \n",
      "  0   0  -1   4   3   8 0.0 0.0 0.0   4 \n",
      "  0   0   0   0   0  -1   4   8 0.0   4 \n",
      "  0   0   0   0   0   0   0  -1   5  -1 \n"
     ]
    }
   ],
   "source": [
    "topography = get_topographic_board(board)\n",
    "for i in range(len(board)):\n",
    "    row = ''\n",
    "    for j in range(len(board[0])):\n",
    "        row += str(topography[i][j]).rjust(3) + ' '\n",
    "    print(row)"
   ]
  },
  {
   "cell_type": "code",
   "execution_count": 17,
   "metadata": {},
   "outputs": [
    {
     "name": "stdout",
     "output_type": "stream",
     "text": [
      "[1, 1] -> 0.0\n",
      "[9, 1] -> 0\n",
      "[9, 2] -> 0\n",
      "topography[1][1] == topography[9][1] -> True\n",
      "topography[1][1] is topography[9][1] -> False\n",
      "topography[9][1] is topography[9][2] -> True\n"
     ]
    }
   ],
   "source": [
    "print('[1, 1] ->', topography[1][1])\n",
    "print('[9, 1] ->', topography[9][1])\n",
    "print('[9, 2] ->', topography[9][2])\n",
    "print('topography[1][1] == topography[9][1] ->' ,topography[1][1] == topography[9][1])\n",
    "print('topography[1][1] is topography[9][1] ->' ,topography[1][1] is topography[9][1])\n",
    "print('topography[9][1] is topography[9][2] ->' ,topography[9][1] is topography[9][2])"
   ]
  },
  {
   "cell_type": "markdown",
   "metadata": {},
   "source": [
    "### Advanced board\n",
    "Now that we have knowledge about every single wall that has to be drawn, we'll determine the connections between walls.\n",
    "\n",
    "To do this will generate a new board that on each coordinate contains information about it's neighbours."
   ]
  },
  {
   "cell_type": "code",
   "execution_count": 18,
   "metadata": {},
   "outputs": [],
   "source": [
    "def get_advanced_board(board):\n",
    "    advanced = []\n",
    "    topography = get_topographic_board(board)\n",
    "    height = len(board)\n",
    "    width = len(board[0])\n",
    "    for i in range(height):\n",
    "        row = []\n",
    "        for j in range(width):\n",
    "            if topography[i][j] != 0:\n",
    "                if topography[i][j] < 0:\n",
    "                    cell_type = 'C' # Corner\n",
    "                else:\n",
    "                    cell_type = 'W' # Wall\n",
    "            elif topography[i][j] is 0:\n",
    "                cell_type = 'N' # Non-drawable wall\n",
    "            else:\n",
    "                cell_type = 'P' # Path\n",
    "            neighbours = []\n",
    "            adjacent = get_adjacent(topography, [i, j])\n",
    "            for k in range(8):\n",
    "                if (adjacent[1][k] is not None and not isinstance(adjacent[1][k], float)): # if it's not a path\n",
    "                    neighbours.append(k)\n",
    "            row.append([cell_type, neighbours])\n",
    "        advanced.append(row)\n",
    "    return advanced\n",
    "    "
   ]
  },
  {
   "cell_type": "code",
   "execution_count": 19,
   "metadata": {
    "scrolled": true
   },
   "outputs": [
    {
     "name": "stdout",
     "output_type": "stream",
     "text": [
      " C  W  W  W  W  W  W  W  W  C \n",
      " W  P  P  P  P  P  P  P  P  W \n",
      " W  P  W  P  W  W  P  W  P  W \n",
      " W  P  W  P  W  W  P  W  P  W \n",
      " W  P  W  P  W  W  P  W  P  W \n",
      " W  P  P  P  W  W  P  P  P  W \n",
      " C  W  W  P  W  W  P  W  P  W \n",
      " N  N  W  P  P  P  P  W  W  C \n",
      " N  N  C  W  W  W  P  P  P  W \n",
      " N  N  N  N  N  C  W  W  P  W \n",
      " N  N  N  N  N  N  N  C  W  C \n"
     ]
    }
   ],
   "source": [
    "advanced = get_advanced_board(board)\n",
    "for i in range(len(board)):\n",
    "    row = ''\n",
    "    for j in range(len(board[0])):\n",
    "        row += str(advanced[i][j][0]).rjust(2) + ' '\n",
    "    print(row)"
   ]
  },
  {
   "cell_type": "markdown",
   "metadata": {},
   "source": [
    "Using the first element of the advanced board cell, we get it's type, therefore eliminating the problem of non-drawable walls."
   ]
  },
  {
   "cell_type": "code",
   "execution_count": 20,
   "metadata": {},
   "outputs": [
    {
     "name": "stdout",
     "output_type": "stream",
     "text": [
      "Wall connections of [0, 0]: [2, 4]\n",
      "Wall connections of [0, 1]: [2, 5, 6]\n",
      "Wall connections of [1, 1]: [0, 1, 3, 5, 6, 7]\n"
     ]
    }
   ],
   "source": [
    "print('Wall connections of [0, 0]:', advanced[0][0][1])\n",
    "print('Wall connections of [0, 1]:', advanced[0][1][1])\n",
    "print('Wall connections of [1, 1]:', advanced[1][1][1])"
   ]
  },
  {
   "cell_type": "markdown",
   "metadata": {},
   "source": [
    "And using the second element, we get the adjacent walls of the cell, therefore eliminating the problem of drawing walls together.\n",
    "\n",
    "Note that both topographical and advanced board are constant as long as the original board isn't modified, it isn't needed to call these methods more than once per game."
   ]
  },
  {
   "cell_type": "markdown",
   "metadata": {},
   "source": [
    "## <a name=\"revisedout-header\"></a>Revised Graphical interface\n",
    "With the newly created methods we need to modify the previous `draw_gameHTML` method.\n",
    "\n",
    "Due to retro-compatibility reasons, it will have a new name (`draw_advanced_game_html`)."
   ]
  },
  {
   "cell_type": "code",
   "execution_count": 21,
   "metadata": {},
   "outputs": [],
   "source": [
    "def draw_advanced_game_html(advanced_board, pacman, food, points):\n",
    "    html = '<link rel=\"stylesheet\" type=\"text/css\" href=\"./assets/css/common.css\">'\n",
    "    html += '<link rel=\"stylesheet\" type=\"text/css\" href=\"./assets/css/intermediate.css\">'\n",
    "    html += '\\n<div class=\"pacman-game\">'\n",
    "    html += '\\n\\t<table class=\"pacman-game-table intermediate\">'\n",
    "    height = len(board)\n",
    "    width = len(board[0])\n",
    "    cell = '\\n\\t\\t\\t<td class=\"cell\"><div class=\"container {}\"> </div></td>'\n",
    "    for i in range(height):\n",
    "        row = ''\n",
    "        for j in range(width):\n",
    "            coord = [i, j]\n",
    "            if pacman == coord:\n",
    "                row += cell.format('pacman')\n",
    "            elif advanced_board[i][j][0] == 'P':\n",
    "                if is_food(coord, food):\n",
    "                    row += cell.format('path food')\n",
    "                else:\n",
    "                    row += cell.format('path empty')\n",
    "            elif advanced_board[i][j][0] == 'N':\n",
    "                row += cell.format('empty-wall')\n",
    "            else: # Drawable wall\n",
    "                if advanced_board[i][j][0] == 'W':\n",
    "                    sides = ['north', 'east', 'south', 'west']\n",
    "                    for k in range(4):\n",
    "                        if 6 - k*2 in advanced_board[i][j][1]:\n",
    "                            sides.pop(3 - k)\n",
    "                    if i == 0:\n",
    "                        sides.remove('north')\n",
    "                    elif i == height - 1:\n",
    "                        sides.remove('south')\n",
    "                    if j == 0:\n",
    "                        sides.remove('west')\n",
    "                    elif j == width - 1:\n",
    "                        sides.remove('east')\n",
    "                    wall_format = 'wall ' + ' '.join(sides)\n",
    "                else:\n",
    "                    wall_format = 'corner'\n",
    "                    if 0 in advanced_board[i][j][1]:\n",
    "                        if 2 in advanced_board[i][j][1]:\n",
    "                            wall_format += ' northeast'\n",
    "                        if 6 in advanced_board[i][j][1]:\n",
    "                            wall_format += ' northwest'\n",
    "                    if 4 in advanced_board[i][j][1]:\n",
    "                        if 2 in advanced_board[i][j][1]:\n",
    "                            wall_format += ' southeast'\n",
    "                        if 6 in advanced_board[i][j][1]:\n",
    "                            wall_format += ' southwest'\n",
    "                row += cell.format(wall_format)\n",
    "        html += '\\n\\t\\t<tr>{}\\n\\t\\t</tr>'.format(row)\n",
    "    html += '\\n\\t</table>'\n",
    "    html += '\\n\\t<span class=\"score-title\">Score:</span>'\n",
    "    html += '\\n\\t<span class=\"score-value\">{}</span>'.format(points)\n",
    "    html += '\\n</div>'\n",
    "    return html"
   ]
  },
  {
   "cell_type": "code",
   "execution_count": 22,
   "metadata": {},
   "outputs": [
    {
     "data": {
      "application/vnd.jupyter.widget-view+json": {
       "model_id": "03e4609c61e4488991fdb163d9b3ec98",
       "version_major": 2,
       "version_minor": 0
      },
      "text/plain": [
       "HTML(value='<link rel=\"stylesheet\" type=\"text/css\" href=\"./assets/css/common.css\"><link rel=\"stylesheet\" type=…"
      ]
     },
     "metadata": {},
     "output_type": "display_data"
    }
   ],
   "source": [
    "from ipywidgets import HTML\n",
    "\n",
    "board = [[1, 1, 1, 1, 1, 1, 1, 1, 1, 1],\n",
    "         [1, 0, 0, 0, 0, 0, 0, 0, 0, 1],\n",
    "         [1, 0, 1, 0, 1, 1, 0, 1, 0, 1],\n",
    "         [1, 0, 1, 0, 1, 1, 0, 1, 0, 1],\n",
    "         [1, 0, 1, 0, 1, 1, 0, 1, 0, 1],\n",
    "         [1, 0, 0, 0, 1, 1, 0, 0, 0, 1],\n",
    "         [1, 1, 1, 0, 1, 1, 0, 1, 0, 1],\n",
    "         [1, 1, 1, 0, 0, 0, 0, 1, 1, 1],\n",
    "         [1, 1, 1, 1, 1, 1, 0, 0, 0, 1],\n",
    "         [1, 1, 1, 1, 1, 1, 1, 1, 0, 1],\n",
    "         [1, 1, 1, 1, 1, 1, 1, 1, 1, 1]]\n",
    "pacman = [1, 1]\n",
    "points = 0\n",
    "food = get_free_cells(board)\n",
    "advanced_board = get_advanced_board(board)\n",
    "HTML(draw_advanced_game_html(advanced_board, pacman, food, points))"
   ]
  },
  {
   "cell_type": "markdown",
   "metadata": {},
   "source": [
    "### Prettifying the interface\n",
    "\n",
    "Now that it's starting to look more like the game, is time to add the missing interface features.\n",
    "\n",
    "But first lets create the original board for future reference.\n"
   ]
  },
  {
   "cell_type": "code",
   "execution_count": 23,
   "metadata": {},
   "outputs": [],
   "source": [
    "def get_original_board():\n",
    "    board =[[1, 1, 1, 1, 1, 1, 1, 1, 1, 1, 1, 1, 1, 1, 1, 1, 1, 1, 1, 1, 1, 1, 1, 1, 1, 1, 1, 1],\n",
    "            [1, 0, 0, 0, 0, 0, 0, 0, 0, 0, 0, 0, 0, 1, 1, 0, 0, 0, 0, 0, 0, 0, 0, 0, 0, 0, 0, 1],\n",
    "            [1, 0, 1, 1, 1, 1, 0, 1, 1, 1, 1, 1, 0, 1, 1, 0, 1, 1, 1, 1, 1, 0, 1, 1, 1, 1, 0, 1],\n",
    "            [1, 0, 1, 1, 1, 1, 0, 1, 1, 1, 1, 1, 0, 1, 1, 0, 1, 1, 1, 1, 1, 0, 1, 1, 1, 1, 0, 1],\n",
    "            [1, 0, 1, 1, 1, 1, 0, 1, 1, 1, 1, 1, 0, 1, 1, 0, 1, 1, 1, 1, 1, 0, 1, 1, 1, 1, 0, 1],\n",
    "            [1, 0, 0, 0, 0, 0, 0, 0, 0, 0, 0, 0, 0, 0, 0, 0, 0, 0, 0, 0, 0, 0, 0, 0, 0, 0, 0, 1],\n",
    "            [1, 0, 1, 1, 1, 1, 0, 1, 1, 0, 1, 1, 1, 1, 1, 1, 1, 1, 0, 1, 1, 0, 1, 1, 1, 1, 0, 1],\n",
    "            [1, 0, 0, 0, 0, 0, 0, 1, 1, 0, 0, 0, 0, 1, 1, 0, 0, 0, 0, 1, 1, 0, 0, 0, 0, 0, 0, 1],\n",
    "            [1, 1, 1, 1, 1, 1, 0, 1, 1, 1, 1, 1, 2, 1, 1, 2, 1, 1, 1, 1, 1, 0, 1, 1, 1, 1, 1, 1],\n",
    "            [1, 1, 1, 1, 1, 1, 0, 1, 1, 2, 2, 2, 2, 2, 2, 2, 2, 2, 2, 1, 1, 0, 1, 1, 1, 1, 1, 1],\n",
    "            [1, 1, 1, 1, 1, 1, 0, 1, 1, 2, 1, 1, 1, 1, 1, 1, 1, 1, 2, 1, 1, 0, 1, 1, 1, 1, 1, 1],\n",
    "            [2, 2, 2, 2, 2, 2, 0, 2, 2, 2, 1, 1, 1, 1, 1, 1, 1, 1, 2, 2, 2, 0, 2, 2, 2, 2, 2, 2],\n",
    "            [1, 1, 1, 1, 1, 1, 0, 1, 1, 2, 1, 1, 1, 1, 1, 1, 1, 1, 2, 1, 1, 0, 1, 1, 1, 1, 1, 1],\n",
    "            [1, 1, 1, 1, 1, 1, 0, 1, 1, 2, 2, 2, 2, 2, 2, 2, 2, 2, 2, 1, 1, 0, 1, 1, 1, 1, 1, 1],\n",
    "            [1, 1, 1, 1, 1, 1, 0, 1, 1, 2, 1, 1, 1, 1, 1, 1, 1, 1, 2, 1, 1, 0, 1, 1, 1, 1, 1, 1],\n",
    "            [1, 0, 0, 0, 0, 0, 0, 0, 0, 0, 0, 0, 0, 1, 1, 0, 0, 0, 0, 0, 0, 0, 0, 0, 0, 0, 0, 1],\n",
    "            [1, 0, 1, 1, 1, 1, 0, 1, 1, 1, 1, 1, 0, 1, 1, 0, 1, 1, 1, 1, 1, 0, 1, 1, 1, 1, 0, 1],\n",
    "            [1, 0, 1, 1, 1, 1, 0, 1, 1, 1, 1, 1, 0, 1, 1, 0, 1, 1, 1, 1, 1, 0, 1, 1, 1, 1, 0, 1],\n",
    "            [1, 0, 0, 0, 1, 1, 0, 0, 0, 0, 0, 0, 0, 0, 0, 0, 0, 0, 0, 0, 0, 0, 1, 1, 0, 0, 0, 1],\n",
    "            [1, 1, 1, 0, 1, 1, 0, 1, 1, 0, 1, 1, 1, 1, 1, 1, 1, 1, 0, 1, 1, 0, 1, 1, 0, 1, 1, 1],\n",
    "            [1, 0, 0, 0, 0, 0, 0, 1, 1, 0, 0, 0, 0, 1, 1, 0, 0, 0, 0, 1, 1, 0, 0, 0, 0, 0, 0, 1],\n",
    "            [1, 0, 1, 1, 1, 1, 1, 1, 1, 1, 1, 1, 0, 1, 1, 0, 1, 1, 1, 1, 1, 1, 1, 1, 1, 1, 0, 1],\n",
    "            [1, 0, 0, 0, 0, 0, 0, 0, 0, 0, 0, 0, 0, 0, 0, 0, 0, 0, 0, 0, 0, 0, 0, 0, 0, 0, 0, 1],\n",
    "            [1, 1, 1, 1, 1, 1, 1, 1, 1, 1, 1, 1, 1, 1, 1, 1, 1, 1, 1, 1, 1, 1, 1, 1, 1, 1, 1, 1]]\n",
    "    pacman = [18, 13]\n",
    "    food = get_free_cells(board)\n",
    "    food.remove(pacman)\n",
    "    for row in board:\n",
    "        for j in range(len(row)):\n",
    "            if row[j] == 2:\n",
    "                row[j] = 0\n",
    "    return board, pacman, food"
   ]
  },
  {
   "cell_type": "code",
   "execution_count": 24,
   "metadata": {},
   "outputs": [],
   "source": [
    "def draw_advanced_game_html(advanced_board, pacman, food, points, lives=0, highscore=0, fruits=[], showHeader=True):\n",
    "    height = len(advanced_board)\n",
    "    width = len(advanced_board[0])\n",
    "    # assets\n",
    "    html  = '<link rel=\"stylesheet\" type=\"text/css\" href=\"./assets/css/common.css\">'\n",
    "    html += '<link rel=\"stylesheet\" type=\"text/css\" href=\"./assets/css/intermediate.css\">'\n",
    "    html += '\\n<div class=\"pacman-game font\">'\n",
    "    html += '\\n\\t<table class=\"pacman-game-table intermediate\">'\n",
    "    # header\n",
    "    if showHeader:\n",
    "        html += '\\n\\t\\t<tr><th colspan=\"{}\" class=\"pacman-game-header\">'.format(width)\n",
    "        html += '\\n\\t\\t\\t<div class=\"left\">'\n",
    "        html += '\\n\\t\\t\\t<span class=\"title lives animated blink repeat fast\">1UP</span>'\n",
    "        html += '\\n\\t\\t\\t<span class=\"value lives\">{}</span>'.format(str(points).zfill(2))\n",
    "        html += '\\n\\t\\t\\t</div>\\n\\t\\t\\t<div class=\"right\">'\n",
    "        html += '\\n\\t\\t\\t<span class=\"title score\">HIGH SCORE</span>\\n\\t\\t'\n",
    "        html += '\\n\\t\\t\\t<span class=\"value score\">{}</span>\\n\\t\\t</div></th></tr>'.format(str(max(points, highscore)).zfill(2))\n",
    "    # table cells\n",
    "    cell = '\\n\\t\\t\\t<td class=\"cell\"><div class=\"container {}\"> </div>{}</td>'\n",
    "    for i in range(height):\n",
    "        row = ''\n",
    "        for j in range(width):\n",
    "            coord = [i, j]\n",
    "            if advanced_board[i][j][0] == 'P':\n",
    "                cell_format = 'path'\n",
    "                if is_food(coord, food):\n",
    "                    cell_format += ' food'\n",
    "                else:\n",
    "                    cell_format += ' empty'\n",
    "            elif advanced_board[i][j][0] == 'N':\n",
    "                cell_format += 'empty-wall'\n",
    "            else: # Drawable wall\n",
    "                if advanced_board[i][j][0] == 'W':\n",
    "                    sides = ['north', 'east', 'south', 'west']\n",
    "                    for k in range(4):\n",
    "                        if 6 - k*2 in advanced_board[i][j][1]:\n",
    "                            sides.pop(3 - k)\n",
    "                    if i == 0:\n",
    "                        sides.remove('north')\n",
    "                    elif i == height - 1:\n",
    "                        sides.remove('south')\n",
    "                    if j == 0:\n",
    "                        sides.remove('west')\n",
    "                    elif j == width - 1:\n",
    "                        sides.remove('east')\n",
    "                    cell_format = 'wall ' + ' '.join(sides)\n",
    "                else:\n",
    "                    cell_format = 'corner'\n",
    "                    if 0 in advanced_board[i][j][1]:\n",
    "                        if 2 in advanced_board[i][j][1]:\n",
    "                            cell_format += ' northeast'\n",
    "                        if 6 in advanced_board[i][j][1]:\n",
    "                            cell_format += ' northwest'\n",
    "                    if 4 in advanced_board[i][j][1]:\n",
    "                        if 2 in advanced_board[i][j][1]:\n",
    "                            cell_format += ' southeast'\n",
    "                        if 6 in advanced_board[i][j][1]:\n",
    "                            cell_format += ' southwest'\n",
    "            if pacman == coord:\n",
    "                row += cell.format(cell_format, '<div class=\"front center\"><div class=\"front center sprite pacman\"></div></div>')\n",
    "            else:\n",
    "                row += cell.format(cell_format, '')\n",
    "        html += '\\n\\t\\t<tr>{}\\n\\t\\t</tr>'.format(row)\n",
    "    # footer\n",
    "    sprite = '\\n\\t\\t\\t\\t<div class=\"sprite {}\"></div>'\n",
    "    html += '\\n\\t\\t<tr><th colspan=\"{}\" class=\"pacman-game-footer\">'.format(width)\n",
    "    html += '\\n\\t\\t\\t<div class=\"lives\">'\n",
    "    html += sprite.format('life') * lives\n",
    "    html += '\\n\\t\\t\\t</div>\\n\\t\\t\\t<div class=\"fruits\">'\n",
    "    html += ' '.join([ sprite.format(fruit) for fruit in fruits[-7:] ])\n",
    "    html += '\\n\\t\\t\\t</div>'\n",
    "    html += '\\n\\t\\t</th></tr>' \n",
    "    html += '\\n\\t</table>'\n",
    "    html += '\\n</div>'\n",
    "    return html"
   ]
  },
  {
   "cell_type": "code",
   "execution_count": 25,
   "metadata": {
    "scrolled": false
   },
   "outputs": [
    {
     "data": {
      "application/vnd.jupyter.widget-view+json": {
       "model_id": "dc0f7d90980f48eb88c9bd38debbfa13",
       "version_major": 2,
       "version_minor": 0
      },
      "text/plain": [
       "HTML(value='<link rel=\"stylesheet\" type=\"text/css\" href=\"./assets/css/common.css\"><link rel=\"stylesheet\" type=…"
      ]
     },
     "metadata": {},
     "output_type": "display_data"
    }
   ],
   "source": [
    "board, pacman, food = get_original_board()\n",
    "points = 2640\n",
    "advanced_board = get_advanced_board(board)\n",
    "HTML(draw_advanced_game_html(advanced_board, pacman, food, points, 5,\n",
    "                             fruits=['apple', 'strawberry', 'orange', 'apple', 'melon', 'galaxian', 'bell', 'key']))"
   ]
  },
  {
   "cell_type": "markdown",
   "metadata": {},
   "source": [
    "### Adding animations"
   ]
  },
  {
   "cell_type": "code",
   "execution_count": 26,
   "metadata": {},
   "outputs": [
    {
     "data": {
      "application/vnd.jupyter.widget-view+json": {
       "model_id": "b1bafb16414c4b9ca3e0e50154c4b1cf",
       "version_major": 2,
       "version_minor": 0
      },
      "text/plain": [
       "HTML(value='<link rel=\"stylesheet\" type=\"text/css\" href=\"./assets/css/common.css\"><link rel=\"stylesheet\" type=…"
      ]
     },
     "metadata": {},
     "output_type": "display_data"
    }
   ],
   "source": [
    "directions = ['north', 'east', 'south', 'west']\n",
    "html  = '<link rel=\"stylesheet\" type=\"text/css\" href=\"./assets/css/common.css\">'\n",
    "html += '<link rel=\"stylesheet\" type=\"text/css\" href=\"./assets/css/intermediate.css\">'\n",
    "html += '\\n<div class=\"pacman-game font\">'\n",
    "html += '\\n\\t<table class=\"pacman-game-table intermediate\">'\n",
    "# Eating\n",
    "html += '\\n\\t\\t\\t<tr><td colspan=\"{}\"><span>Eating:</span></td></tr>'.format(len(directions) * 2 + 1)\n",
    "html += '\\n\\t\\t<tr>'\n",
    "html += '\\n\\t\\t\\t<td class=\"cell\"><div class=\"container path food\"></div></td>'\n",
    "for direction in directions:\n",
    "    html += '\\n\\t\\t\\t<td class=\"cell\"><div class=\"container path food\"></div>'\n",
    "    html += '<div class=\"front center\"><div class=\"sprite pacman animated mouth {} repeat fast\"></div></td>'.format(direction)\n",
    "    html += '\\n\\t\\t\\t<td class=\"cell\"><div class=\"container path food\"></div></td>'\n",
    "html += '\\n\\t\\t</tr>'\n",
    "# Moving\n",
    "html += '\\n\\t\\t\\t<tr><td colspan=\"{}\"><span>Moving:</span></td></tr>'.format(len(directions) * 2 + 1)\n",
    "html += '\\n\\t\\t\\t<tr>{}</tr>'.format('<td class=\"cell\"><div class=\"container path food\"></div></td>' * (len(directions) * 2 + 1))\n",
    "html += '\\n\\t\\t<tr>'\n",
    "html += '\\n\\t\\t\\t<td class=\"cell\"><div class=\"container path food\"></div></td>'\n",
    "for direction in directions:\n",
    "    html += '\\n\\t\\t\\t<td class=\"cell\"><div class=\"container path food\"></div>'\n",
    "    html += '<div class=\"front center\"><div class=\"sprite pacman animated move {} repeat fast\"></div></div></td>'.format(direction)\n",
    "    html += '\\n\\t\\t\\t<td class=\"cell\"><div class=\"container path food\"></div></td>'\n",
    "html += '\\n\\t\\t</tr>'\n",
    "html += '\\n\\t\\t\\t<tr>{}</tr>'.format('<td class=\"cell\"><div class=\"container path food\"></div></td>' * (len(directions) * 2 + 1))\n",
    "# Moving and eating\n",
    "html += '\\n\\t\\t\\t<tr><td colspan=\"{}\"><span>Both:</span></td></tr>'.format(len(directions) * 2 + 1)\n",
    "html += '\\n\\t\\t<tr>'\n",
    "html += '\\n\\t\\t\\t<tr>{}</tr>'.format('<td class=\"cell\"><div class=\"container path food\"></div></td>' * (len(directions) * 2 + 1))\n",
    "html += '\\n\\t\\t\\t<td class=\"cell\"><div class=\"container path food\"></div></td>'\n",
    "for direction in directions:\n",
    "    html += '\\n\\t\\t\\t<td class=\"cell\"><div class=\"container path food\"></div>'\n",
    "    html += '<div class=\"front center\"><div class=\"sprite pacman animated move mouth {} repeat\"></div></div></td>'.format(direction)\n",
    "    html += '\\n\\t\\t\\t<td class=\"cell\"><div class=\"container path food\"></div></td>'\n",
    "html += '\\n\\t\\t</tr>'\n",
    "html += '\\n\\t\\t\\t<tr>{}</tr>'.format('<td class=\"cell\"><div class=\"container path food\"></div></td>' * (len(directions) * 2 + 1))\n",
    "html += '\\n\\t</table>'\n",
    "html += '\\n</div>'\n",
    "HTML(html)"
   ]
  },
  {
   "cell_type": "markdown",
   "metadata": {},
   "source": [
    "### Move animation on output\n",
    "\n",
    "Now that we have animations, it's time to apply them on the draw function."
   ]
  },
  {
   "cell_type": "code",
   "execution_count": 27,
   "metadata": {},
   "outputs": [],
   "source": [
    "def draw_advanced_game_html(advanced_board, pacman, food, points, move_direction = 3, moved = False, lives=0, highscore=0, fruits=[], showHeader=True):\n",
    "    height = len(advanced_board)\n",
    "    width = len(advanced_board[0])\n",
    "    # assets\n",
    "    html  = '<link rel=\"stylesheet\" type=\"text/css\" href=\"./assets/css/common.css\">'\n",
    "    html += '<link rel=\"stylesheet\" type=\"text/css\" href=\"./assets/css/intermediate.css\">'\n",
    "    html += '\\n<div class=\"pacman-game font\">'\n",
    "    html += '\\n\\t<table class=\"pacman-game-table intermediate\">'\n",
    "    # header\n",
    "    if showHeader:\n",
    "        html += '\\n\\t\\t<tr><th colspan=\"{}\" class=\"pacman-game-header\">'.format(width)\n",
    "        html += '\\n\\t\\t\\t<div class=\"left\">'\n",
    "        html += '\\n\\t\\t\\t<span class=\"title lives animated blink repeat fast\">1UP</span>'\n",
    "        html += '\\n\\t\\t\\t<span class=\"value lives\">{}</span>'.format(str(points).zfill(2))\n",
    "        html += '\\n\\t\\t\\t</div>\\n\\t\\t\\t<div class=\"right\">'\n",
    "        html += '\\n\\t\\t\\t<span class=\"title score\">HIGH SCORE</span>\\n\\t\\t'\n",
    "        html += '\\n\\t\\t\\t<span class=\"value score\">{}</span>\\n\\t\\t</div></th></tr>'.format(str(max(points, highscore)).zfill(2))\n",
    "    # table cells\n",
    "    cell = '\\n\\t\\t\\t<td class=\"cell\"><div class=\"container {}\"> </div>{}</td>'\n",
    "    for i in range(height):\n",
    "        row = ''\n",
    "        for j in range(width):\n",
    "            coord = [i, j]\n",
    "            if advanced_board[i][j][0] == 'P':\n",
    "                cell_format = 'path'\n",
    "                if is_food(coord, food):\n",
    "                    cell_format += ' food'\n",
    "                else:\n",
    "                    cell_format += ' empty'\n",
    "            elif advanced_board[i][j][0] == 'N':\n",
    "                cell_format += 'empty-wall'\n",
    "            else: # Drawable wall\n",
    "                if advanced_board[i][j][0] == 'W':\n",
    "                    sides = ['north', 'east', 'south', 'west']\n",
    "                    for k in range(4):\n",
    "                        if 6 - k*2 in advanced_board[i][j][1]:\n",
    "                            sides.pop(3 - k)\n",
    "                    if i == 0:\n",
    "                        sides.remove('north')\n",
    "                    elif i == height - 1:\n",
    "                        sides.remove('south')\n",
    "                    if j == 0:\n",
    "                        sides.remove('west')\n",
    "                    elif j == width - 1:\n",
    "                        sides.remove('east')\n",
    "                    cell_format = 'wall ' + ' '.join(sides)\n",
    "                else:\n",
    "                    cell_format = 'corner'\n",
    "                    if 0 in advanced_board[i][j][1]:\n",
    "                        if 2 in advanced_board[i][j][1]:\n",
    "                            cell_format += ' northeast'\n",
    "                        if 6 in advanced_board[i][j][1]:\n",
    "                            cell_format += ' northwest'\n",
    "                    if 4 in advanced_board[i][j][1]:\n",
    "                        if 2 in advanced_board[i][j][1]:\n",
    "                            cell_format += ' southeast'\n",
    "                        if 6 in advanced_board[i][j][1]:\n",
    "                            cell_format += ' southwest'\n",
    "            if pacman == coord:\n",
    "                directions = ['north', 'east', 'south', 'west']\n",
    "                front_format = '<div class=\"front center\"><div class=\"sprite pacman {} {}\"></div></div>'.format('animated move mouth' if moved else '', directions[move_direction])\n",
    "            else:\n",
    "                front_format = ''\n",
    "            row += cell.format(cell_format, front_format)\n",
    "        html += '\\n\\t\\t<tr>{}\\n\\t\\t</tr>'.format(row)\n",
    "    # footer\n",
    "    sprite = '\\n\\t\\t\\t\\t<div class=\"sprite {}\"></div>'\n",
    "    html += '\\n\\t\\t<tr><th colspan=\"{}\" class=\"pacman-game-footer\">'.format(width)\n",
    "    html += '\\n\\t\\t\\t<div class=\"lives\">'\n",
    "    html += sprite.format('life') * lives\n",
    "    html += '\\n\\t\\t\\t</div>\\n\\t\\t\\t<div class=\"fruits\">'\n",
    "    html += ' '.join([ sprite.format(fruit) for fruit in fruits[-7:] ])\n",
    "    html += '\\n\\t\\t\\t</div>'\n",
    "    html += '\\n\\t\\t</th></tr>' \n",
    "    html += '\\n\\t</table>'\n",
    "    html += '\\n</div>'\n",
    "    return html"
   ]
  },
  {
   "cell_type": "markdown",
   "metadata": {},
   "source": [
    "## Keyboard input\n",
    "\n",
    "While using buttons is alright, we want to be able to control the game using our keyboard.\n",
    "\n",
    "Unfortunately there's no direct way of capturing key presses in jupyter. So we'll have to do some workarounds."
   ]
  },
  {
   "cell_type": "code",
   "execution_count": 28,
   "metadata": {},
   "outputs": [],
   "source": [
    "import asyncio\n",
    "def wait_for_change(widget, value):\n",
    "    future = asyncio.Future()\n",
    "    def getvalue(change):\n",
    "        future.set_result(change.new)\n",
    "        widget.unobserve(getvalue, value)\n",
    "    widget.observe(getvalue, value)\n",
    "    return future"
   ]
  },
  {
   "cell_type": "code",
   "execution_count": 29,
   "metadata": {},
   "outputs": [
    {
     "data": {
      "application/vnd.jupyter.widget-view+json": {
       "model_id": "2fde9db65fc94c88bd44dd49e6ef4f7d",
       "version_major": 2,
       "version_minor": 0
      },
      "text/plain": [
       "VBox(children=(Text(value=''),))"
      ]
     },
     "metadata": {},
     "output_type": "display_data"
    }
   ],
   "source": [
    "from IPython.display import display\n",
    "from ipywidgets import HTML, VBox, Text\n",
    "\n",
    "text = Text(\n",
    "    value = '',\n",
    "    disabled = False\n",
    ")\n",
    "ui=VBox(children=[text])\n",
    "async def listen_to_keys():\n",
    "    while True:\n",
    "        key = await wait_for_change(text, 'value')\n",
    "        if key == 'w':\n",
    "            text.value = 'Move north'\n",
    "        elif key == 'd':\n",
    "            text.value = 'Move east'\n",
    "        elif key == 's':\n",
    "            text.value = 'Move south'\n",
    "        elif key == 'a':\n",
    "            text.value = 'Move west'\n",
    "        else:\n",
    "            text.value = ''\n",
    "asyncio.ensure_future(listen_to_keys())\n",
    "display(ui)"
   ]
  },
  {
   "cell_type": "markdown",
   "metadata": {},
   "source": [
    "Albeit a bit crude, it works, we just need to hook it up to the game."
   ]
  },
  {
   "cell_type": "markdown",
   "metadata": {},
   "source": [
    "## Final touches"
   ]
  },
  {
   "cell_type": "code",
   "execution_count": 30,
   "metadata": {},
   "outputs": [
    {
     "data": {
      "application/vnd.jupyter.widget-view+json": {
       "model_id": "def847f03be5436fbf8ea1749a371867",
       "version_major": 2,
       "version_minor": 0
      },
      "text/plain": [
       "VBox(children=(HTML(value=''), Text(value='')))"
      ]
     },
     "metadata": {},
     "output_type": "display_data"
    }
   ],
   "source": [
    "from IPython.display import display\n",
    "from ipywidgets import HTML, VBox, Text\n",
    "\n",
    "def init_game():\n",
    "    board = [[1, 1, 1, 1, 1], [1, 0, 0, 0, 1], [1, 0, 0, 0, 1], [1, 0, 0, 0, 1], [1, 1, 1, 1, 1]]\n",
    "    gamestate = [board, [2, 2], get_free_cells(board), 0, get_advanced_board(board), 0, False]\n",
    "    gamestate[2].remove(gamestate[1])\n",
    "    return gamestate\n",
    "    \n",
    "def init_UI():\n",
    "    visor = HTML()\n",
    "    textbox = Text(\n",
    "        value = '',\n",
    "        disabled = False\n",
    "    )\n",
    "    ui=VBox(children=[visor, textbox])\n",
    "    display(ui)\n",
    "    return visor, textbox\n",
    "\n",
    "def draw(gamestate):\n",
    "    visor.value = draw_advanced_game_html(gamestate[4], gamestate[1], gamestate[2], gamestate[3], gamestate[5], gamestate[6], showHeader=False)\n",
    "\n",
    "async def listen_to_keys(gamestate, textbox):\n",
    "    while True:\n",
    "        key = await wait_for_change(textbox, 'value')\n",
    "        textbox.value = ''\n",
    "        if key == 'w':\n",
    "            direction = 0\n",
    "        elif key == 'd':\n",
    "            direction = 1\n",
    "        elif key == 's':\n",
    "            direction = 2\n",
    "        elif key == 'a':\n",
    "            direction = 3\n",
    "        elif key == 'r': # Reset\n",
    "            reset = init_game()\n",
    "            for i in range(len(reset)):\n",
    "                gamestate[i] = reset[i]\n",
    "            draw(gamestate)\n",
    "            continue\n",
    "        else:\n",
    "            continue\n",
    "        gamestate[1], gamestate[3], gamestate[6] = make_move(gamestate[0], gamestate[1], gamestate[2], gamestate[3], direction)\n",
    "        gamestate[5] = direction\n",
    "        draw(gamestate)\n",
    "        \n",
    "# Main\n",
    "gamestate = init_game()\n",
    "visor, textbox = init_UI()\n",
    "asyncio.ensure_future(listen_to_keys(gamestate, textbox))\n",
    "draw(gamestate)"
   ]
  },
  {
   "cell_type": "markdown",
   "metadata": {},
   "source": [
    "## The final game\n"
   ]
  },
  {
   "cell_type": "code",
   "execution_count": null,
   "metadata": {},
   "outputs": [],
   "source": []
  },
  {
   "cell_type": "code",
   "execution_count": null,
   "metadata": {},
   "outputs": [],
   "source": []
  },
  {
   "cell_type": "code",
   "execution_count": null,
   "metadata": {},
   "outputs": [],
   "source": []
  },
  {
   "cell_type": "code",
   "execution_count": null,
   "metadata": {},
   "outputs": [],
   "source": []
  },
  {
   "cell_type": "code",
   "execution_count": null,
   "metadata": {},
   "outputs": [],
   "source": []
  },
  {
   "cell_type": "code",
   "execution_count": null,
   "metadata": {},
   "outputs": [],
   "source": []
  },
  {
   "cell_type": "code",
   "execution_count": 31,
   "metadata": {},
   "outputs": [
    {
     "data": {
      "application/vnd.jupyter.widget-view+json": {
       "model_id": "f4c612e021d140889fb728a14ea11fb4",
       "version_major": 2,
       "version_minor": 0
      },
      "text/plain": [
       "VBox(children=(HTML(value=''), Text(value='')))"
      ]
     },
     "metadata": {},
     "output_type": "display_data"
    }
   ],
   "source": [
    "from IPython.display import display\n",
    "from ipywidgets import HTML, VBox, Text\n",
    "\n",
    "def init_game():\n",
    "    board, pacman, food = get_original_board()\n",
    "    gamestate = [board, pacman, food, 0, get_advanced_board(board), 0, False, 0, ['apple'], 100]\n",
    "    return gamestate\n",
    "    \n",
    "def init_UI():\n",
    "    visor = HTML()\n",
    "    textbox = Text(\n",
    "        value = '',\n",
    "        disabled = False\n",
    "    )\n",
    "    ui=VBox(children=[visor, textbox])\n",
    "    display(ui)\n",
    "    return visor, textbox\n",
    "\n",
    "def draw(gamestate):\n",
    "    visor.value = draw_advanced_game_html(gamestate[4], gamestate[1], gamestate[2], gamestate[3], gamestate[5], gamestate[6], lives=gamestate[7], fruits=gamestate[8])\n",
    "\n",
    "def step(gamestate, direction):\n",
    "        gamestate[1], gamestate[3], gamestate[6] = make_move(gamestate[0], gamestate[1], gamestate[2], gamestate[3], direction)\n",
    "        gamestate[5] = direction\n",
    "        if gamestate[3] >= gamestate[9]:\n",
    "            gamestate[9] += 100\n",
    "            gamestate[7] += 1\n",
    "        return gamestate\n",
    "    \n",
    "async def listen_to_keys(gamestate, textbox):\n",
    "    while True:\n",
    "        key = await wait_for_change(textbox, 'value')\n",
    "        textbox.value = ''\n",
    "        if key == 'w':\n",
    "            direction = 0\n",
    "        elif key == 'd':\n",
    "            direction = 1\n",
    "        elif key == 's':\n",
    "            direction = 2\n",
    "        elif key == 'a':\n",
    "            direction = 3\n",
    "        elif key == 'r': # Reset\n",
    "            reset = init_game()\n",
    "            for i in range(len(reset)):\n",
    "                gamestate[i] = reset[i]\n",
    "            draw(gamestate)\n",
    "            continue\n",
    "        else:\n",
    "            continue\n",
    "        step(gamestate, direction)\n",
    "        draw(gamestate)\n",
    "        \n",
    "# Main\n",
    "gamestate = init_game()\n",
    "visor, textbox = init_UI()\n",
    "asyncio.ensure_future(listen_to_keys(gamestate, textbox))\n",
    "draw(gamestate)"
   ]
  },
  {
   "cell_type": "code",
   "execution_count": null,
   "metadata": {},
   "outputs": [],
   "source": []
  }
 ],
 "metadata": {
  "kernelspec": {
   "display_name": "Python 3",
   "language": "python",
   "name": "python3"
  },
  "language_info": {
   "codemirror_mode": {
    "name": "ipython",
    "version": 3
   },
   "file_extension": ".py",
   "mimetype": "text/x-python",
   "name": "python",
   "nbconvert_exporter": "python",
   "pygments_lexer": "ipython3",
   "version": "3.6.5"
  }
 },
 "nbformat": 4,
 "nbformat_minor": 2
}
