{
 "cells": [
  {
   "cell_type": "markdown",
   "metadata": {},
   "source": [
    "# Kwirk (Modo Automático)\n",
    "\n",
    "**Lee este notebook con atención**\n",
    "\n",
    "En este notebook se carga código de notebooks anteriores, por lo que las funciones de los notebooks anteriores deberían haber sido realizadas y **probadas exhaustivamente** antes de empezar con este.\n",
    "\n",
    "Dado que este notebook carga código de notebooks anteriores, cada vez que se cambie o corrija uno de los notebooks anteriores **es necesario** recargar este notebook al completo.\n",
    "\n",
    "Este notebook constituye la segunda parte de la primera y más importante práctica obligatoria.\n",
    "\n",
    "### ¿Que se va a hacer?\n",
    "\n",
    "Se va a usar el algoritmo A\\* para resolver el juego del Kwirk.\n",
    "\n",
    "### ¿Como se va a hacer?\n",
    "\n",
    "- Se va a utilizar la implementación del A\\* realizada en el notebook \"Busqueda 2\". Si es necesario habrá que corregir la implementación del A\\* de Búsqueda 2 para que funcione este notebook correctamente. \n",
    "\n",
    "- Se van a implementar funciones para:\n",
    "    - obtener cuando un estado es meta.\n",
    "    - obtener cual es el valor heurístico de un estado.\n",
    "    - obtener los sucesores de un nodo. Para obtener los sucesores se va a utilizar la función **move** realizada en la primera parte de la práctica. \n",
    "\n",
    "Dado que la implementación de A\\* es genérica debe de funcionar con cualquier problema solo cambiando las funciones anteriores.\n",
    "\n",
    "---------------------------\n",
    "    \n",
    "A continuación se puede ver como usando la clase **DynamicCodeLoader** se puede cargar el código de los notebooks anteriores. Este ejemplo es solo para hacer pruebas, dado que la interfaz gráfica ya integra todo.\n",
    "\n",
    "Todo el código del Notebook de la primera parte de la práctica se guarda en el módulo *model* y todo el código del Notebook de 'Búsqueda 2' se guarda en el módulo *search*\n",
    "\n",
    "# Autores:\n",
    "- **Rodrigo Díaz García**\n",
    "- **Miguel Barriuso García**"
   ]
  },
  {
   "cell_type": "code",
   "execution_count": 1,
   "metadata": {},
   "outputs": [],
   "source": [
    "# Cargar Celda\n",
    "from DynamicCodeLoader import cargaCodigoDinamico\n",
    "\n",
    "# atento a los nombres que tengan tus notebook en tu PC\n",
    "model = cargaCodigoDinamico('Kwirk_2.ipynb', \"Model\")\n",
    "search = cargaCodigoDinamico('Busqueda_2.ipynb',\"Search\")"
   ]
  },
  {
   "cell_type": "markdown",
   "metadata": {},
   "source": [
    "### Ejemplo 1: Crear un estado y un nivel y manipularlo\n",
    "\n",
    "Se crea un estado y un nivel usando la clase **Loader**, el método **carga_nivel**"
   ]
  },
  {
   "cell_type": "code",
   "execution_count": 2,
   "metadata": {},
   "outputs": [],
   "source": [
    "# ejemplo de como se carga un nivel\n",
    "import os\n",
    "from Kwirk import Level, State\n",
    "from LoaderKwirk import Loader\n",
    "    \n",
    "l = Loader()\n",
    "l.get_all_levels()\n",
    "# os.sep es el separador de ficheros (\"/\" en linux \"\\\" en windows)\n",
    "level_txt = open(\".\"+os.sep+\"levels\"+os.sep+\"level_medio.txt\",'r').read()\n",
    "level, state = l.load_level(level_txt)"
   ]
  },
  {
   "cell_type": "markdown",
   "metadata": {},
   "source": [
    "A continuación el estado se manipula usando el método **move** que se definió en la primera parte de la práctica.\n",
    "\n",
    "Esta parte solo funcionará si esta terminado y corregido el notebook **P1_1_Kwirk_manual**"
   ]
  },
  {
   "cell_type": "code",
   "execution_count": 3,
   "metadata": {},
   "outputs": [
    {
     "name": "stdout",
     "output_type": "stream",
     "text": [
      "[[3, 4], [2, 1]]{(2, 2)}{(2, 4)}True\n",
      "False\n",
      "model.move(\n",
      "[(1, 1, 1, 1, 1, 1), (1, 0, 0, 1, 0, 1), (1, 0, 0, 0, 0, 1), (1, 0, 1, 0, 0, 1), (1, 1, 1, 1, 1, 1)](1, 4), \n",
      "[[3, 4], [2, 1]]{(2, 2)}{(2, 4)}True, \n",
      "[0, 1])\n",
      "[[3, 4], [2, 2]]{(2, 3)}{(2, 4)}False\n"
     ]
    }
   ],
   "source": [
    "# Ejemplos de Model\n",
    "print(state)\n",
    "print(model.is_goal(state))\n",
    "\n",
    "print(\"model.move(\\n{}, \\n{}, \\n{})\".format(level,state,[0,1]))\n",
    "new_state = model.move(level,model.change_turn(state),[0,1])\n",
    "print(new_state)"
   ]
  },
  {
   "cell_type": "markdown",
   "metadata": {},
   "source": [
    "Se puede si se quiere visualizar el estado original y el estado manipulado de forma gráfica."
   ]
  },
  {
   "cell_type": "code",
   "execution_count": 4,
   "metadata": {},
   "outputs": [
    {
     "data": {
      "application/vnd.jupyter.widget-view+json": {
       "model_id": "63b896fbf6ee4e3788cc0be89f7b68d0",
       "version_major": 2,
       "version_minor": 0
      },
      "text/plain": [
       "HTML(value='<style> img.game {width: 50px !important; height: 50px !important;}</style><table><tr><td><img cla…"
      ]
     },
     "metadata": {},
     "output_type": "display_data"
    }
   ],
   "source": [
    "# ejemplo de como se visualiza un nivel\n",
    "from UI import gui\n",
    "from ipywidgets import HTML\n",
    "ui = gui()\n",
    "htmlStr = ui.get_html(level, state)\n",
    "HTML(value = htmlStr)"
   ]
  },
  {
   "cell_type": "code",
   "execution_count": 5,
   "metadata": {},
   "outputs": [
    {
     "data": {
      "application/vnd.jupyter.widget-view+json": {
       "model_id": "bcddc21a8e4f4c9993b9d451bd1b3cd7",
       "version_major": 2,
       "version_minor": 0
      },
      "text/plain": [
       "HTML(value='<style> img.game {width: 50px !important; height: 50px !important;}</style><table><tr><td><img cla…"
      ]
     },
     "metadata": {},
     "output_type": "display_data"
    }
   ],
   "source": [
    "htmlStr = ui.get_html(level, new_state)\n",
    "HTML(value = htmlStr)"
   ]
  },
  {
   "cell_type": "markdown",
   "metadata": {},
   "source": [
    "### Ejemplo 2: Usar el algoritmo A\\* para hacer pathfinding\n",
    "\n",
    "En el módulo *search* tenemos una implementación de A\\* y funciones y variables para hacer *pathfinding* (El problema de ir de la coordenada A a la coordenada B en un espacio de estados de coordenadas sin cajas, agua ni nada).\n",
    "\n",
    "En el ejemplo de abajo, se crea un tablero, un estado inicial y un estado final.\n",
    "\n",
    "La función *creaNodoInicialPF* crea un nodo para el problema del PathFinding y además inicializa los valores de las variables globales search.estadoFinalPF y search.tablero, que se usan dentro de las funciones de heurística y sucesores.\n",
    "\n",
    "Una vez creado el nodo, se invoca a la función *search.AStar* pasandole dicho nodo y las funciones de meta, heurística y sucesores.\n",
    "\n",
    "Esta celda solo funcionará si está implementado y corregido el notebook **Busqueda 2**."
   ]
  },
  {
   "cell_type": "code",
   "execution_count": 6,
   "metadata": {},
   "outputs": [
    {
     "name": "stdout",
     "output_type": "stream",
     "text": [
      "[(1, 1), (1, 2), (1, 3), (1, 4), (2, 4), (3, 4), (3, 3), (4, 3), (5, 3), (5, 4), (5, 5), (5, 6)]\n"
     ]
    }
   ],
   "source": [
    "tablero = [[1,1,1,1,1,1,1,1],\n",
    "           [1,0,0,0,0,0,0,1],\n",
    "           [1,0,1,1,0,0,0,1],\n",
    "           [1,0,1,0,0,1,1,1],\n",
    "           [1,1,1,0,1,0,0,1],\n",
    "           [1,0,1,0,0,0,0,1],\n",
    "           [1,1,1,1,1,1,1,1]]\n",
    "\n",
    "estadoInicialPF = (1,1) #y,x\n",
    "estadoFinalPF = (5,6)\n",
    "\n",
    "\n",
    "def creaNodoInicialPF(ei,ef, tab, hPF):\n",
    "    \"\"\" Crea un nodo\n",
    "    Devuelve un nodo\n",
    "    Parámetros:\n",
    "    Estado inicial\n",
    "    Estado final, necesario para calcular la heurística\n",
    "    Tablero: necesario en la función de sucesores\n",
    "    Heurística, necesaria para calcular la F.\n",
    "    \"\"\"    \n",
    "    search.estadoFinalPF = ef \n",
    "    search.tablero = tab\n",
    "    \n",
    "    return search.Nodo(ei,None,0,hPF(ei))\n",
    "    \n",
    "    \n",
    "\n",
    "nodoInicialPF = creaNodoInicialPF(estadoInicialPF,\n",
    "                                  estadoFinalPF, \n",
    "                                  tablero, \n",
    "                                  search.heuristicaPF)\n",
    "\n",
    "solucion = search.AStar(nodoInicialPF,\n",
    "                        search.sucesoresPF, \n",
    "                        search.es_metaPF, \n",
    "                        search.heuristicaPF)\n",
    "print(solucion)"
   ]
  },
  {
   "cell_type": "markdown",
   "metadata": {},
   "source": [
    "## Que se necesita para resolver el Kwirk usando A\\*\n",
    "\n",
    "Se necesita:\n",
    "- Crear un nodo (proporcionado por el profesor)\n",
    "- Saber cuando un estado es meta (proporcionado por el profesor)\n",
    "- Función heurística (**Implementado por el alumno**)\n",
    "- Función de sucesores (**Implementado por el alumno**)\n",
    "\n",
    "\n",
    "Todas estas funciones estarán en celdas que comienzan por #Cargar Celda.\n",
    "Así el código del profesor podrá cargar las funciones desarrolladas por el alumno y usarlas en la interfaz gráfica."
   ]
  },
  {
   "cell_type": "markdown",
   "metadata": {},
   "source": [
    "#### Crear un nodo\n",
    "\n",
    "La función **nodo_inicial_Kwirk** crea un nodo inicial se Kwirk con el estado y el nivel especificado. Usa la función fH para calcular el valor heurístico.\n",
    "\n",
    "Además inicializa:\n",
    "- nivel_global. Una variable global que puede ser usada por las funciones de meta, de hurística y de sucesores\n",
    "- num_evaluados. Una variable que lleva la cuenta del número de nodos evaluados. Y saber posteriormente que implementación de heurística es mejor."
   ]
  },
  {
   "cell_type": "code",
   "execution_count": 7,
   "metadata": {},
   "outputs": [],
   "source": [
    "# Cargar Celda\n",
    "num_evaluados = 0\n",
    "coste_total = 0\n",
    "\n",
    "\n",
    "def nodo_inicial_Kwirk(nivel,estado,fH):\n",
    "    \"\"\" Crea un nodo de sokoban\n",
    "    Devuelve un nodo\n",
    "    Parámetros:\n",
    "    nivel que contiene el tablero y los destinos\n",
    "    estado inicial que contiene el jugador y las cajas\n",
    "    fH heurística usada para calcular la F.\n",
    "    \"\"\" \n",
    "    global nivel_global \n",
    "    global num_evaluados\n",
    "    nivel_global= nivel\n",
    "    \n",
    "    nodoInicial = search.Nodo(estado,\n",
    "                              None,\n",
    "                              0,\n",
    "                              fH(estado))\n",
    "\n",
    "    num_evaluados = 0 # reinicio el número de evaluados\n",
    "    \n",
    "    return nodoInicial\n",
    "\n",
    "\n"
   ]
  },
  {
   "cell_type": "markdown",
   "metadata": {},
   "source": [
    "#### Saber cuando es meta\n",
    "\n",
    "La función *meta_Sokoban* toma un nodo y va a devolver True si dicho nodo contiene un estado meta (todas las cajas están sobre los destinos, reutiliza es_meta de la primera parte).\n",
    "\n",
    "Además si es meta recupera el valor de G (el coste), para saber el coste de la solución.\n"
   ]
  },
  {
   "cell_type": "code",
   "execution_count": 8,
   "metadata": {},
   "outputs": [],
   "source": [
    "# Cargar Celda\n",
    "\n",
    "\n",
    "# goal\n",
    "def meta_Kwirk(nodo):\n",
    "    \"\"\" Consulta si un nodo contiene un estado meta\n",
    "    Devuelve True si es meta\n",
    "    Parámetros:\n",
    "    nodo a evaluar\n",
    "    \"\"\" \n",
    "    \n",
    "    global nivel_global\n",
    "    global coste_total\n",
    "    \n",
    "    estado = nodo.getEstado()\n",
    "    \n",
    "    es_meta = model.is_goal(estado)\n",
    "    if es_meta:\n",
    "        coste_total = nodo.getG()\n",
    "        \n",
    "\n",
    "    return es_meta"
   ]
  },
  {
   "cell_type": "markdown",
   "metadata": {},
   "source": [
    "#### Calcular valor heurístico\n",
    "\n",
    "**(A implementar por los alumnos)**\n",
    "\n",
    "Esta función tiene que devolver un valor númerico que estime los movimientos que faltan para llegar a la meta.\n",
    "\n",
    "Ejemplos:\n",
    "- $f_0$ Devuelve siempre 0. Es minorate, así que encontraría el camino más corto.\n",
    "- $f_1$ Devuelve la suma de distancias de manhatan entre la meta y los jugadores. Es minorante.\n",
    "- $f_2$ y $f_3$ Inventadas por el alumno para que tengan en cuenta el agua y las cajas\n",
    "\n",
    "$f_0 < f_1$ \n",
    "\n",
    "Cuanto mayor sea el valor heurístico menos nodos se explorarán y encontrará el camino mínimo siempre que sea minorante.\n"
   ]
  },
  {
   "cell_type": "code",
   "execution_count": 1,
   "metadata": {},
   "outputs": [
    {
     "data": {
      "text/plain": [
       "'\\ndef es_validaBox(estado):\\n    global nivel_global\\n    search.\\n    y, x = estado\\n    return y < len(tablero) and y >= 0 and x < len(tablero[0]) and x >= 0 and tablero[y][x] == 0\\n\\ndef sucesoresBox(nodo, heuristicaF):\\n    hijos = []\\n    for mov in search.posiblesMovs:\\n        target = (nodo.estado[0] + mov[0], nodo.estado[1] + mov[1])\\n        if search.es_validaPF(target) and es_validaBox(target):\\n            hijos.append(Nodo(target, nodo, 1, search.heuristicaPF(target)))    \\n    return hijos\\n'"
      ]
     },
     "execution_count": 1,
     "metadata": {},
     "output_type": "execute_result"
    }
   ],
   "source": [
    "# Cargar Celda\n",
    "def heuristica_Kwirk(estado):\n",
    "    \"\"\" Evalua el coste estimado desde un estado hasta la meta\n",
    "    Devuelve un número positivo mayor que 0\n",
    "    Parámetros:\n",
    "    estado a evaluar\n",
    "    \"\"\" \n",
    "    \n",
    "    global nivel_global\n",
    "    # cada vez que se invoca la heurística se incrementa en 1 el número de nodos evaluados\n",
    "    global num_evaluados\n",
    "    num_evaluados+=1\n",
    "    \n",
    "    if model.is_goal(estado):\n",
    "        return 0\n",
    "    cost = 0\n",
    "    for player in estado.get_players():\n",
    "        if player is not None:\n",
    "            cost += abs(player[0] - nivel_global.get_destination()[0]) + abs(player[1] - nivel_global.get_destination()[1])\n",
    "    \n",
    "    cost += len(estado.get_water())*100\n",
    "\n",
    "    return cost\n"
   ]
  },
  {
   "cell_type": "markdown",
   "metadata": {},
   "source": [
    "#### Crear sucesores\n",
    "\n",
    "Esta función debería de crear nodos sucesores. Siguiendo una de estas dos estrategías:\n",
    "\n",
    "Opción sencilla:\n",
    "- Habría un máximo de 5 sucesores, el resultado de ejecutar los movimientos arriba, abajo, derecha o izquierda y cambiar turno, si alguno de los movimientos no se puede ejecutar habría menos de 4 sucesores.\n",
    "\n",
    "Opción avanzada (ver pdf)\n",
    "- Habría 2 tipos de sucesores:\n",
    "    - Sucesores colocarse: Lleva el jugador actual hasta la meta o a una posición adyacente a una caja.\n",
    "    - Sucesores empujar: Empuja una caja\n",
    "    - Sucesores cambiar turno: Cambia el turno.\n",
    "    \n",
    "Si se puede ir a la meta se va a la meta. Si no, es que hay una caja o agua bloqueando el camino, así que habrá que ir junto a una caja para empujarla. Los desplazamientos hasta la meta o hasta las coordenadas adyacentes a una caja se harán con pathfinding.\n",
    "\n",
    "Con esta idea no se exploran estados intermedios en los que no existe ni la posibilidad de empujar una caja."
   ]
  },
  {
   "cell_type": "code",
   "execution_count": 2,
   "metadata": {},
   "outputs": [],
   "source": [
    "# Cargar Celda\n",
    "\n",
    "import copy\n",
    "\n",
    "def sucesores_Kwirk(nodo,hSoc):\n",
    "    global nivel_global\n",
    "    estado = nodo.getEstado()\n",
    "    g = nodo.getG()\n",
    "    hijos = []\n",
    "    player = estado.get_players()[not estado.get_turn()]\n",
    "    if player is None:\n",
    "        return hijos\n",
    "    \n",
    "    board = copy.deepcopy(nivel_global.get_board())\n",
    "    for water in estado.get_water():\n",
    "        board[water[0]] = board[water[0]][0:water[1]] + (1,) + board[water[0]][water[1]+1:]\n",
    "    for box in estado.get_boxes():\n",
    "        board[box[0]] = board[box[0]][0:box[1]] + (1,) + board[box[0]][box[1]+1:]\n",
    "    adversary = estado.get_players()[estado.get_turn()]\n",
    "    if adversary is not None:\n",
    "        board[adversary[0]] = board[adversary[0]][0:adversary[1]] + (1,) + board[adversary[0]][adversary[1]+1:]\n",
    "    \n",
    "    # Check if player can go directly to destination\n",
    "    nodoInicial = search.creaNodoInicialPF((player[0], player[1]), nivel_global.get_destination(), board, search.heuristicaPF)\n",
    "    destination_path = search.AStar(nodoInicial, search.sucesoresPF, search.es_metaPF, search.heuristicaPF)\n",
    "    if len(destination_path) > 0:\n",
    "        adversary_can_finish = True\n",
    "        # The other player must also be able to go to destination or the game would be soft-locked\n",
    "        if adversary is not None:\n",
    "            new_board = copy.deepcopy(board)\n",
    "            new_board[adversary[0]] = new_board[adversary[0]][0:adversary[1]] + (0,) + new_board[adversary[0]][adversary[1]+1:]\n",
    "            adversary_nodoInicial = search.creaNodoInicialPF((adversary[0], adversary[1]), nivel_global.get_destination(), new_board, search.heuristicaPF)\n",
    "            adversary_destination_path = search.AStar(adversary_nodoInicial, search.sucesoresPF, search.es_metaPF, search.heuristicaPF)\n",
    "            adversary_can_finish = len(adversary_destination_path) > 0\n",
    "        if (adversary_can_finish):\n",
    "            y_diff = destination_path[-1][0] - player[0]\n",
    "            x_diff = destination_path[-1][1] - player[1]\n",
    "            hijo = model.move(nivel_global,estado,[y_diff, x_diff])\n",
    "            hijos.append(search.Nodo(hijo, nodo, g+1, g+1+heuristica_Kwirk(hijo)))\n",
    "            return hijos\n",
    "    \n",
    "    # Get all avaialable spaces next to boxes\n",
    "    adjacent = set()\n",
    "    for box in estado.get_boxes():\n",
    "        for mov in [[1,0],[-1,0],[0,1],[0,-1]]:\n",
    "            y = box[0] + mov[0]\n",
    "            x = box[1] + mov[1]\n",
    "            if (y < len(nivel_global.get_board()) and y >= 0 and x < len(nivel_global.get_board()[0])\n",
    "                    and x >= 0 and nivel_global.get_board()[y][x] == 0\n",
    "                    and not any(water[0] == y and water[1] == x for water in estado.get_water())\n",
    "                    and not any(box[0] == y and box[1] == x for box in estado.get_boxes())\n",
    "                    and not any(player is not None and player[0] == y and player[1] == x for player in estado.get_players())):\n",
    "                adjacent.add((y,x))\n",
    "    \n",
    "    # Go to the available adjacent spaces next to the boxes if reachable\n",
    "    if len(adjacent) > 0:\n",
    "        for target in adjacent:\n",
    "            nodoInicial = search.creaNodoInicialPF((player[0], player[1]), target, board, search.heuristicaPF)\n",
    "            result = search.AStar(nodoInicial, search.sucesoresPF, search.es_metaPF, search.heuristicaPF)\n",
    "            if len(result) > 0:\n",
    "                y_diff = result[-1][0] - player[0]\n",
    "                x_diff = result[-1][1] - player[1]\n",
    "                hijo = model.move(nivel_global,estado,[y_diff, x_diff])\n",
    "                hijos.append(search.Nodo(hijo, nodo, g+1, g+1+heuristica_Kwirk(hijo)))\n",
    "    \n",
    "    # Check if it can push a box\n",
    "    for mov in [[1,0],[-1,0],[0,1],[0,-1]]:\n",
    "        y = player[0] + mov[0]\n",
    "        x = player[1] + mov[1]\n",
    "        if (y < len(nivel_global.get_board()) and y >= 0 and x < len(nivel_global.get_board()[0])\n",
    "                and x >= 0 and nivel_global.get_board()[y][x] == 0\n",
    "                and any(box[0] == y and box[1] == x for box in estado.get_boxes())):\n",
    "            hijo = model.move(nivel_global,estado,mov)\n",
    "            hijos.append(search.Nodo(hijo, nodo, g+1, g+1+heuristica_Kwirk(hijo)))\n",
    "\n",
    "    # Change turn if there's still another player\n",
    "    if adversary is not None:\n",
    "        hijo = model.change_turn(estado)\n",
    "        hijos.append(search.Nodo(hijo, nodo, g, g+heuristica_Kwirk(hijo)))\n",
    "\n",
    "    return hijos"
   ]
  },
  {
   "cell_type": "code",
   "execution_count": 11,
   "metadata": {},
   "outputs": [],
   "source": [
    "# Cargar Celda\n",
    "\n",
    "# Crea tantas celdas como necesites, si son funciones necesarias\n",
    "# para el juego deberán empezar por Cargar Celda\n"
   ]
  },
  {
   "cell_type": "markdown",
   "metadata": {},
   "source": [
    "# Probando las funciones\n",
    "\n",
    "La manera de probar las funciones es igual que en la primera parte de la práctica.\n",
    "\n",
    "Se carga un nivel donde tengamos la partida que queremos probar."
   ]
  },
  {
   "cell_type": "code",
   "execution_count": 12,
   "metadata": {},
   "outputs": [],
   "source": [
    "# Si tienes problemas empieza cargando los niveles más fáciles el 0, el 1\n",
    "# Aumenta la dificultad a medida que arregles los fallos.\n",
    "\n",
    "level_txt = open(\".\"+os.sep+\"levels\"+os.sep+\"level_medio.txt\",'r').read()\n",
    "level1, state1 = l.load_level(level_txt)\n"
   ]
  },
  {
   "cell_type": "markdown",
   "metadata": {},
   "source": [
    "Se usa el estado y el nivel para para crear un Nodo. **Siempre hay que crear un nodo inicial**. Las funciones de heurística y sucesores funcionan sobre nodos.\n",
    "La función de crear nodo es una de las funciones proporcionadas por el profesor."
   ]
  },
  {
   "cell_type": "code",
   "execution_count": 13,
   "metadata": {},
   "outputs": [
    {
     "data": {
      "text/plain": [
       "Nodo [[3, 4], [2, 1]]{(2, 2)}{(2, 4)}True(6)"
      ]
     },
     "execution_count": 13,
     "metadata": {},
     "output_type": "execute_result"
    }
   ],
   "source": [
    "nodoInicial = nodo_inicial_Kwirk(level1,state1,heuristica_Kwirk)    \n",
    "nodoInicial\n",
    "\n"
   ]
  },
  {
   "cell_type": "markdown",
   "metadata": {},
   "source": [
    "Después de crear el nodo inicial se pueden probar las funciones.\n"
   ]
  },
  {
   "cell_type": "code",
   "execution_count": 14,
   "metadata": {},
   "outputs": [
    {
     "data": {
      "text/plain": [
       "[Nodo [[3, 4], [2, 1]]{(2, 2)}{(2, 4)}True(7),\n",
       " Nodo [[3, 4], [2, 1]]{(2, 2)}{(2, 4)}True(7),\n",
       " Nodo [[3, 4], [2, 1]]{(2, 2)}{(2, 4)}True(7),\n",
       " Nodo [[3, 3], [2, 1]]{(2, 2)}{(2, 4)}True(8),\n",
       " Nodo [[3, 4], [2, 1]]{(2, 2)}{(2, 4)}False(6)]"
      ]
     },
     "execution_count": 14,
     "metadata": {},
     "output_type": "execute_result"
    }
   ],
   "source": [
    "sucesores = sucesores_Kwirk(nodoInicial,heuristica_Kwirk)\n",
    "sucesores"
   ]
  },
  {
   "cell_type": "markdown",
   "metadata": {},
   "source": [
    "Podemos probar el A\\* en su conjunto de la siguiente forma:"
   ]
  },
  {
   "cell_type": "code",
   "execution_count": 15,
   "metadata": {},
   "outputs": [
    {
     "name": "stdout",
     "output_type": "stream",
     "text": [
      "Solución \n",
      "[[3, 4], [2, 1]]{(2, 2)}{(2, 4)}True\n",
      "[[3, 4], [2, 1]]{(2, 2)}{(2, 4)}False\n",
      "[[3, 4], [2, 2]]{(2, 3)}{(2, 4)}False\n",
      "[[3, 4], [2, 3]]set()set()False\n",
      "[[3, 4], [2, 4]]set()set()False\n",
      "[[3, 4], None]set()set()True\n",
      "[[2, 4], None]set()set()True\n",
      "[None, None]set()set()True\n",
      "Nodos evaluados  115\n",
      "Coste de la solución  6\n"
     ]
    }
   ],
   "source": [
    "solucion = search.AStar(nodoInicial,\n",
    "                        sucesores_Kwirk, \n",
    "                        meta_Kwirk, \n",
    "                        heuristica_Kwirk)\n",
    "print(\"Solución \")\n",
    "for estado in solucion:\n",
    "    print(estado)\n",
    "print(\"Nodos evaluados \",num_evaluados)\n",
    "print(\"Coste de la solución \",coste_total)"
   ]
  },
  {
   "cell_type": "markdown",
   "metadata": {},
   "source": [
    "Podriamos visualizar la solución de manera gráfica así:"
   ]
  },
  {
   "cell_type": "code",
   "execution_count": 16,
   "metadata": {},
   "outputs": [
    {
     "data": {
      "application/vnd.jupyter.widget-view+json": {
       "model_id": "415a1fac07f74cfd9510dd1b09ec2b70",
       "version_major": 2,
       "version_minor": 0
      },
      "text/plain": [
       "VBox(children=(VBox(children=(HTML(value='<style> img.game {width: 50px !important; height: 50px !important;}<…"
      ]
     },
     "metadata": {},
     "output_type": "display_data"
    }
   ],
   "source": [
    "# mejor en chrome\n",
    "from ipywidgets import VBox, Label\n",
    "\n",
    "htmls = []\n",
    "for est in solucion:\n",
    "    htmlStr = ui.get_html(level1, est) # estoy cargando el mapa1\n",
    "    htmls.append(HTML(value = htmlStr))\n",
    "    \n",
    "\n",
    "\n",
    "from ipywidgets import Layout, Button, VBox\n",
    "\n",
    "box_layout = Layout(overflow_x='scroll',\n",
    "                    width='310px',\n",
    "                    height='',\n",
    "                    flex_direction='row',\n",
    "                    display='flex')\n",
    "carousel = VBox(children=htmls, layout=box_layout)\n",
    "VBox([carousel])"
   ]
  },
  {
   "cell_type": "markdown",
   "metadata": {},
   "source": [
    "Una vez hayas implementado y probado las funciones, trata de ejecutar el juego.\n",
    "\n",
    "El Mediador que es la clase que sirve de enganche entre las clases de interfaz y la funcionalidad, leerá las celdas que empiezan por \"# Cargar Celda\", cargará esas funciones dinámicamente y las usará para mover y comprobar si la partida finaliza."
   ]
  },
  {
   "cell_type": "code",
   "execution_count": 2,
   "metadata": {
    "scrolled": false
   },
   "outputs": [
    {
     "data": {
      "application/vnd.jupyter.widget-view+json": {
       "model_id": "1833d28ee84c4b5a995885e8db706a74",
       "version_major": 2,
       "version_minor": 0
      },
      "text/plain": [
       "VBox(children=(Dropdown(description='Elija nivel:', options=('level_1.txt', 'level_2.txt', 'level_3.txt', 'lev…"
      ]
     },
     "metadata": {},
     "output_type": "display_data"
    }
   ],
   "source": [
    "from IPython.display import display\n",
    "from Mediador import Mediator\n",
    "from UI import gui\n",
    "\n",
    "import warnings\n",
    "warnings.filterwarnings(\"ignore\")\n",
    "ui = gui(manual = False)\n",
    "\n",
    "med = Mediator.get_instance(modelPath = \"Kwirk_2.ipynb\",\n",
    "                           aStarPath = 'Busqueda_2.ipynb',\n",
    "                           nodesPath = \"Kwirk_3.ipynb\")\n",
    "\n",
    "med.register_ui(ui)\n",
    "\n",
    "\n",
    "# Cuando llamo a la función se crean\n",
    "display(ui.get_ui_elements())"
   ]
  },
  {
   "cell_type": "code",
   "execution_count": null,
   "metadata": {},
   "outputs": [],
   "source": []
  }
 ],
 "metadata": {
  "kernelspec": {
   "display_name": "Python 3",
   "language": "python",
   "name": "python3"
  },
  "language_info": {
   "codemirror_mode": {
    "name": "ipython",
    "version": 3
   },
   "file_extension": ".py",
   "mimetype": "text/x-python",
   "name": "python",
   "nbconvert_exporter": "python",
   "pygments_lexer": "ipython3",
   "version": "3.6.5"
  },
  "widgets": {
   "state": {
    "042bada4e434454aaa908b25461e3531": {
     "views": [
      {
       "cell_index": 6
      }
     ]
    },
    "70d5bfdaf81b4f57ba5f3ab63745e01f": {
     "views": [
      {
       "cell_index": 6
      }
     ]
    },
    "ae0d245cc8874fb6951e921b363d8c61": {
     "views": [
      {
       "cell_index": 6
      }
     ]
    },
    "cb210eb6fe2d4689bd59da4880bb4db2": {
     "views": [
      {
       "cell_index": 4
      }
     ]
    }
   },
   "version": "1.2.0"
  }
 },
 "nbformat": 4,
 "nbformat_minor": 2
}
