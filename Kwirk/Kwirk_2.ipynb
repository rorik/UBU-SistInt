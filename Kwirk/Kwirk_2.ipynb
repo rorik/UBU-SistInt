{
 "cells": [
  {
   "cell_type": "markdown",
   "metadata": {},
   "source": [
    "# Kwirk \n",
    "\n",
    "![](https://upload.wikimedia.org/wikipedia/en/8/80/Kwirk_Cover.png)\n",
    "\n",
    "# Organización del código en clases\n",
    "\n",
    "**Este es el primer notebook de para primera práctica obligatoria**.\n",
    "\n",
    "\n",
    "**Habrá un segundo notebook en el que se consigue que juegue de manera autónoma utilizando A\\* **\n",
    "\n",
    "----------------------------------------\n",
    "\n",
    "\n",
    "En esta primera parte de la práctica se va a estructurar el código de las funciones básicas (del notebook anterior) en clases para:\n",
    "1. Poder interactuar con las clases del profesor que controlan el flujo del juego.\n",
    "2. Dejar el código listo para su adaptación al modo automático usando A\\*.\n",
    "\n",
    "------------------\n",
    "# Autores:\n",
    "- **Rodrigo Díaz García**\n",
    "- **Miguel Barriuso García**\n",
    "\n"
   ]
  },
  {
   "cell_type": "markdown",
   "metadata": {},
   "source": [
    "** Para este notebook el profesor proporciona un conjunto de clases que el alumno no tiene que modificar, pero puede hacerlo si lo desea **.\n",
    "\n",
    "El profesor proporciona:\n",
    "1. Este notebook con las explicaciones y el *main*.\n",
    "2. La clase *ui* que implementa los controles (botones, desplegables, representación visual del juego).\n",
    "3. La clase *Mediator* que pone en contacto los componentes gráficos entre si y utiliza los métodos de la clase *State*, *Level*, *Model* y *Loader*.\n",
    "4. *State*: Funciones para la construcción y consulta de estados (jugadores, cajas ...). Módulo Kwirk (Kwirk.py)\n",
    "5. *Level*: Funciones para la construcción y consulta de niveles (tablero, destinos). Módulo Kwirk.\n"
   ]
  },
  {
   "cell_type": "markdown",
   "metadata": {},
   "source": [
    "## Descripción de las clases\n",
    "\n",
    "La representación del estado y de los niveles visto en el notebook de funciones básicas se ha organizado en clases.\n",
    "\n",
    "La clase State:\n",
    "- tiene un constructor que recibe los jugadores, las cajas, el agua y el turno del jugador (True mueve el primero, False mueve el segundo). \n",
    "- tiene un método **get_players** que devuelve los jugadores.\n",
    "- tiene un método **get_boxes** que devuelve las cajas.\n",
    "- tiene un método **get_water** que devuelve las coordenadas con agua.\n",
    "- tiene un método **get_turn** que devuelve a que jugador le toca mover.\n",
    "\n",
    "- tiene un método **\\_\\_str\\_\\_** que permite obtener la representación en modo texto del objeto y un método **\\_\\_repr\\_\\_** equivalente, para usarlo dentro de colecciones.\n",
    "\n",
    "- Tiene también un método que permite determinar si dos estados son iguales y también otro para calcular su _hash_."
   ]
  },
  {
   "cell_type": "markdown",
   "metadata": {},
   "source": [
    "La clase Level:\n",
    "- tiene un constructor que recibe el tablero y los destinos.\n",
    "- tiene un método **get_board** que devuelve el tablero. Las paredes y huecos.\n",
    "- tiene un método **get_destination** que devuelve el destino al que se deben dirigir los jugadores.\n",
    "- tiene un método **\\_\\_str\\_\\_** que permite obtener la representación en modo texto del objeto y un método **\\_\\_repr\\_\\_** equivalente."
   ]
  },
  {
   "cell_type": "markdown",
   "metadata": {},
   "source": [
    "Loader, UI, Mediator:"
   ]
  },
  {
   "cell_type": "code",
   "execution_count": null,
   "metadata": {},
   "outputs": [],
   "source": [
    "# ejemplo de como se carga un nivel\n",
    "import os\n",
    "from LoaderKwirk import Loader\n",
    "    \n",
    "l = Loader()\n",
    "l.get_all_levels()\n",
    "# os.sep es el separador de ficheros (\"/\" en linux \"\\\" en windows)\n",
    "level_txt = open(\".\"+os.sep+\"levels\"+os.sep+\"level_medio.txt\",'r').read()\n",
    "\n",
    "level, state = l.load_level(level_txt)"
   ]
  },
  {
   "cell_type": "code",
   "execution_count": null,
   "metadata": {},
   "outputs": [],
   "source": [
    "level.get_board()"
   ]
  },
  {
   "cell_type": "code",
   "execution_count": null,
   "metadata": {},
   "outputs": [],
   "source": [
    "# ejemplo de como se visualiza un nivel\n",
    "from UI import gui\n",
    "from ipywidgets import HTML\n",
    "ui = gui()\n",
    "htmlStr = ui.get_html(level, state)\n",
    "HTML(value = htmlStr)"
   ]
  },
  {
   "cell_type": "markdown",
   "metadata": {},
   "source": [
    "El alumno debe completar la implementación de los métodos de este notebook:\n",
    "\n",
    "\n",
    "## Funciones a implementar por el alumno\n",
    "\n",
    "Nota: En el notebook anterior se usaban variables globales. En este notebook los valores están encapsulados en objetos. Pero la funcionalidad es la misma.\n",
    "\n",
    "- `move(level,state,mov)`: Recibe un nivel, un estado y un movimiento. **Devuelve un nuevo estado** resultante de aplicar el movimiento, esta función puede reutilizar las funciones del notebook anterior.\n",
    "\n",
    "- `change_turn(state)`: Recibe un estado. **Devuelve un nuevo estado** con todo igual pero el turno cambiado.\n",
    "\n",
    "- `is_goal(state)`: Recibe un estado. Devuelve True si los dos jugadores son None (los dos jugadores han llegado a la meta y es un estado final).\n",
    "\n",
    "No debes borrar `# Cargar Celda`"
   ]
  },
  {
   "cell_type": "code",
   "execution_count": 2,
   "metadata": {},
   "outputs": [],
   "source": [
    "# Cargar Celda\n",
    "# NO tocar esta primera linea\n",
    "\n",
    "# Completa las funciones de esta celda y pruebalas en celdas posteriores\n",
    "# Reutiliza el código de las funciones básicas que te sirva\n",
    "from Kwirk import Level, State\n",
    "import pandas as pd\n",
    "import numpy as np\n",
    "import copy\n",
    "\n",
    "\n",
    "######## main functions\n",
    "def move(level,state,mov):\n",
    "    \"\"\" Move current player [1,0] up, [-1,0] down, [0,1] rigth, [0,-1] left\n",
    "    \n",
    "    Parameters\n",
    "    ----------\n",
    "    level -- a level\n",
    "    state -- a state\n",
    "    mov -- direction of the movement\n",
    "    \n",
    "    Returns\n",
    "    --------\n",
    "    Returns a new state or the same if the movment is not possible\n",
    "    \n",
    "    \"\"\"\n",
    "    player = state.get_players()[not state.get_turn()]\n",
    "    adversary = state.get_players()[state.get_turn()]\n",
    "    \n",
    "    if (player is None):\n",
    "        return state\n",
    "    \n",
    "    result = State(copy.deepcopy(state.get_players()), copy.deepcopy(state.get_boxes()), copy.deepcopy(state.get_water()), copy.copy(state.get_turn()))\n",
    "    position = [player[dim] + mov[dim] for dim in range(min(len(mov), len(player)))]\n",
    "    if level.board[position[0]][position[1]] == 1:\n",
    "        return state\n",
    "    if adversary is not None and adversary[0] == position[0] and adversary[1] == position[1]:\n",
    "        return state\n",
    "    for water in result.get_water():\n",
    "        if water[0] == position[0] and water[1] == position[1]:\n",
    "            return state\n",
    "    for box in result.get_boxes():\n",
    "        if box[0] == position[0] and box[1] == position[1]:\n",
    "            box_position = [position[dim] + mov[dim] for dim in range(min(len(mov), len(position)))]\n",
    "            # Wall\n",
    "            if level.board[box_position[0]][box_position[1]] == 1:\n",
    "                return state\n",
    "            \n",
    "            # Another player\n",
    "            if adversary is not None and adversary[0] == box_position[0] and adversary[1] == box_position[1]:\n",
    "                return state\n",
    "        \n",
    "            # Another box\n",
    "            result.boxes.remove(box)\n",
    "            if any(box2[0] == box_position[0] and box2[1] == box_position[1] for box2 in result.get_boxes()):\n",
    "                return state\n",
    "            \n",
    "            # Water\n",
    "            bridge = False\n",
    "            for water in result.get_water():\n",
    "                if water[0] == box_position[0] and water[1] == box_position[1]:\n",
    "                    result.water.remove(water)\n",
    "                    bridge = True\n",
    "                    break\n",
    "            # Grass\n",
    "            if not bridge:\n",
    "                result.boxes.add((box_position[0], box_position[1]))\n",
    "            break\n",
    "    \n",
    "    if level.get_destination()[0] == position[0] and level.get_destination()[1] == position[1]:\n",
    "        result.players[not state.get_turn()] = None\n",
    "        return change_turn(result)\n",
    "    \n",
    "    result.players[not state.get_turn()] = position\n",
    "    return result\n",
    "\n",
    "\n",
    "def change_turn(state):\n",
    "    \"\"\" Change the turn \n",
    "    \n",
    "    Parameters\n",
    "    ----------\n",
    "    state -- a state\n",
    "    \n",
    "    Returns\n",
    "    --------\n",
    "    Returns a new state or the same it not possible change turn\n",
    "    \"\"\"\n",
    "    if state.get_players()[state.get_turn()] is None:\n",
    "        return state\n",
    "    return State(copy.deepcopy(state.get_players()), copy.deepcopy(state.get_boxes()), copy.deepcopy(state.get_water()), not copy.copy(state.get_turn()))\n",
    "\n",
    "\n",
    "def is_goal(state):\n",
    "    \"\"\" Change the turn \n",
    "    \n",
    "    Parameters\n",
    "    ----------\n",
    "    state -- a state\n",
    "    \n",
    "    Returns\n",
    "    --------\n",
    "    Returns True if the state is a goal\n",
    "    \"\"\"\n",
    "    return all(player is None for player in state.get_players())"
   ]
  },
  {
   "cell_type": "raw",
   "metadata": {},
   "source": [
    "# Escribe a continuación tantas pruebas como sea necesario\n",
    "with open(\".\"+os.sep+\"levels\"+os.sep+\"level_medio.txt\",'r') as level_file:\n",
    "    level, state = l.load_level(level_file.read())\n",
    "\n",
    "expected_turn = state.turn\n",
    "assert(not is_goal(state))\n",
    "assert(state.turn == expected_turn)\n",
    "assert(state.players[state.turn] == [2,1])\n",
    "\n",
    "new_state = move(level, state, [0,-1])\n",
    "assert(new_state.players[state.turn] == [2,1])\n",
    "assert(new_state == state)\n",
    "assert(state.turn == expected_turn)\n",
    "assert(not is_goal(new_state))\n",
    "\n",
    "new_state = move(level, state, [-1,0])\n",
    "assert(new_state.players[state.turn] == [1,1])\n",
    "assert(new_state != state)\n",
    "assert(state.turn == expected_turn)\n",
    "assert(not is_goal(new_state))\n",
    "\n",
    "new_state = move(level, state, [1,0])\n",
    "assert(new_state.players[state.turn] == [3,1])\n",
    "assert(new_state != state)\n",
    "assert(state.turn == expected_turn)\n",
    "assert(not is_goal(new_state))\n",
    "\n",
    "new_state = move(level, state, [0,1])\n",
    "assert(new_state.players[state.turn] == [2,2])\n",
    "assert(new_state != state)\n",
    "state = new_state\n",
    "assert(new_state == state)\n",
    "assert(state.players[state.turn] == [2,2])\n",
    "assert(state.turn == expected_turn)\n",
    "assert(not is_goal(state))\n",
    "\n",
    "#htmlStr = ui.get_html(level, state)\n",
    "#HTML(value = htmlStr)\n",
    "\n",
    "state = move(level, state, [0,1])\n",
    "assert(state.players[state.turn] == [2,3])\n",
    "assert(state.turn == expected_turn)\n",
    "assert(not is_goal(state))\n",
    "change_turn(state)\n",
    "expected_turn = not expected_turn\n",
    "\n",
    "new_state = move(level, state, [-1,0])\n",
    "assert(new_state.players[state.turn] == [2,4])\n",
    "assert(new_state != state)\n",
    "assert(state.turn == expected_turn)\n",
    "assert(not is_goal(new_state))\n",
    "state = new_state\n",
    "\n",
    "state = move(level, state, [-1,0])\n",
    "assert(len(state.players) == len(new_state.players) - 1)\n",
    "assert(state.turn == expected_turn)\n",
    "\n",
    "state = move(level, state, [0,1])\n",
    "assert(state.players[state.turn] == [2,4])\n",
    "assert(state.turn == expected_turn)\n",
    "assert(not is_goal(state))\n",
    "\n",
    "state = move(level, state, [-1,0])\n",
    "assert(len(state.players) == 0)"
   ]
  },
  {
   "cell_type": "code",
   "execution_count": null,
   "metadata": {},
   "outputs": [],
   "source": [
    "HTML(value = htmlStr)"
   ]
  },
  {
   "cell_type": "code",
   "execution_count": null,
   "metadata": {},
   "outputs": [],
   "source": [
    "with open(\".\"+os.sep+\"levels\"+os.sep+\"level_medio.txt\",'r') as level_file:\n",
    "    level, state = l.load_level(level_file.read())\n",
    "state"
   ]
  },
  {
   "cell_type": "code",
   "execution_count": null,
   "metadata": {},
   "outputs": [],
   "source": [
    "# Convertir en pruebas unitarias si se desea\n",
    "# Use this code to create unit tests\n",
    "\n",
    "# os.sep es el separador de ficheros (\"/\" en linux \"\\\" en windows)\n",
    "level_txt = open(\".\"+os.sep+\"levels\"+os.sep+\"level_medio.txt\",'r').read()\n",
    "\n",
    "level, state = l.load_level(level_txt)\n",
    "print(state)\n",
    "s1 = change_turn(state)\n",
    "print(s1)\n",
    "s2 = move(level,s1,[0,1])\n",
    "print(s2)\n",
    "s3 = move(level,s2,[0,1])\n",
    "print(s3)\n",
    "s4 = move(level,s3,[0,1])\n",
    "print(s4)\n",
    "s5 = move(level,s4,[-1,0])\n",
    "print(s5)\n",
    "\n",
    "\n",
    "'''\n",
    "Imprimiría\n",
    "[[3, 4], [2, 1]]{(2, 2)}{(2, 4)}False\n",
    "[[3, 4], [2, 2]]{(2, 3)}{(2, 4)}False\n",
    "[[3, 4], [2, 3]]set()set()False\n",
    "[[3, 4], [2, 4]]set()set()False\n",
    "[[3, 4], None]set()set()True\n",
    "\n",
    "'''"
   ]
  },
  {
   "cell_type": "markdown",
   "metadata": {},
   "source": [
    "Una vez hayas implementado y probado las funciones, trata de ejecutar el juego.\n",
    "\n",
    "El Mediador, que es la clase que sirve de enganche entre las clases de interfaz y la funcionalidad, leerá las celdas que empiezan por \"`# Cargar Celda`\", cargará esas funciones dinámicamente, las usará para mover y comprobar si la partida finaliza.\n",
    "\n",
    "\n",
    "# Atención\n",
    "El código de abajo carga el notebook actual, por lo que si queremos que el funcionamiento se actualize debemos guardar el notebook y recargar todo el proyecto."
   ]
  },
  {
   "cell_type": "code",
   "execution_count": 1,
   "metadata": {
    "scrolled": false
   },
   "outputs": [
    {
     "data": {
      "application/vnd.jupyter.widget-view+json": {
       "model_id": "1c1ee5babd724d11a5d5234d2e0a7aae",
       "version_major": 2,
       "version_minor": 0
      },
      "text/plain": [
       "VBox(children=(Dropdown(description='Elija nivel:', options=('level_1.txt', 'level_2.txt', 'level_3.txt', 'lev…"
      ]
     },
     "metadata": {},
     "output_type": "display_data"
    }
   ],
   "source": [
    "from IPython.display import display\n",
    "from Mediador import Mediator\n",
    "from UI import gui\n",
    "ui = gui()\n",
    "\n",
    "import warnings\n",
    "warnings.filterwarnings(\"ignore\")\n",
    "\n",
    "med = Mediator.get_instance(modelPath = \"Kwirk_2.ipynb\")   \n",
    "med.register_ui(ui)\n",
    "\n",
    "\n",
    "# Cuando llamo a la función se crean\n",
    "display(ui.get_ui_elements())"
   ]
  }
 ],
 "metadata": {
  "kernelspec": {
   "display_name": "Python 3",
   "language": "python",
   "name": "python3"
  },
  "language_info": {
   "codemirror_mode": {
    "name": "ipython",
    "version": 3
   },
   "file_extension": ".py",
   "mimetype": "text/x-python",
   "name": "python",
   "nbconvert_exporter": "python",
   "pygments_lexer": "ipython3",
   "version": "3.6.5"
  },
  "widgets": {
   "state": {
    "042bada4e434454aaa908b25461e3531": {
     "views": [
      {
       "cell_index": 6
      }
     ]
    },
    "70d5bfdaf81b4f57ba5f3ab63745e01f": {
     "views": [
      {
       "cell_index": 6
      }
     ]
    },
    "ae0d245cc8874fb6951e921b363d8c61": {
     "views": [
      {
       "cell_index": 6
      }
     ]
    },
    "cb210eb6fe2d4689bd59da4880bb4db2": {
     "views": [
      {
       "cell_index": 4
      }
     ]
    }
   },
   "version": "1.2.0"
  }
 },
 "nbformat": 4,
 "nbformat_minor": 2
}
